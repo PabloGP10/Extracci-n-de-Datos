{
  "nbformat": 4,
  "nbformat_minor": 0,
  "metadata": {
    "colab": {
      "provenance": [],
      "include_colab_link": true
    },
    "kernelspec": {
      "name": "python3",
      "display_name": "Python 3"
    },
    "language_info": {
      "name": "python"
    }
  },
  "cells": [
    {
      "cell_type": "markdown",
      "metadata": {
        "id": "view-in-github",
        "colab_type": "text"
      },
      "source": [
        "<a href=\"https://colab.research.google.com/github/PabloGP10/Extracci-n-de-Datos/blob/main/microretailer.ipynb\" target=\"_parent\"><img src=\"https://colab.research.google.com/assets/colab-badge.svg\" alt=\"Open In Colab\"/></a>"
      ]
    },
    {
      "cell_type": "code",
      "execution_count": 1,
      "metadata": {
        "id": "SLSmsGwKb0dm"
      },
      "outputs": [],
      "source": [
        "#Importamos las librerias pandas, numpy y matplotlib respectivamente\n",
        "import pandas as pd\n",
        "import numpy as np\n",
        "import matplotlib.pyplot as plt\n"
      ]
    },
    {
      "cell_type": "code",
      "source": [
        "#Cargar archivo csv desde equipo\n",
        "from google.colab import files\n",
        "files.upload()"
      ],
      "metadata": {
        "id": "pjRT3eBZCzIE"
      },
      "execution_count": null,
      "outputs": []
    },
    {
      "cell_type": "code",
      "source": [
        "#cargar desde un archivo .xls sin indice\n",
        "Retailers= pd.read_excel('microretailer_mit_lift_lab.xlsx')\n",
        "Retailers.head(10)"
      ],
      "metadata": {
        "id": "P6qDmpHaCz98"
      },
      "execution_count": null,
      "outputs": []
    },
    {
      "cell_type": "code",
      "source": [
        "#indentificar valores nulos por columnas \n",
        "valores_nulos=Retailers.isnull().sum()\n",
        "valores_nulos"
      ],
      "metadata": {
        "id": "r3DzisT6DObW",
        "colab": {
          "base_uri": "https://localhost:8080/"
        },
        "outputId": "b312f5a7-b9c3-4555-84b7-fd728cb5cfaa"
      },
      "execution_count": 4,
      "outputs": [
        {
          "output_type": "execute_result",
          "data": {
            "text/plain": [
              "_record_id                                0\n",
              "_title                                    0\n",
              "_server_updated_at                        0\n",
              "_updated_by                               0\n",
              "_geometry                                 0\n",
              "                                       ... \n",
              "234_willingness_participate_workshop     73\n",
              "318_shopkeeper_name                     123\n",
              "319_shopkeepers_last_name               125\n",
              "236_whatsapp                            129\n",
              "235_email                               142\n",
              "Length: 106, dtype: int64"
            ]
          },
          "metadata": {},
          "execution_count": 4
        }
      ]
    },
    {
      "cell_type": "markdown",
      "source": [
        "**Valores Nulos**"
      ],
      "metadata": {
        "id": "5Z7-zdS2tUIG"
      }
    },
    {
      "cell_type": "code",
      "source": [
        "#indentificar valores nulos por columnas \n",
        "valores_nulos=Retailers.isnull().sum().sum()\n",
        "valores_nulos"
      ],
      "metadata": {
        "id": "m5Y45IfADTTz",
        "colab": {
          "base_uri": "https://localhost:8080/"
        },
        "outputId": "8c308377-872f-4d07-fbee-33ff5f4afc4a"
      },
      "execution_count": 5,
      "outputs": [
        {
          "output_type": "execute_result",
          "data": {
            "text/plain": [
              "9844"
            ]
          },
          "metadata": {},
          "execution_count": 5
        }
      ]
    },
    {
      "cell_type": "code",
      "source": [
        "Retailers_Sin_Nulos=Retailers.copy()\n",
        "Retailers_Sin_Nulos=Retailers_Sin_Nulos.fillna(method='bfill')\n",
        "Retailers_Sin_Nulos"
      ],
      "metadata": {
        "id": "XRgj-gWEr6ex"
      },
      "execution_count": null,
      "outputs": []
    },
    {
      "cell_type": "code",
      "source": [
        "#indentificar valores nulos por columnas \n",
        "valores_nulos=Retailers_Sin_Nulos.isnull().sum().sum()\n",
        "valores_nulos"
      ],
      "metadata": {
        "colab": {
          "base_uri": "https://localhost:8080/"
        },
        "id": "AYrhCrciFFiB",
        "outputId": "1fd1b42b-9599-4af6-ade4-22fa359537c0"
      },
      "execution_count": 7,
      "outputs": [
        {
          "output_type": "execute_result",
          "data": {
            "text/plain": [
              "1688"
            ]
          },
          "metadata": {},
          "execution_count": 7
        }
      ]
    },
    {
      "cell_type": "code",
      "source": [
        "Retailers_Sin_Nulos1=Retailers_Sin_Nulos.copy()\n",
        "Retailers_Sin_Nulos1=Retailers_Sin_Nulos1.fillna(method='ffill')\n",
        "Retailers_Sin_Nulos1"
      ],
      "metadata": {
        "id": "gylypi0yrqhQ"
      },
      "execution_count": null,
      "outputs": []
    },
    {
      "cell_type": "code",
      "source": [
        "#indentificar valores nulos por columnas \n",
        "valores_nulos=Retailers_Sin_Nulos1.isnull().sum().sum()\n",
        "valores_nulos"
      ],
      "metadata": {
        "colab": {
          "base_uri": "https://localhost:8080/"
        },
        "id": "S8-r596WrqkT",
        "outputId": "829065e3-d2cb-4e83-f23d-52ed9528027f"
      },
      "execution_count": 9,
      "outputs": [
        {
          "output_type": "execute_result",
          "data": {
            "text/plain": [
              "684"
            ]
          },
          "metadata": {},
          "execution_count": 9
        }
      ]
    },
    {
      "cell_type": "code",
      "source": [
        "#indentificar valores nulos por columnas \n",
        "valores_nulos=Retailers_Sin_Nulos1.isnull().sum()\n",
        "valores_nulos.head(53)"
      ],
      "metadata": {
        "colab": {
          "base_uri": "https://localhost:8080/"
        },
        "id": "HBYpJDCssJ1F",
        "outputId": "73a9d936-2d3d-491b-f27c-c2bf7d63ab82"
      },
      "execution_count": 10,
      "outputs": [
        {
          "output_type": "execute_result",
          "data": {
            "text/plain": [
              "_record_id                                                      0\n",
              "_title                                                          0\n",
              "_server_updated_at                                              0\n",
              "_updated_by                                                     0\n",
              "_geometry                                                       0\n",
              "_latitude                                                       0\n",
              "_longitude                                                      0\n",
              "228_store_name                                                  0\n",
              "229_store_picture                                               0\n",
              "232_type_of_store                                               0\n",
              "108_does_the_micro_retailer_has_a_barred_window_                0\n",
              "99_does_the_micro_retailer_exhibits_products_outside_           0\n",
              "102_does_the_micro_retailer_sells_fresh_products_               0\n",
              "97_number_of_customers_in_store                                 0\n",
              "268_number_fridges                                              0\n",
              "184_store_devices                                               0\n",
              "104_how_many_shelves_does_the_micro_retailer_have               0\n",
              "pictures_of_shelves_if_possible                                 0\n",
              "hola_somos_estudiantes_del_tec_de_monterrey_estamos_realiz      0\n",
              "le_comento_que_toda_esta_informacin_es_confidencial             0\n",
              "233_date_establishment                                          0\n",
              "2_current_permanent_employees                                   0\n",
              "4_number_permanent_employees_last_year                          0\n",
              "5_change_store_space_last_year                                  0\n",
              "6_change_employees_average_salary_last_year                     0\n",
              "20_reviews_finances_monthly                                     0\n",
              "49_inventory_records                                            0\n",
              "18_sales_records                                                0\n",
              "155_sales_registers_used_for                                    0\n",
              "103_number_own_fridges                                          0\n",
              "19_tax_id                                                       0\n",
              "145_number_direct_competitors                                   0\n",
              "310_burnout                                                     0\n",
              "24_burnout                                                      0\n",
              "186_internet_connection                                         0\n",
              "210_sales_channels                                              0\n",
              "189_payment_methods                                             0\n",
              "28_prefered_payment_method                                      0\n",
              "31_different_prices_payment_method                              0\n",
              "269_cash_discount                                               0\n",
              "270_card_extra_charge                                           0\n",
              "271_card_fee                                                  171\n",
              "272_card_days_receive_money                                     0\n",
              "273_platform_extra_charge                                     171\n",
              "274_platform_fee                                              171\n",
              "275_platform_days_receive_money                               171\n",
              "30_payment_methods_large_purchases                              0\n",
              "214_customer_relationship_tools                                 0\n",
              "33_credit_to_customers                                          0\n",
              "276_expected_days_informal_credit                               0\n",
              "35_interest_rate                                                0\n",
              "36_credit_default_rate                                          0\n",
              "38_average_margin_profits                                       0\n",
              "dtype: int64"
            ]
          },
          "metadata": {},
          "execution_count": 10
        }
      ]
    },
    {
      "cell_type": "code",
      "source": [
        "#Como se puede observar hay columnas con 171 nulos de 172 filas por lo que se considera cambiar por el estring \"Sin valor\"\n"
      ],
      "metadata": {
        "id": "77yY7KzTsJ33"
      },
      "execution_count": 12,
      "outputs": []
    },
    {
      "cell_type": "code",
      "source": [
        "#cuarto método de sustitución\n",
        "#sustituyo los valores nulos por un string en concreto\n",
        "Retailers_Sin_Nulos1=Retailers_Sin_Nulos1.fillna(\"Sin valor\")\n",
        "Retailers_Sin_Nulos1"
      ],
      "metadata": {
        "id": "OYioFYGhsJ6v"
      },
      "execution_count": null,
      "outputs": []
    },
    {
      "cell_type": "code",
      "source": [
        "#indentificar valores nulos totales\n",
        "valores_nulos=Retailers_Sin_Nulos1.isnull().sum().sum()\n",
        "valores_nulos"
      ],
      "metadata": {
        "colab": {
          "base_uri": "https://localhost:8080/"
        },
        "id": "RCRzwyDls_CL",
        "outputId": "d9bf4ef4-973a-4fe0-e899-a793de71e3f4"
      },
      "execution_count": 14,
      "outputs": [
        {
          "output_type": "execute_result",
          "data": {
            "text/plain": [
              "0"
            ]
          },
          "metadata": {},
          "execution_count": 14
        }
      ]
    },
    {
      "cell_type": "code",
      "source": [
        "#convertir a archivo xlsx\n",
        "Retailers_Sin_Nulos1.to_excel(\"Retailers_Sin_Nulos.xlsx\")"
      ],
      "metadata": {
        "id": "KXibqNSFtFEH"
      },
      "execution_count": null,
      "outputs": []
    },
    {
      "cell_type": "code",
      "source": [
        "#descargar archivo filtrado en xlsx\n",
        "from google.colab import files\n",
        "files.download(\"Retailers_Sin_Nulos.xlsx\")"
      ],
      "metadata": {
        "id": "g3ldPR1ptL9x"
      },
      "execution_count": null,
      "outputs": []
    },
    {
      "cell_type": "markdown",
      "source": [
        "**Outliers**"
      ],
      "metadata": {
        "id": "DMSI7qCatZai"
      }
    },
    {
      "cell_type": "code",
      "source": [
        "Retailers_Filtrado=Retailers_Sin_Nulos1.copy()\n"
      ],
      "metadata": {
        "id": "-SqkDypjsVSG"
      },
      "execution_count": 15,
      "outputs": []
    },
    {
      "cell_type": "code",
      "source": [
        "#Identificamos las variables no numéricas para eliminar columnas incecesarias \n",
        "#Verificamos información del DataFrame\n",
        "Retailers_Filtrado.info(106)"
      ],
      "metadata": {
        "id": "DQ0XdfRMFsp6",
        "colab": {
          "base_uri": "https://localhost:8080/"
        },
        "outputId": "bffe5fdb-bc3c-41f9-820c-c573fc206a8f"
      },
      "execution_count": 16,
      "outputs": [
        {
          "output_type": "stream",
          "name": "stdout",
          "text": [
            "<class 'pandas.core.frame.DataFrame'>\n",
            "RangeIndex: 171 entries, 0 to 170\n",
            "Data columns (total 106 columns):\n",
            " #    Column                                                      Dtype  \n",
            "---   ------                                                      -----  \n",
            " 0    _record_id                                                  object \n",
            " 1    _title                                                      object \n",
            " 2    _server_updated_at                                          object \n",
            " 3    _updated_by                                                 object \n",
            " 4    _geometry                                                   object \n",
            " 5    _latitude                                                   float64\n",
            " 6    _longitude                                                  float64\n",
            " 7    228_store_name                                              object \n",
            " 8    229_store_picture                                           object \n",
            " 9    232_type_of_store                                           object \n",
            " 10   108_does_the_micro_retailer_has_a_barred_window_            object \n",
            " 11   99_does_the_micro_retailer_exhibits_products_outside_       object \n",
            " 12   102_does_the_micro_retailer_sells_fresh_products_           object \n",
            " 13   97_number_of_customers_in_store                             int64  \n",
            " 14   268_number_fridges                                          float64\n",
            " 15   184_store_devices                                           object \n",
            " 16   104_how_many_shelves_does_the_micro_retailer_have           int64  \n",
            " 17   pictures_of_shelves_if_possible                             object \n",
            " 18   hola_somos_estudiantes_del_tec_de_monterrey_estamos_realiz  object \n",
            " 19   le_comento_que_toda_esta_informacin_es_confidencial         object \n",
            " 20   233_date_establishment                                      object \n",
            " 21   2_current_permanent_employees                               float64\n",
            " 22   4_number_permanent_employees_last_year                      float64\n",
            " 23   5_change_store_space_last_year                              object \n",
            " 24   6_change_employees_average_salary_last_year                 object \n",
            " 25   20_reviews_finances_monthly                                 object \n",
            " 26   49_inventory_records                                        object \n",
            " 27   18_sales_records                                            object \n",
            " 28   155_sales_registers_used_for                                object \n",
            " 29   103_number_own_fridges                                      float64\n",
            " 30   19_tax_id                                                   object \n",
            " 31   145_number_direct_competitors                               float64\n",
            " 32   310_burnout                                                 object \n",
            " 33   24_burnout                                                  float64\n",
            " 34   186_internet_connection                                     object \n",
            " 35   210_sales_channels                                          object \n",
            " 36   189_payment_methods                                         object \n",
            " 37   28_prefered_payment_method                                  object \n",
            " 38   31_different_prices_payment_method                          object \n",
            " 39   269_cash_discount                                           object \n",
            " 40   270_card_extra_charge                                       object \n",
            " 41   271_card_fee                                                object \n",
            " 42   272_card_days_receive_money                                 float64\n",
            " 43   273_platform_extra_charge                                   object \n",
            " 44   274_platform_fee                                            object \n",
            " 45   275_platform_days_receive_money                             object \n",
            " 46   30_payment_methods_large_purchases                          object \n",
            " 47   214_customer_relationship_tools                             object \n",
            " 48   33_credit_to_customers                                      object \n",
            " 49   276_expected_days_informal_credit                           float64\n",
            " 50   35_interest_rate                                            object \n",
            " 51   36_credit_default_rate                                      float64\n",
            " 52   38_average_margin_profits                                   object \n",
            " 53   193_sales_planning_tools                                    object \n",
            " 54   227_agreement_ecommerce_platforms                           object \n",
            " 55   60_services                                                 object \n",
            " 56   315_frequency_topups                                        float64\n",
            " 57   316_frequency_utility_bills                                 float64\n",
            " 58   317_home_deliveries                                         float64\n",
            " 59   62_frequency_only_services                                  float64\n",
            " 60   78_number_home_deliveries_week                              float64\n",
            " 61   77_delivery_timeslots                                       object \n",
            " 62   79_delivery_vehicle                                         object \n",
            " 63   64_comission_services                                       object \n",
            " 64   66_percentaje_services_income                               object \n",
            " 65   69_why_not_services                                         object \n",
            " 66   311_topups                                                  object \n",
            " 67   312_payment_of_utilities                                    object \n",
            " 68   313_home_deliveries                                         object \n",
            " 69   314_reception_delivery_packages                             object \n",
            " 70   42_willingness_share_inventory_data_suppliers               object \n",
            " 71   44_willingness_inventory_management_suppliers               object \n",
            " 72   45_willingness_reorder_suppliers                            object \n",
            " 73   46_willingness_reorder_suppliers_variety                    object \n",
            " 74   47_willingness_reorder_suppliers_lower_prices               object \n",
            " 75   43_willingness_share_sales_data_suppliers                   object \n",
            " 76   58_willingness_share_sales_data_mse                         object \n",
            " 77   59_willingness_share_sales_data_mse_better_prices           object \n",
            " 78   172_supplier_frequency                                      float64\n",
            " 79   185_place_orders_suppliers                                  object \n",
            " 80   53_special_conditions_suppliers                             object \n",
            " 81   278_credit_interest                                         object \n",
            " 82   192_procurement_planning_tools                              object \n",
            " 83   277_payment_method_suppliers                                object \n",
            " 84   56_procurement_changes_pandemic                             object \n",
            " 85   279_changes_procurement_pandemic                            object \n",
            " 86   157_frequency_organize_shelves                              object \n",
            " 87   158_charact_organize_products_on_shelves                    object \n",
            " 88   161_actions_stockouts                                       object \n",
            " 89   162_inventory_extra_space                                   object \n",
            " 90   163_number_high_perishable_products                         float64\n",
            " 91   249_technology_training                                     object \n",
            " 92   250_technology_investment_operations                        object \n",
            " 93   251_technology_investment_customers                         object \n",
            " 94   254_technology_roadmap                                      object \n",
            " 95   260_technology_scalable                                     object \n",
            " 96   261_technology_organization                                 object \n",
            " 97   262_technology_serve_customers                              object \n",
            " 98   263_technology_secure_sales                                 object \n",
            " 99   264_technology_budget                                       object \n",
            " 100  267_technology_investment_customer_preferences              object \n",
            " 101  234_willingness_participate_workshop                        object \n",
            " 102  318_shopkeeper_name                                         object \n",
            " 103  319_shopkeepers_last_name                                   object \n",
            " 104  236_whatsapp                                                float64\n",
            " 105  235_email                                                   object \n",
            "dtypes: float64(19), int64(2), object(85)\n",
            "memory usage: 141.7+ KB\n"
          ]
        }
      ]
    },
    {
      "cell_type": "code",
      "source": [
        "#aplicamos filtro de columnas para filtrar las columnas con variables numéricas (se descartaron las columnas que muestran números de telofóno y las coordenadas) \n",
        "Retailers_Filtrado1=Retailers_Filtrado.iloc[:,[13,14,16,21,22,29,31,33,42,49,51,56,57,58,59,60,78,90,]]#columnas no consecutivas\n",
        "Retailers_Filtrado1"
      ],
      "metadata": {
        "id": "qQGnh7Z_spFb"
      },
      "execution_count": null,
      "outputs": []
    },
    {
      "cell_type": "markdown",
      "source": [
        "**Método de cuartiles**"
      ],
      "metadata": {
        "id": "RuPW0xNOvDiv"
      }
    },
    {
      "cell_type": "code",
      "source": [
        "#Método aplicando Cuartiles. Encuentro cuartiles 0.25 y 0.75\n",
        "y=Retailers_Filtrado1\n",
        "\n",
        "percentile25=y.quantile(0.25) #Q1\n",
        "percentile75=y.quantile(0.75) #Q3\n",
        "iqr= percentile75 - percentile25\n",
        "\n",
        "Limite_Superior_iqr= percentile75 + 1.5*iqr\n",
        "Limite_Inferior_iqr= percentile25 - 1.5*iqr\n",
        "print(\"Limite superior permitido\", Limite_Superior_iqr)\n",
        "print(\"Limite inferior permitido\", Limite_Inferior_iqr)"
      ],
      "metadata": {
        "id": "BW00UUlkGg8o"
      },
      "execution_count": null,
      "outputs": []
    },
    {
      "cell_type": "code",
      "source": [
        "#Encontramos Outliers del Dataframe\n",
        "outliers_iqr= Retailers_Filtrado1[(y>Limite_Superior_iqr)|(y<Limite_Inferior_iqr)]\n",
        "outliers_iqr"
      ],
      "metadata": {
        "id": "QUfmECLlGw5k"
      },
      "execution_count": null,
      "outputs": []
    },
    {
      "cell_type": "code",
      "source": [
        "#Obtenemos datos limpios del Dataframe\n",
        "data3_iqr= Retailers_Filtrado1[(y<=Limite_Superior_iqr)&(y>=Limite_Inferior_iqr)]\n",
        "data3_iqr"
      ],
      "metadata": {
        "id": "DJ3bw-jjICzY"
      },
      "execution_count": null,
      "outputs": []
    },
    {
      "cell_type": "code",
      "source": [
        "#Corroboramos valores nulos del dataframe LIMPIO\n",
        "valores_nulos=data3_iqr.isnull().sum()\n",
        "valores_nulos"
      ],
      "metadata": {
        "colab": {
          "base_uri": "https://localhost:8080/"
        },
        "id": "MA8EqiyCIts_",
        "outputId": "773db095-fd38-45e3-e405-8f6f1b5af5c7"
      },
      "execution_count": 22,
      "outputs": [
        {
          "output_type": "execute_result",
          "data": {
            "text/plain": [
              "97_number_of_customers_in_store                       5\n",
              "268_number_fridges                                   10\n",
              "104_how_many_shelves_does_the_micro_retailer_have     9\n",
              "2_current_permanent_employees                         2\n",
              "4_number_permanent_employees_last_year                3\n",
              "103_number_own_fridges                                9\n",
              "145_number_direct_competitors                        20\n",
              "24_burnout                                            0\n",
              "272_card_days_receive_money                           5\n",
              "276_expected_days_informal_credit                     0\n",
              "36_credit_default_rate                               25\n",
              "315_frequency_topups                                 28\n",
              "316_frequency_utility_bills                           0\n",
              "317_home_deliveries                                  33\n",
              "62_frequency_only_services                           29\n",
              "78_number_home_deliveries_week                        0\n",
              "172_supplier_frequency                                0\n",
              "163_number_high_perishable_products                  11\n",
              "dtype: int64"
            ]
          },
          "metadata": {},
          "execution_count": 22
        }
      ]
    },
    {
      "cell_type": "code",
      "source": [
        "#Reemplazamos valores atípicos (nulos) del dataframe con \"mean\"\n",
        "#Realizamos una copia del dataframe\n",
        "data4_iqr=data3_iqr.copy()\n",
        "data4_iqr=data4_iqr.fillna(round(data3_iqr.mean(),1))\n",
        "data4_iqr"
      ],
      "metadata": {
        "id": "bj7KkONDI0NE"
      },
      "execution_count": null,
      "outputs": []
    },
    {
      "cell_type": "code",
      "source": [
        "Retailers_Filtrado2=data4_iqr.copy()"
      ],
      "metadata": {
        "id": "WOG4QxeyJF2g"
      },
      "execution_count": 24,
      "outputs": []
    },
    {
      "cell_type": "code",
      "source": [
        "#convertir a archivo xlsx\n",
        "Retailers_Filtrado2.to_excel(\"Retailers_Sin_Outliers.xlsx\")"
      ],
      "metadata": {
        "id": "CAXUqrQmtmwo"
      },
      "execution_count": 26,
      "outputs": []
    },
    {
      "cell_type": "code",
      "source": [
        "#descargar archivo filtrado en xlsx\n",
        "from google.colab import files\n",
        "files.download(\"Retailers_Sin_Outliers.xlsx\")"
      ],
      "metadata": {
        "id": "FoNGzV2rtxSs",
        "outputId": "08c9eddd-2ad5-4c0e-d1ab-667b669804af",
        "colab": {
          "base_uri": "https://localhost:8080/",
          "height": 17
        }
      },
      "execution_count": 27,
      "outputs": [
        {
          "output_type": "display_data",
          "data": {
            "text/plain": [
              "<IPython.core.display.Javascript object>"
            ],
            "application/javascript": [
              "\n",
              "    async function download(id, filename, size) {\n",
              "      if (!google.colab.kernel.accessAllowed) {\n",
              "        return;\n",
              "      }\n",
              "      const div = document.createElement('div');\n",
              "      const label = document.createElement('label');\n",
              "      label.textContent = `Downloading \"${filename}\": `;\n",
              "      div.appendChild(label);\n",
              "      const progress = document.createElement('progress');\n",
              "      progress.max = size;\n",
              "      div.appendChild(progress);\n",
              "      document.body.appendChild(div);\n",
              "\n",
              "      const buffers = [];\n",
              "      let downloaded = 0;\n",
              "\n",
              "      const channel = await google.colab.kernel.comms.open(id);\n",
              "      // Send a message to notify the kernel that we're ready.\n",
              "      channel.send({})\n",
              "\n",
              "      for await (const message of channel.messages) {\n",
              "        // Send a message to notify the kernel that we're ready.\n",
              "        channel.send({})\n",
              "        if (message.buffers) {\n",
              "          for (const buffer of message.buffers) {\n",
              "            buffers.push(buffer);\n",
              "            downloaded += buffer.byteLength;\n",
              "            progress.value = downloaded;\n",
              "          }\n",
              "        }\n",
              "      }\n",
              "      const blob = new Blob(buffers, {type: 'application/binary'});\n",
              "      const a = document.createElement('a');\n",
              "      a.href = window.URL.createObjectURL(blob);\n",
              "      a.download = filename;\n",
              "      div.appendChild(a);\n",
              "      a.click();\n",
              "      div.remove();\n",
              "    }\n",
              "  "
            ]
          },
          "metadata": {}
        },
        {
          "output_type": "display_data",
          "data": {
            "text/plain": [
              "<IPython.core.display.Javascript object>"
            ],
            "application/javascript": [
              "download(\"download_0d95de02-7217-44f3-8521-5f12031fa0fa\", \"Retailers_Sin_Outliers.xlsx\", 15914)"
            ]
          },
          "metadata": {}
        }
      ]
    }
  ]
}