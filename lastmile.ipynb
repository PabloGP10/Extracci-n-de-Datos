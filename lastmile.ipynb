{
  "nbformat": 4,
  "nbformat_minor": 0,
  "metadata": {
    "colab": {
      "provenance": [],
      "include_colab_link": true
    },
    "kernelspec": {
      "name": "python3",
      "display_name": "Python 3"
    },
    "language_info": {
      "name": "python"
    }
  },
  "cells": [
    {
      "cell_type": "markdown",
      "metadata": {
        "id": "view-in-github",
        "colab_type": "text"
      },
      "source": [
        "<a href=\"https://colab.research.google.com/github/PabloGP10/Extracci-n-de-Datos/blob/main/lastmile.ipynb\" target=\"_parent\"><img src=\"https://colab.research.google.com/assets/colab-badge.svg\" alt=\"Open In Colab\"/></a>"
      ]
    },
    {
      "cell_type": "code",
      "execution_count": null,
      "metadata": {
        "id": "SLSmsGwKb0dm"
      },
      "outputs": [],
      "source": [
        "#Importamos las librerias pandas, numpy y matplotlib respectivamente\n",
        "import pandas as pd\n",
        "import numpy as np\n",
        "import matplotlib.pyplot as plt\n"
      ]
    },
    {
      "cell_type": "code",
      "source": [
        "#Cargar archivo csv desde equipo\n",
        "from google.colab import files\n",
        "files.upload()"
      ],
      "metadata": {
        "id": "pjRT3eBZCzIE"
      },
      "execution_count": null,
      "outputs": []
    },
    {
      "cell_type": "code",
      "source": [
        "#Carga desde un archivo .csv sin indice\n",
        "data = pd.read_csv('lastmile_delivery_operations_mit_lift_lab.csv')\n",
        "data.head(5)"
      ],
      "metadata": {
        "id": "P6qDmpHaCz98"
      },
      "execution_count": null,
      "outputs": []
    },
    {
      "cell_type": "code",
      "source": [
        "#Identificar valores nulos por columna\n",
        "valores_nulos=data.isnull().sum()\n",
        "valores_nulos"
      ],
      "metadata": {
        "colab": {
          "base_uri": "https://localhost:8080/"
        },
        "id": "AYrhCrciFFiB",
        "outputId": "e1c5fc24-b437-4970-f049-185fa0bc1a7b"
      },
      "execution_count": null,
      "outputs": [
        {
          "output_type": "execute_result",
          "data": {
            "text/plain": [
              "_record_id                                         0\n",
              "_title                                             6\n",
              "_server_updated_at                                 0\n",
              "_updated_by                                        0\n",
              "_geometry                                          0\n",
              "_latitude                                          0\n",
              "_longitude                                         0\n",
              "arrival_of_the_freight_vehicle                     0\n",
              "plates                                             1\n",
              "company_if_visible                                73\n",
              "visit_purpose                                      0\n",
              "type_of_vehicle                                    0\n",
              "number_of_operators                                0\n",
              "refrigerated_truck                                 0\n",
              "type_of_cargo                                      0\n",
              "picture_of_the_parked_freight_vehicle              0\n",
              "departure_of_the_freight_vehicle                   0\n",
              "where_was_the_vehicle_parked                       0\n",
              "while_parked_was_the_engine_running                0\n",
              "used_traffic_cone                                  0\n",
              "vehicles_unloading_door                            0\n",
              "number_of_available_trolleys                       0\n",
              "serving_customer                                 147\n",
              "garage_blocking                                    0\n",
              "accident                                           0\n",
              "describe_the_accident                            182\n",
              "noise                                              0\n",
              "traffic_congestion                                 0\n",
              "maximum_number_of_vehicles_in_the_traffic_jam    180\n",
              "dtype: int64"
            ]
          },
          "metadata": {},
          "execution_count": 5
        }
      ]
    },
    {
      "cell_type": "markdown",
      "source": [
        "**Métodos de Sustitución de Valores Nulos**"
      ],
      "metadata": {
        "id": "dE4P-ouqtHIn"
      }
    },
    {
      "cell_type": "code",
      "source": [
        "#Realizamos una copia del dataframe\n",
        "data2=data.copy()"
      ],
      "metadata": {
        "id": "-SqkDypjsVSG"
      },
      "execution_count": null,
      "outputs": []
    },
    {
      "cell_type": "code",
      "source": [
        "#Tercer método de sustitución de valores nulos\n",
        "#Sustituir valores nulos por un valor numérico en  concreto \n",
        "data2[\"_title\"]= data2[\"_title\"].fillna(10) \n",
        "data2"
      ],
      "metadata": {
        "id": "DQ0XdfRMFsp6"
      },
      "execution_count": null,
      "outputs": []
    },
    {
      "cell_type": "code",
      "source": [
        "#Corroboramos valores nulos\n",
        "valores_nulos=data2.isnull().sum()\n",
        "valores_nulos"
      ],
      "metadata": {
        "id": "qQGnh7Z_spFb",
        "outputId": "b8b9153c-155f-4fbf-dfc6-a55bf531f1f6",
        "colab": {
          "base_uri": "https://localhost:8080/"
        }
      },
      "execution_count": null,
      "outputs": [
        {
          "output_type": "execute_result",
          "data": {
            "text/plain": [
              "_record_id                                         0\n",
              "_title                                             0\n",
              "_server_updated_at                                 0\n",
              "_updated_by                                        0\n",
              "_geometry                                          0\n",
              "_latitude                                          0\n",
              "_longitude                                         0\n",
              "arrival_of_the_freight_vehicle                     0\n",
              "plates                                             1\n",
              "company_if_visible                                73\n",
              "visit_purpose                                      0\n",
              "type_of_vehicle                                    0\n",
              "number_of_operators                                0\n",
              "refrigerated_truck                                 0\n",
              "type_of_cargo                                      0\n",
              "picture_of_the_parked_freight_vehicle              0\n",
              "departure_of_the_freight_vehicle                   0\n",
              "where_was_the_vehicle_parked                       0\n",
              "while_parked_was_the_engine_running                0\n",
              "used_traffic_cone                                  0\n",
              "vehicles_unloading_door                            0\n",
              "number_of_available_trolleys                       0\n",
              "serving_customer                                 147\n",
              "garage_blocking                                    0\n",
              "accident                                           0\n",
              "describe_the_accident                            182\n",
              "noise                                              0\n",
              "traffic_congestion                                 0\n",
              "maximum_number_of_vehicles_in_the_traffic_jam    180\n",
              "dtype: int64"
            ]
          },
          "metadata": {},
          "execution_count": 9
        }
      ]
    },
    {
      "cell_type": "code",
      "source": [
        "#Sustituir valores nulos por un valor numérico en  concreto \n",
        "data2[\"plates\"]= data2[\"plates\"].fillna(10) \n",
        "data2"
      ],
      "metadata": {
        "id": "BW00UUlkGg8o"
      },
      "execution_count": null,
      "outputs": []
    },
    {
      "cell_type": "code",
      "source": [
        "#Corroboramos valores nulos\n",
        "valores_nulos=data2.isnull().sum()\n",
        "valores_nulos"
      ],
      "metadata": {
        "colab": {
          "base_uri": "https://localhost:8080/"
        },
        "id": "QUfmECLlGw5k",
        "outputId": "6cbc7f53-1ecf-458a-f680-fa53e5fc9bf4"
      },
      "execution_count": null,
      "outputs": [
        {
          "output_type": "execute_result",
          "data": {
            "text/plain": [
              "_record_id                                         0\n",
              "_title                                             0\n",
              "_server_updated_at                                 0\n",
              "_updated_by                                        0\n",
              "_geometry                                          0\n",
              "_latitude                                          0\n",
              "_longitude                                         0\n",
              "arrival_of_the_freight_vehicle                     0\n",
              "plates                                             0\n",
              "company_if_visible                                73\n",
              "visit_purpose                                      0\n",
              "type_of_vehicle                                    0\n",
              "number_of_operators                                0\n",
              "refrigerated_truck                                 0\n",
              "type_of_cargo                                      0\n",
              "picture_of_the_parked_freight_vehicle              0\n",
              "departure_of_the_freight_vehicle                   0\n",
              "where_was_the_vehicle_parked                       0\n",
              "while_parked_was_the_engine_running                0\n",
              "used_traffic_cone                                  0\n",
              "vehicles_unloading_door                            0\n",
              "number_of_available_trolleys                       0\n",
              "serving_customer                                 147\n",
              "garage_blocking                                    0\n",
              "accident                                           0\n",
              "describe_the_accident                            182\n",
              "noise                                              0\n",
              "traffic_congestion                                 0\n",
              "maximum_number_of_vehicles_in_the_traffic_jam    180\n",
              "dtype: int64"
            ]
          },
          "metadata": {},
          "execution_count": 12
        }
      ]
    },
    {
      "cell_type": "code",
      "source": [
        "#Sustituir valores nulos por valores no nulos hacia adelante forward fill\" (\"ffill\")\n",
        "#Filtro por columnas\n",
        "data2[\"company_if_visible\"] =data2[\"company_if_visible\"].fillna(method=\"ffill\") "
      ],
      "metadata": {
        "id": "DJ3bw-jjICzY"
      },
      "execution_count": null,
      "outputs": []
    },
    {
      "cell_type": "code",
      "source": [
        "#Corroboramos valores nulos\n",
        "valores_nulos=data2.isnull().sum()\n",
        "valores_nulos"
      ],
      "metadata": {
        "colab": {
          "base_uri": "https://localhost:8080/"
        },
        "id": "MA8EqiyCIts_",
        "outputId": "ff56a435-5f3e-4996-b58d-03f00d37bbd8"
      },
      "execution_count": null,
      "outputs": [
        {
          "output_type": "execute_result",
          "data": {
            "text/plain": [
              "_record_id                                         0\n",
              "_title                                             0\n",
              "_server_updated_at                                 0\n",
              "_updated_by                                        0\n",
              "_geometry                                          0\n",
              "_latitude                                          0\n",
              "_longitude                                         0\n",
              "arrival_of_the_freight_vehicle                     0\n",
              "plates                                             0\n",
              "company_if_visible                                 0\n",
              "visit_purpose                                      0\n",
              "type_of_vehicle                                    0\n",
              "number_of_operators                                0\n",
              "refrigerated_truck                                 0\n",
              "type_of_cargo                                      0\n",
              "picture_of_the_parked_freight_vehicle              0\n",
              "departure_of_the_freight_vehicle                   0\n",
              "where_was_the_vehicle_parked                       0\n",
              "while_parked_was_the_engine_running                0\n",
              "used_traffic_cone                                  0\n",
              "vehicles_unloading_door                            0\n",
              "number_of_available_trolleys                       0\n",
              "serving_customer                                 147\n",
              "garage_blocking                                    0\n",
              "accident                                           0\n",
              "describe_the_accident                            182\n",
              "noise                                              0\n",
              "traffic_congestion                                 0\n",
              "maximum_number_of_vehicles_in_the_traffic_jam    180\n",
              "dtype: int64"
            ]
          },
          "metadata": {},
          "execution_count": 14
        }
      ]
    },
    {
      "cell_type": "code",
      "source": [
        "#Segundo método de sustitución de valores nulos\n",
        "data2[\"serving_customer\"]= data2[\"serving_customer\"].fillna(10) \n",
        "data2 "
      ],
      "metadata": {
        "id": "bj7KkONDI0NE"
      },
      "execution_count": null,
      "outputs": []
    },
    {
      "cell_type": "code",
      "source": [
        "#Corroboramos valores nulos\n",
        "valores_nulos=data2.isnull().sum()\n",
        "valores_nulos"
      ],
      "metadata": {
        "colab": {
          "base_uri": "https://localhost:8080/"
        },
        "id": "WOG4QxeyJF2g",
        "outputId": "e09e6cc7-8e2d-4364-98b9-7b7d4e2ebf20"
      },
      "execution_count": null,
      "outputs": [
        {
          "output_type": "execute_result",
          "data": {
            "text/plain": [
              "_record_id                                         0\n",
              "_title                                             0\n",
              "_server_updated_at                                 0\n",
              "_updated_by                                        0\n",
              "_geometry                                          0\n",
              "_latitude                                          0\n",
              "_longitude                                         0\n",
              "arrival_of_the_freight_vehicle                     0\n",
              "plates                                             0\n",
              "company_if_visible                                 0\n",
              "visit_purpose                                      0\n",
              "type_of_vehicle                                    0\n",
              "number_of_operators                                0\n",
              "refrigerated_truck                                 0\n",
              "type_of_cargo                                      0\n",
              "picture_of_the_parked_freight_vehicle              0\n",
              "departure_of_the_freight_vehicle                   0\n",
              "where_was_the_vehicle_parked                       0\n",
              "while_parked_was_the_engine_running                0\n",
              "used_traffic_cone                                  0\n",
              "vehicles_unloading_door                            0\n",
              "number_of_available_trolleys                       0\n",
              "serving_customer                                   0\n",
              "garage_blocking                                    0\n",
              "accident                                           0\n",
              "describe_the_accident                            182\n",
              "noise                                              0\n",
              "traffic_congestion                                 0\n",
              "maximum_number_of_vehicles_in_the_traffic_jam    180\n",
              "dtype: int64"
            ]
          },
          "metadata": {},
          "execution_count": 18
        }
      ]
    },
    {
      "cell_type": "code",
      "source": [
        "#Segundo método de sustitución de valores nulos\n",
        "data2[\"describe_the_accident\"]= data2[\"describe_the_accident\"].fillna(10) \n",
        "data2 "
      ],
      "metadata": {
        "id": "CAXUqrQmtmwo"
      },
      "execution_count": null,
      "outputs": []
    },
    {
      "cell_type": "code",
      "source": [
        "#Corroboramos valores nulos\n",
        "valores_nulos=data2.isnull().sum()\n",
        "valores_nulos"
      ],
      "metadata": {
        "id": "FoNGzV2rtxSs",
        "outputId": "41922621-f894-4421-dca9-06db17c4a9fe",
        "colab": {
          "base_uri": "https://localhost:8080/"
        }
      },
      "execution_count": null,
      "outputs": [
        {
          "output_type": "execute_result",
          "data": {
            "text/plain": [
              "_record_id                                         0\n",
              "_title                                             0\n",
              "_server_updated_at                                 0\n",
              "_updated_by                                        0\n",
              "_geometry                                          0\n",
              "_latitude                                          0\n",
              "_longitude                                         0\n",
              "arrival_of_the_freight_vehicle                     0\n",
              "plates                                             0\n",
              "company_if_visible                                 0\n",
              "visit_purpose                                      0\n",
              "type_of_vehicle                                    0\n",
              "number_of_operators                                0\n",
              "refrigerated_truck                                 0\n",
              "type_of_cargo                                      0\n",
              "picture_of_the_parked_freight_vehicle              0\n",
              "departure_of_the_freight_vehicle                   0\n",
              "where_was_the_vehicle_parked                       0\n",
              "while_parked_was_the_engine_running                0\n",
              "used_traffic_cone                                  0\n",
              "vehicles_unloading_door                            0\n",
              "number_of_available_trolleys                       0\n",
              "serving_customer                                   0\n",
              "garage_blocking                                    0\n",
              "accident                                           0\n",
              "describe_the_accident                              0\n",
              "noise                                              0\n",
              "traffic_congestion                                 0\n",
              "maximum_number_of_vehicles_in_the_traffic_jam    180\n",
              "dtype: int64"
            ]
          },
          "metadata": {},
          "execution_count": 22
        }
      ]
    },
    {
      "cell_type": "code",
      "source": [
        "data2[\"maximum_number_of_vehicles_in_the_traffic_jam\"]=data2[\"maximum_number_of_vehicles_in_the_traffic_jam\"].fillna(round(data[\"maximum_number_of_vehicles_in_the_traffic_jam\"].median(),1))\n",
        "data2\n"
      ],
      "metadata": {
        "id": "Lb6oV6YIuDfF"
      },
      "execution_count": null,
      "outputs": []
    },
    {
      "cell_type": "code",
      "source": [
        "#Corroboramos valores nulos\n",
        "valores_nulos=data2.isnull().sum()\n",
        "valores_nulos"
      ],
      "metadata": {
        "id": "5VlECt90uP8K",
        "colab": {
          "base_uri": "https://localhost:8080/"
        },
        "outputId": "78eff34c-dc24-462c-a067-3ddc4911c287"
      },
      "execution_count": null,
      "outputs": [
        {
          "output_type": "execute_result",
          "data": {
            "text/plain": [
              "_record_id                                       0\n",
              "_title                                           0\n",
              "_server_updated_at                               0\n",
              "_updated_by                                      0\n",
              "_geometry                                        0\n",
              "_latitude                                        0\n",
              "_longitude                                       0\n",
              "arrival_of_the_freight_vehicle                   0\n",
              "plates                                           0\n",
              "company_if_visible                               0\n",
              "visit_purpose                                    0\n",
              "type_of_vehicle                                  0\n",
              "number_of_operators                              0\n",
              "refrigerated_truck                               0\n",
              "type_of_cargo                                    0\n",
              "picture_of_the_parked_freight_vehicle            0\n",
              "departure_of_the_freight_vehicle                 0\n",
              "where_was_the_vehicle_parked                     0\n",
              "while_parked_was_the_engine_running              0\n",
              "used_traffic_cone                                0\n",
              "vehicles_unloading_door                          0\n",
              "number_of_available_trolleys                     0\n",
              "serving_customer                                 0\n",
              "garage_blocking                                  0\n",
              "accident                                         0\n",
              "describe_the_accident                            0\n",
              "noise                                            0\n",
              "traffic_congestion                               0\n",
              "maximum_number_of_vehicles_in_the_traffic_jam    0\n",
              "dtype: int64"
            ]
          },
          "metadata": {},
          "execution_count": 26
        }
      ]
    },
    {
      "cell_type": "markdown",
      "source": [
        "**Método de Eliminación de valores nulos**"
      ],
      "metadata": {
        "id": "AElvPY4nyJOx"
      }
    },
    {
      "cell_type": "code",
      "source": [
        "#Identificar valores nulos por columna\n",
        "valores_nulos=data2.isnull().sum()\n",
        "valores_nulos"
      ],
      "metadata": {
        "id": "kN35CtlLyOKg",
        "colab": {
          "base_uri": "https://localhost:8080/"
        },
        "outputId": "b68a3903-f61d-4233-8f40-0752a06983d7"
      },
      "execution_count": null,
      "outputs": [
        {
          "output_type": "execute_result",
          "data": {
            "text/plain": [
              "_record_id                                  0\n",
              "_title                                      0\n",
              "_server_updated_at                          0\n",
              "_updated_by                                 0\n",
              "_geometry                                   0\n",
              "_latitude                                   0\n",
              "_longitude                                  0\n",
              "282_payment_method_that_purchase            0\n",
              "283_fulfill_needs                           0\n",
              "300_did_not_find                            0\n",
              "237_distance_household_interviewee          0\n",
              "299_means_transportation_consumer           0\n",
              "238_frequency_buying_store                  0\n",
              "284_additional_products_store               0\n",
              "301_electricity_bill                        0\n",
              "305_electricity_bill_store                  0\n",
              "302_water_bill                              0\n",
              "306_water_bill_store                        0\n",
              "303_gas_bill                                0\n",
              "307_gas_bill_store                          0\n",
              "286_topups                                  0\n",
              "308_topups_in_store                         0\n",
              "287_wire_transfers                          0\n",
              "309_wiretransfers_in_store                  0\n",
              "320_other_services_in_store                 0\n",
              "304_additional_services_store               0\n",
              "81_number_online_purchases_month            0\n",
              "288_number_app_purchases_month              0\n",
              "289_number_whatsapp_purchases_month         0\n",
              "83_willingness_ultrafast_delivery           0\n",
              "84_willingness_sameday_delivery             0\n",
              "241_age_of_the_interviewee                  0\n",
              "240_gender_interviewee                      0\n",
              "indicate_the_type_of_store                  0\n",
              "name_of_the_store                           0\n",
              "storefront_picture_just_once_if_possible    0\n",
              "dtype: int64"
            ]
          },
          "metadata": {},
          "execution_count": 51
        }
      ]
    },
    {
      "cell_type": "code",
      "source": [
        "#Realizamos una copia del dataframe\n",
        "data3=data.copy()"
      ],
      "metadata": {
        "id": "4tNYCv10yn9V"
      },
      "execution_count": null,
      "outputs": []
    },
    {
      "cell_type": "code",
      "source": [
        "#Eliminamos filas con nulos\n",
        "data4= data2.dropna(0)\n",
        "data4"
      ],
      "metadata": {
        "id": "6g8PDgqRyssZ"
      },
      "execution_count": null,
      "outputs": []
    },
    {
      "cell_type": "code",
      "source": [
        "#Identificar valores nulos por columna\n",
        "valores_nulos=data4.isnull().sum()\n",
        "valores_nulos"
      ],
      "metadata": {
        "id": "M3TAKt_ayxVo"
      },
      "execution_count": null,
      "outputs": []
    },
    {
      "cell_type": "markdown",
      "source": [
        "**OUTLIERS**\n"
      ],
      "metadata": {
        "id": "KmgnzrFRKKHT"
      }
    },
    {
      "cell_type": "code",
      "source": [
        "y=data\n"
      ],
      "metadata": {
        "id": "ZytBk8KOCKiQ"
      },
      "execution_count": null,
      "outputs": []
    },
    {
      "cell_type": "code",
      "source": [
        "#Identificamos las variables no numéricas para eliminar columnas incecesarias \n",
        "#Verificamos información del DataFrame\n",
        "y.info(29)"
      ],
      "metadata": {
        "colab": {
          "base_uri": "https://localhost:8080/"
        },
        "id": "Eot-WieRFE22",
        "outputId": "4514d326-5720-4201-b7e8-27c9d9b8e1e2"
      },
      "execution_count": null,
      "outputs": [
        {
          "output_type": "stream",
          "name": "stdout",
          "text": [
            "<class 'pandas.core.frame.DataFrame'>\n",
            "RangeIndex: 182 entries, 0 to 181\n",
            "Data columns (total 29 columns):\n",
            " #   Column                                         Non-Null Count  Dtype  \n",
            "---  ------                                         --------------  -----  \n",
            " 0   _record_id                                     182 non-null    object \n",
            " 1   _title                                         176 non-null    object \n",
            " 2   _server_updated_at                             182 non-null    object \n",
            " 3   _updated_by                                    182 non-null    object \n",
            " 4   _geometry                                      182 non-null    object \n",
            " 5   _latitude                                      182 non-null    float64\n",
            " 6   _longitude                                     182 non-null    float64\n",
            " 7   arrival_of_the_freight_vehicle                 182 non-null    object \n",
            " 8   plates                                         181 non-null    object \n",
            " 9   company_if_visible                             109 non-null    object \n",
            " 10  visit_purpose                                  182 non-null    object \n",
            " 11  type_of_vehicle                                182 non-null    object \n",
            " 12  number_of_operators                            182 non-null    int64  \n",
            " 13  refrigerated_truck                             182 non-null    object \n",
            " 14  type_of_cargo                                  182 non-null    object \n",
            " 15  picture_of_the_parked_freight_vehicle          182 non-null    object \n",
            " 16  departure_of_the_freight_vehicle               182 non-null    object \n",
            " 17  where_was_the_vehicle_parked                   182 non-null    object \n",
            " 18  while_parked_was_the_engine_running            182 non-null    object \n",
            " 19  used_traffic_cone                              182 non-null    object \n",
            " 20  vehicles_unloading_door                        182 non-null    object \n",
            " 21  number_of_available_trolleys                   182 non-null    int64  \n",
            " 22  serving_customer                               35 non-null     float64\n",
            " 23  garage_blocking                                182 non-null    object \n",
            " 24  accident                                       182 non-null    object \n",
            " 25  describe_the_accident                          0 non-null      float64\n",
            " 26  noise                                          182 non-null    object \n",
            " 27  traffic_congestion                             182 non-null    object \n",
            " 28  maximum_number_of_vehicles_in_the_traffic_jam  2 non-null      float64\n",
            "dtypes: float64(5), int64(2), object(22)\n",
            "memory usage: 41.4+ KB\n"
          ]
        }
      ]
    },
    {
      "cell_type": "code",
      "source": [
        "#aplicamos filtro de columnas para filtrar las columnas con variables numéricas (se descartaron las columnas que muestran números de telofóno y las coordenadas) \n",
        "y1=y.iloc[:,[5,6,12,21,22,25,28,]]#columnas no consecutivas\n",
        "y1"
      ],
      "metadata": {
        "id": "-A7ALvPmFdOT"
      },
      "execution_count": null,
      "outputs": []
    },
    {
      "cell_type": "code",
      "source": [
        "#Método aplicando Cuartiles. Encuentro cuartiles 0.25 y 0.75\n",
        "y=y1\n",
        "\n",
        "percentile25=y.quantile(0.25) #Q1\n",
        "percentile75=y.quantile(0.75) #Q3\n",
        "iqr= percentile75 - percentile25\n",
        "\n",
        "Limite_Superior_iqr= percentile75 + 1.5*iqr\n",
        "Limite_Inferior_iqr= percentile25 - 1.5*iqr\n",
        "print(\"Limite superior permitido\", Limite_Superior_iqr)\n",
        "print(\"Limite inferior permitido\", Limite_Inferior_iqr)"
      ],
      "metadata": {
        "colab": {
          "base_uri": "https://localhost:8080/"
        },
        "id": "76NtHL5eF73W",
        "outputId": "5995140e-32e3-4f4d-d38c-39263394d62f"
      },
      "execution_count": null,
      "outputs": [
        {
          "output_type": "stream",
          "name": "stdout",
          "text": [
            "Limite superior permitido _latitude                                        19.123517\n",
            "_longitude                                      -98.098434\n",
            "number_of_operators                               3.500000\n",
            "number_of_available_trolleys                      2.500000\n",
            "serving_customer                                  1.000000\n",
            "describe_the_accident                                  NaN\n",
            "maximum_number_of_vehicles_in_the_traffic_jam    11.000000\n",
            "dtype: float64\n",
            "Limite inferior permitido _latitude                                        18.961271\n",
            "_longitude                                      -98.366619\n",
            "number_of_operators                              -0.500000\n",
            "number_of_available_trolleys                     -1.500000\n",
            "serving_customer                                  1.000000\n",
            "describe_the_accident                                  NaN\n",
            "maximum_number_of_vehicles_in_the_traffic_jam    -1.000000\n",
            "dtype: float64\n"
          ]
        }
      ]
    },
    {
      "cell_type": "code",
      "source": [
        "#Encontramos Outliers del Dataframe\n",
        "outliers_iqr= y1[(y>Limite_Superior_iqr)|(y<Limite_Inferior_iqr)]\n",
        "outliers_iqr"
      ],
      "metadata": {
        "id": "wZT8CRHfGNrp"
      },
      "execution_count": null,
      "outputs": []
    },
    {
      "cell_type": "code",
      "source": [
        "#Obtenemos datos limpios del Dataframe\n",
        "data3_iqr= y1[(y<=Limite_Superior_iqr)&(y>=Limite_Inferior_iqr)]\n",
        "data3_iqr"
      ],
      "metadata": {
        "colab": {
          "base_uri": "https://localhost:8080/",
          "height": 424
        },
        "id": "WIEm25wWGXp2",
        "outputId": "9e7d9c5d-2980-4a0b-d44d-9494c940cf13"
      },
      "execution_count": null,
      "outputs": [
        {
          "output_type": "execute_result",
          "data": {
            "text/plain": [
              "     _latitude  _longitude  number_of_operators  number_of_available_trolleys  \\\n",
              "0    19.056893  -98.233489                  1.0                           1.0   \n",
              "1    19.056849  -98.233484                  2.0                           1.0   \n",
              "2    19.059677  -98.233916                  1.0                           0.0   \n",
              "3    19.062695  -98.228567                  1.0                           2.0   \n",
              "4    19.062724  -98.231397                  2.0                           2.0   \n",
              "..         ...         ...                  ...                           ...   \n",
              "177  19.043612  -98.194933                  1.0                           0.0   \n",
              "178  19.043607  -98.194856                  1.0                           0.0   \n",
              "179  19.043336  -98.194503                  1.0                           1.0   \n",
              "180  19.043576  -98.194873                  2.0                           0.0   \n",
              "181  19.043590  -98.194901                  2.0                           1.0   \n",
              "\n",
              "     serving_customer  describe_the_accident  \\\n",
              "0                 NaN                    NaN   \n",
              "1                 NaN                    NaN   \n",
              "2                 1.0                    NaN   \n",
              "3                 NaN                    NaN   \n",
              "4                 NaN                    NaN   \n",
              "..                ...                    ...   \n",
              "177               NaN                    NaN   \n",
              "178               NaN                    NaN   \n",
              "179               NaN                    NaN   \n",
              "180               NaN                    NaN   \n",
              "181               NaN                    NaN   \n",
              "\n",
              "     maximum_number_of_vehicles_in_the_traffic_jam  \n",
              "0                                              NaN  \n",
              "1                                              NaN  \n",
              "2                                              NaN  \n",
              "3                                              NaN  \n",
              "4                                              NaN  \n",
              "..                                             ...  \n",
              "177                                            NaN  \n",
              "178                                            NaN  \n",
              "179                                            NaN  \n",
              "180                                            NaN  \n",
              "181                                            NaN  \n",
              "\n",
              "[182 rows x 7 columns]"
            ],
            "text/html": [
              "\n",
              "  <div id=\"df-b366cb5b-de35-4d3d-b2d8-c8bd11d6ce19\">\n",
              "    <div class=\"colab-df-container\">\n",
              "      <div>\n",
              "<style scoped>\n",
              "    .dataframe tbody tr th:only-of-type {\n",
              "        vertical-align: middle;\n",
              "    }\n",
              "\n",
              "    .dataframe tbody tr th {\n",
              "        vertical-align: top;\n",
              "    }\n",
              "\n",
              "    .dataframe thead th {\n",
              "        text-align: right;\n",
              "    }\n",
              "</style>\n",
              "<table border=\"1\" class=\"dataframe\">\n",
              "  <thead>\n",
              "    <tr style=\"text-align: right;\">\n",
              "      <th></th>\n",
              "      <th>_latitude</th>\n",
              "      <th>_longitude</th>\n",
              "      <th>number_of_operators</th>\n",
              "      <th>number_of_available_trolleys</th>\n",
              "      <th>serving_customer</th>\n",
              "      <th>describe_the_accident</th>\n",
              "      <th>maximum_number_of_vehicles_in_the_traffic_jam</th>\n",
              "    </tr>\n",
              "  </thead>\n",
              "  <tbody>\n",
              "    <tr>\n",
              "      <th>0</th>\n",
              "      <td>19.056893</td>\n",
              "      <td>-98.233489</td>\n",
              "      <td>1.0</td>\n",
              "      <td>1.0</td>\n",
              "      <td>NaN</td>\n",
              "      <td>NaN</td>\n",
              "      <td>NaN</td>\n",
              "    </tr>\n",
              "    <tr>\n",
              "      <th>1</th>\n",
              "      <td>19.056849</td>\n",
              "      <td>-98.233484</td>\n",
              "      <td>2.0</td>\n",
              "      <td>1.0</td>\n",
              "      <td>NaN</td>\n",
              "      <td>NaN</td>\n",
              "      <td>NaN</td>\n",
              "    </tr>\n",
              "    <tr>\n",
              "      <th>2</th>\n",
              "      <td>19.059677</td>\n",
              "      <td>-98.233916</td>\n",
              "      <td>1.0</td>\n",
              "      <td>0.0</td>\n",
              "      <td>1.0</td>\n",
              "      <td>NaN</td>\n",
              "      <td>NaN</td>\n",
              "    </tr>\n",
              "    <tr>\n",
              "      <th>3</th>\n",
              "      <td>19.062695</td>\n",
              "      <td>-98.228567</td>\n",
              "      <td>1.0</td>\n",
              "      <td>2.0</td>\n",
              "      <td>NaN</td>\n",
              "      <td>NaN</td>\n",
              "      <td>NaN</td>\n",
              "    </tr>\n",
              "    <tr>\n",
              "      <th>4</th>\n",
              "      <td>19.062724</td>\n",
              "      <td>-98.231397</td>\n",
              "      <td>2.0</td>\n",
              "      <td>2.0</td>\n",
              "      <td>NaN</td>\n",
              "      <td>NaN</td>\n",
              "      <td>NaN</td>\n",
              "    </tr>\n",
              "    <tr>\n",
              "      <th>...</th>\n",
              "      <td>...</td>\n",
              "      <td>...</td>\n",
              "      <td>...</td>\n",
              "      <td>...</td>\n",
              "      <td>...</td>\n",
              "      <td>...</td>\n",
              "      <td>...</td>\n",
              "    </tr>\n",
              "    <tr>\n",
              "      <th>177</th>\n",
              "      <td>19.043612</td>\n",
              "      <td>-98.194933</td>\n",
              "      <td>1.0</td>\n",
              "      <td>0.0</td>\n",
              "      <td>NaN</td>\n",
              "      <td>NaN</td>\n",
              "      <td>NaN</td>\n",
              "    </tr>\n",
              "    <tr>\n",
              "      <th>178</th>\n",
              "      <td>19.043607</td>\n",
              "      <td>-98.194856</td>\n",
              "      <td>1.0</td>\n",
              "      <td>0.0</td>\n",
              "      <td>NaN</td>\n",
              "      <td>NaN</td>\n",
              "      <td>NaN</td>\n",
              "    </tr>\n",
              "    <tr>\n",
              "      <th>179</th>\n",
              "      <td>19.043336</td>\n",
              "      <td>-98.194503</td>\n",
              "      <td>1.0</td>\n",
              "      <td>1.0</td>\n",
              "      <td>NaN</td>\n",
              "      <td>NaN</td>\n",
              "      <td>NaN</td>\n",
              "    </tr>\n",
              "    <tr>\n",
              "      <th>180</th>\n",
              "      <td>19.043576</td>\n",
              "      <td>-98.194873</td>\n",
              "      <td>2.0</td>\n",
              "      <td>0.0</td>\n",
              "      <td>NaN</td>\n",
              "      <td>NaN</td>\n",
              "      <td>NaN</td>\n",
              "    </tr>\n",
              "    <tr>\n",
              "      <th>181</th>\n",
              "      <td>19.043590</td>\n",
              "      <td>-98.194901</td>\n",
              "      <td>2.0</td>\n",
              "      <td>1.0</td>\n",
              "      <td>NaN</td>\n",
              "      <td>NaN</td>\n",
              "      <td>NaN</td>\n",
              "    </tr>\n",
              "  </tbody>\n",
              "</table>\n",
              "<p>182 rows × 7 columns</p>\n",
              "</div>\n",
              "      <button class=\"colab-df-convert\" onclick=\"convertToInteractive('df-b366cb5b-de35-4d3d-b2d8-c8bd11d6ce19')\"\n",
              "              title=\"Convert this dataframe to an interactive table.\"\n",
              "              style=\"display:none;\">\n",
              "        \n",
              "  <svg xmlns=\"http://www.w3.org/2000/svg\" height=\"24px\"viewBox=\"0 0 24 24\"\n",
              "       width=\"24px\">\n",
              "    <path d=\"M0 0h24v24H0V0z\" fill=\"none\"/>\n",
              "    <path d=\"M18.56 5.44l.94 2.06.94-2.06 2.06-.94-2.06-.94-.94-2.06-.94 2.06-2.06.94zm-11 1L8.5 8.5l.94-2.06 2.06-.94-2.06-.94L8.5 2.5l-.94 2.06-2.06.94zm10 10l.94 2.06.94-2.06 2.06-.94-2.06-.94-.94-2.06-.94 2.06-2.06.94z\"/><path d=\"M17.41 7.96l-1.37-1.37c-.4-.4-.92-.59-1.43-.59-.52 0-1.04.2-1.43.59L10.3 9.45l-7.72 7.72c-.78.78-.78 2.05 0 2.83L4 21.41c.39.39.9.59 1.41.59.51 0 1.02-.2 1.41-.59l7.78-7.78 2.81-2.81c.8-.78.8-2.07 0-2.86zM5.41 20L4 18.59l7.72-7.72 1.47 1.35L5.41 20z\"/>\n",
              "  </svg>\n",
              "      </button>\n",
              "      \n",
              "  <style>\n",
              "    .colab-df-container {\n",
              "      display:flex;\n",
              "      flex-wrap:wrap;\n",
              "      gap: 12px;\n",
              "    }\n",
              "\n",
              "    .colab-df-convert {\n",
              "      background-color: #E8F0FE;\n",
              "      border: none;\n",
              "      border-radius: 50%;\n",
              "      cursor: pointer;\n",
              "      display: none;\n",
              "      fill: #1967D2;\n",
              "      height: 32px;\n",
              "      padding: 0 0 0 0;\n",
              "      width: 32px;\n",
              "    }\n",
              "\n",
              "    .colab-df-convert:hover {\n",
              "      background-color: #E2EBFA;\n",
              "      box-shadow: 0px 1px 2px rgba(60, 64, 67, 0.3), 0px 1px 3px 1px rgba(60, 64, 67, 0.15);\n",
              "      fill: #174EA6;\n",
              "    }\n",
              "\n",
              "    [theme=dark] .colab-df-convert {\n",
              "      background-color: #3B4455;\n",
              "      fill: #D2E3FC;\n",
              "    }\n",
              "\n",
              "    [theme=dark] .colab-df-convert:hover {\n",
              "      background-color: #434B5C;\n",
              "      box-shadow: 0px 1px 3px 1px rgba(0, 0, 0, 0.15);\n",
              "      filter: drop-shadow(0px 1px 2px rgba(0, 0, 0, 0.3));\n",
              "      fill: #FFFFFF;\n",
              "    }\n",
              "  </style>\n",
              "\n",
              "      <script>\n",
              "        const buttonEl =\n",
              "          document.querySelector('#df-b366cb5b-de35-4d3d-b2d8-c8bd11d6ce19 button.colab-df-convert');\n",
              "        buttonEl.style.display =\n",
              "          google.colab.kernel.accessAllowed ? 'block' : 'none';\n",
              "\n",
              "        async function convertToInteractive(key) {\n",
              "          const element = document.querySelector('#df-b366cb5b-de35-4d3d-b2d8-c8bd11d6ce19');\n",
              "          const dataTable =\n",
              "            await google.colab.kernel.invokeFunction('convertToInteractive',\n",
              "                                                     [key], {});\n",
              "          if (!dataTable) return;\n",
              "\n",
              "          const docLinkHtml = 'Like what you see? Visit the ' +\n",
              "            '<a target=\"_blank\" href=https://colab.research.google.com/notebooks/data_table.ipynb>data table notebook</a>'\n",
              "            + ' to learn more about interactive tables.';\n",
              "          element.innerHTML = '';\n",
              "          dataTable['output_type'] = 'display_data';\n",
              "          await google.colab.output.renderOutput(dataTable, element);\n",
              "          const docLink = document.createElement('div');\n",
              "          docLink.innerHTML = docLinkHtml;\n",
              "          element.appendChild(docLink);\n",
              "        }\n",
              "      </script>\n",
              "    </div>\n",
              "  </div>\n",
              "  "
            ]
          },
          "metadata": {},
          "execution_count": 20
        }
      ]
    },
    {
      "cell_type": "code",
      "source": [
        "#Corroboramos valores nulos del dataframe LIMPIO\n",
        "valores_nulos=data3_iqr.isnull().sum()\n",
        "valores_nulos"
      ],
      "metadata": {
        "colab": {
          "base_uri": "https://localhost:8080/"
        },
        "id": "vaoRW7RtGjWU",
        "outputId": "aa42b1f3-04b8-4bec-86f6-a263517df057"
      },
      "execution_count": null,
      "outputs": [
        {
          "output_type": "execute_result",
          "data": {
            "text/plain": [
              "_latitude                                          0\n",
              "_longitude                                         0\n",
              "number_of_operators                               10\n",
              "number_of_available_trolleys                       2\n",
              "serving_customer                                 147\n",
              "describe_the_accident                            182\n",
              "maximum_number_of_vehicles_in_the_traffic_jam    180\n",
              "dtype: int64"
            ]
          },
          "metadata": {},
          "execution_count": 21
        }
      ]
    },
    {
      "cell_type": "code",
      "source": [
        "#Reemplazamos valores atípicos (nulos) del dataframe con \"mean\"\n",
        "#Realizamos una copia del dataframe\n",
        "data4_iqr=data3_iqr.copy()\n",
        "data4_iqr=data4_iqr.fillna(round(data3_iqr.mean(),1))\n",
        "data4_iqr"
      ],
      "metadata": {
        "colab": {
          "base_uri": "https://localhost:8080/",
          "height": 424
        },
        "id": "SNCXl5xRGrKR",
        "outputId": "eb9f8431-731b-4c18-cb64-207dd3541350"
      },
      "execution_count": null,
      "outputs": [
        {
          "output_type": "execute_result",
          "data": {
            "text/plain": [
              "     _latitude  _longitude  number_of_operators  number_of_available_trolleys  \\\n",
              "0    19.056893  -98.233489                  1.0                           1.0   \n",
              "1    19.056849  -98.233484                  2.0                           1.0   \n",
              "2    19.059677  -98.233916                  1.0                           0.0   \n",
              "3    19.062695  -98.228567                  1.0                           2.0   \n",
              "4    19.062724  -98.231397                  2.0                           2.0   \n",
              "..         ...         ...                  ...                           ...   \n",
              "177  19.043612  -98.194933                  1.0                           0.0   \n",
              "178  19.043607  -98.194856                  1.0                           0.0   \n",
              "179  19.043336  -98.194503                  1.0                           1.0   \n",
              "180  19.043576  -98.194873                  2.0                           0.0   \n",
              "181  19.043590  -98.194901                  2.0                           1.0   \n",
              "\n",
              "     serving_customer  describe_the_accident  \\\n",
              "0                 1.0                    NaN   \n",
              "1                 1.0                    NaN   \n",
              "2                 1.0                    NaN   \n",
              "3                 1.0                    NaN   \n",
              "4                 1.0                    NaN   \n",
              "..                ...                    ...   \n",
              "177               1.0                    NaN   \n",
              "178               1.0                    NaN   \n",
              "179               1.0                    NaN   \n",
              "180               1.0                    NaN   \n",
              "181               1.0                    NaN   \n",
              "\n",
              "     maximum_number_of_vehicles_in_the_traffic_jam  \n",
              "0                                              5.0  \n",
              "1                                              5.0  \n",
              "2                                              5.0  \n",
              "3                                              5.0  \n",
              "4                                              5.0  \n",
              "..                                             ...  \n",
              "177                                            5.0  \n",
              "178                                            5.0  \n",
              "179                                            5.0  \n",
              "180                                            5.0  \n",
              "181                                            5.0  \n",
              "\n",
              "[182 rows x 7 columns]"
            ],
            "text/html": [
              "\n",
              "  <div id=\"df-04d208e1-9ea6-40ef-960f-5d4e89bf6aee\">\n",
              "    <div class=\"colab-df-container\">\n",
              "      <div>\n",
              "<style scoped>\n",
              "    .dataframe tbody tr th:only-of-type {\n",
              "        vertical-align: middle;\n",
              "    }\n",
              "\n",
              "    .dataframe tbody tr th {\n",
              "        vertical-align: top;\n",
              "    }\n",
              "\n",
              "    .dataframe thead th {\n",
              "        text-align: right;\n",
              "    }\n",
              "</style>\n",
              "<table border=\"1\" class=\"dataframe\">\n",
              "  <thead>\n",
              "    <tr style=\"text-align: right;\">\n",
              "      <th></th>\n",
              "      <th>_latitude</th>\n",
              "      <th>_longitude</th>\n",
              "      <th>number_of_operators</th>\n",
              "      <th>number_of_available_trolleys</th>\n",
              "      <th>serving_customer</th>\n",
              "      <th>describe_the_accident</th>\n",
              "      <th>maximum_number_of_vehicles_in_the_traffic_jam</th>\n",
              "    </tr>\n",
              "  </thead>\n",
              "  <tbody>\n",
              "    <tr>\n",
              "      <th>0</th>\n",
              "      <td>19.056893</td>\n",
              "      <td>-98.233489</td>\n",
              "      <td>1.0</td>\n",
              "      <td>1.0</td>\n",
              "      <td>1.0</td>\n",
              "      <td>NaN</td>\n",
              "      <td>5.0</td>\n",
              "    </tr>\n",
              "    <tr>\n",
              "      <th>1</th>\n",
              "      <td>19.056849</td>\n",
              "      <td>-98.233484</td>\n",
              "      <td>2.0</td>\n",
              "      <td>1.0</td>\n",
              "      <td>1.0</td>\n",
              "      <td>NaN</td>\n",
              "      <td>5.0</td>\n",
              "    </tr>\n",
              "    <tr>\n",
              "      <th>2</th>\n",
              "      <td>19.059677</td>\n",
              "      <td>-98.233916</td>\n",
              "      <td>1.0</td>\n",
              "      <td>0.0</td>\n",
              "      <td>1.0</td>\n",
              "      <td>NaN</td>\n",
              "      <td>5.0</td>\n",
              "    </tr>\n",
              "    <tr>\n",
              "      <th>3</th>\n",
              "      <td>19.062695</td>\n",
              "      <td>-98.228567</td>\n",
              "      <td>1.0</td>\n",
              "      <td>2.0</td>\n",
              "      <td>1.0</td>\n",
              "      <td>NaN</td>\n",
              "      <td>5.0</td>\n",
              "    </tr>\n",
              "    <tr>\n",
              "      <th>4</th>\n",
              "      <td>19.062724</td>\n",
              "      <td>-98.231397</td>\n",
              "      <td>2.0</td>\n",
              "      <td>2.0</td>\n",
              "      <td>1.0</td>\n",
              "      <td>NaN</td>\n",
              "      <td>5.0</td>\n",
              "    </tr>\n",
              "    <tr>\n",
              "      <th>...</th>\n",
              "      <td>...</td>\n",
              "      <td>...</td>\n",
              "      <td>...</td>\n",
              "      <td>...</td>\n",
              "      <td>...</td>\n",
              "      <td>...</td>\n",
              "      <td>...</td>\n",
              "    </tr>\n",
              "    <tr>\n",
              "      <th>177</th>\n",
              "      <td>19.043612</td>\n",
              "      <td>-98.194933</td>\n",
              "      <td>1.0</td>\n",
              "      <td>0.0</td>\n",
              "      <td>1.0</td>\n",
              "      <td>NaN</td>\n",
              "      <td>5.0</td>\n",
              "    </tr>\n",
              "    <tr>\n",
              "      <th>178</th>\n",
              "      <td>19.043607</td>\n",
              "      <td>-98.194856</td>\n",
              "      <td>1.0</td>\n",
              "      <td>0.0</td>\n",
              "      <td>1.0</td>\n",
              "      <td>NaN</td>\n",
              "      <td>5.0</td>\n",
              "    </tr>\n",
              "    <tr>\n",
              "      <th>179</th>\n",
              "      <td>19.043336</td>\n",
              "      <td>-98.194503</td>\n",
              "      <td>1.0</td>\n",
              "      <td>1.0</td>\n",
              "      <td>1.0</td>\n",
              "      <td>NaN</td>\n",
              "      <td>5.0</td>\n",
              "    </tr>\n",
              "    <tr>\n",
              "      <th>180</th>\n",
              "      <td>19.043576</td>\n",
              "      <td>-98.194873</td>\n",
              "      <td>2.0</td>\n",
              "      <td>0.0</td>\n",
              "      <td>1.0</td>\n",
              "      <td>NaN</td>\n",
              "      <td>5.0</td>\n",
              "    </tr>\n",
              "    <tr>\n",
              "      <th>181</th>\n",
              "      <td>19.043590</td>\n",
              "      <td>-98.194901</td>\n",
              "      <td>2.0</td>\n",
              "      <td>1.0</td>\n",
              "      <td>1.0</td>\n",
              "      <td>NaN</td>\n",
              "      <td>5.0</td>\n",
              "    </tr>\n",
              "  </tbody>\n",
              "</table>\n",
              "<p>182 rows × 7 columns</p>\n",
              "</div>\n",
              "      <button class=\"colab-df-convert\" onclick=\"convertToInteractive('df-04d208e1-9ea6-40ef-960f-5d4e89bf6aee')\"\n",
              "              title=\"Convert this dataframe to an interactive table.\"\n",
              "              style=\"display:none;\">\n",
              "        \n",
              "  <svg xmlns=\"http://www.w3.org/2000/svg\" height=\"24px\"viewBox=\"0 0 24 24\"\n",
              "       width=\"24px\">\n",
              "    <path d=\"M0 0h24v24H0V0z\" fill=\"none\"/>\n",
              "    <path d=\"M18.56 5.44l.94 2.06.94-2.06 2.06-.94-2.06-.94-.94-2.06-.94 2.06-2.06.94zm-11 1L8.5 8.5l.94-2.06 2.06-.94-2.06-.94L8.5 2.5l-.94 2.06-2.06.94zm10 10l.94 2.06.94-2.06 2.06-.94-2.06-.94-.94-2.06-.94 2.06-2.06.94z\"/><path d=\"M17.41 7.96l-1.37-1.37c-.4-.4-.92-.59-1.43-.59-.52 0-1.04.2-1.43.59L10.3 9.45l-7.72 7.72c-.78.78-.78 2.05 0 2.83L4 21.41c.39.39.9.59 1.41.59.51 0 1.02-.2 1.41-.59l7.78-7.78 2.81-2.81c.8-.78.8-2.07 0-2.86zM5.41 20L4 18.59l7.72-7.72 1.47 1.35L5.41 20z\"/>\n",
              "  </svg>\n",
              "      </button>\n",
              "      \n",
              "  <style>\n",
              "    .colab-df-container {\n",
              "      display:flex;\n",
              "      flex-wrap:wrap;\n",
              "      gap: 12px;\n",
              "    }\n",
              "\n",
              "    .colab-df-convert {\n",
              "      background-color: #E8F0FE;\n",
              "      border: none;\n",
              "      border-radius: 50%;\n",
              "      cursor: pointer;\n",
              "      display: none;\n",
              "      fill: #1967D2;\n",
              "      height: 32px;\n",
              "      padding: 0 0 0 0;\n",
              "      width: 32px;\n",
              "    }\n",
              "\n",
              "    .colab-df-convert:hover {\n",
              "      background-color: #E2EBFA;\n",
              "      box-shadow: 0px 1px 2px rgba(60, 64, 67, 0.3), 0px 1px 3px 1px rgba(60, 64, 67, 0.15);\n",
              "      fill: #174EA6;\n",
              "    }\n",
              "\n",
              "    [theme=dark] .colab-df-convert {\n",
              "      background-color: #3B4455;\n",
              "      fill: #D2E3FC;\n",
              "    }\n",
              "\n",
              "    [theme=dark] .colab-df-convert:hover {\n",
              "      background-color: #434B5C;\n",
              "      box-shadow: 0px 1px 3px 1px rgba(0, 0, 0, 0.15);\n",
              "      filter: drop-shadow(0px 1px 2px rgba(0, 0, 0, 0.3));\n",
              "      fill: #FFFFFF;\n",
              "    }\n",
              "  </style>\n",
              "\n",
              "      <script>\n",
              "        const buttonEl =\n",
              "          document.querySelector('#df-04d208e1-9ea6-40ef-960f-5d4e89bf6aee button.colab-df-convert');\n",
              "        buttonEl.style.display =\n",
              "          google.colab.kernel.accessAllowed ? 'block' : 'none';\n",
              "\n",
              "        async function convertToInteractive(key) {\n",
              "          const element = document.querySelector('#df-04d208e1-9ea6-40ef-960f-5d4e89bf6aee');\n",
              "          const dataTable =\n",
              "            await google.colab.kernel.invokeFunction('convertToInteractive',\n",
              "                                                     [key], {});\n",
              "          if (!dataTable) return;\n",
              "\n",
              "          const docLinkHtml = 'Like what you see? Visit the ' +\n",
              "            '<a target=\"_blank\" href=https://colab.research.google.com/notebooks/data_table.ipynb>data table notebook</a>'\n",
              "            + ' to learn more about interactive tables.';\n",
              "          element.innerHTML = '';\n",
              "          dataTable['output_type'] = 'display_data';\n",
              "          await google.colab.output.renderOutput(dataTable, element);\n",
              "          const docLink = document.createElement('div');\n",
              "          docLink.innerHTML = docLinkHtml;\n",
              "          element.appendChild(docLink);\n",
              "        }\n",
              "      </script>\n",
              "    </div>\n",
              "  </div>\n",
              "  "
            ]
          },
          "metadata": {},
          "execution_count": 23
        }
      ]
    },
    {
      "cell_type": "code",
      "source": [
        "y2=data4_iqr.copy()"
      ],
      "metadata": {
        "id": "xPNy_FubGxLb"
      },
      "execution_count": null,
      "outputs": []
    },
    {
      "cell_type": "code",
      "source": [
        "#Convertir DataFrame a CSV\n",
        "y2.to_csv(\"lastmile_sin_Outliers.csv\")"
      ],
      "metadata": {
        "id": "53AsMYDlG6Iq"
      },
      "execution_count": null,
      "outputs": []
    },
    {
      "cell_type": "code",
      "source": [
        "#descargar archivo filtrado en csv\n",
        "from google.colab import files \n",
        "  \n",
        "files.download(\"lastmile_sin_Outliers.csv\")"
      ],
      "metadata": {
        "colab": {
          "base_uri": "https://localhost:8080/",
          "height": 17
        },
        "id": "0XCsSJbjG_0E",
        "outputId": "9213bd7d-67dc-41cf-d522-7789678366aa"
      },
      "execution_count": null,
      "outputs": [
        {
          "output_type": "display_data",
          "data": {
            "text/plain": [
              "<IPython.core.display.Javascript object>"
            ],
            "application/javascript": [
              "\n",
              "    async function download(id, filename, size) {\n",
              "      if (!google.colab.kernel.accessAllowed) {\n",
              "        return;\n",
              "      }\n",
              "      const div = document.createElement('div');\n",
              "      const label = document.createElement('label');\n",
              "      label.textContent = `Downloading \"${filename}\": `;\n",
              "      div.appendChild(label);\n",
              "      const progress = document.createElement('progress');\n",
              "      progress.max = size;\n",
              "      div.appendChild(progress);\n",
              "      document.body.appendChild(div);\n",
              "\n",
              "      const buffers = [];\n",
              "      let downloaded = 0;\n",
              "\n",
              "      const channel = await google.colab.kernel.comms.open(id);\n",
              "      // Send a message to notify the kernel that we're ready.\n",
              "      channel.send({})\n",
              "\n",
              "      for await (const message of channel.messages) {\n",
              "        // Send a message to notify the kernel that we're ready.\n",
              "        channel.send({})\n",
              "        if (message.buffers) {\n",
              "          for (const buffer of message.buffers) {\n",
              "            buffers.push(buffer);\n",
              "            downloaded += buffer.byteLength;\n",
              "            progress.value = downloaded;\n",
              "          }\n",
              "        }\n",
              "      }\n",
              "      const blob = new Blob(buffers, {type: 'application/binary'});\n",
              "      const a = document.createElement('a');\n",
              "      a.href = window.URL.createObjectURL(blob);\n",
              "      a.download = filename;\n",
              "      div.appendChild(a);\n",
              "      a.click();\n",
              "      div.remove();\n",
              "    }\n",
              "  "
            ]
          },
          "metadata": {}
        },
        {
          "output_type": "display_data",
          "data": {
            "text/plain": [
              "<IPython.core.display.Javascript object>"
            ],
            "application/javascript": [
              "download(\"download_161533c5-4278-4eca-9ba5-36afb5126f1d\", \"lastmile_sin_Outliers.csv\", 8231)"
            ]
          },
          "metadata": {}
        }
      ]
    }
  ]
}