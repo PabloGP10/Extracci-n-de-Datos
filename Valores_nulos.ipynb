{
  "nbformat": 4,
  "nbformat_minor": 0,
  "metadata": {
    "colab": {
      "provenance": [],
      "authorship_tag": "ABX9TyP3iC+d21+90VHN88LscERs",
      "include_colab_link": true
    },
    "kernelspec": {
      "name": "python3",
      "display_name": "Python 3"
    },
    "language_info": {
      "name": "python"
    }
  },
  "cells": [
    {
      "cell_type": "markdown",
      "metadata": {
        "id": "view-in-github",
        "colab_type": "text"
      },
      "source": [
        "<a href=\"https://colab.research.google.com/github/PabloGP10/Extracci-n-de-Datos/blob/main/Valores_nulos.ipynb\" target=\"_parent\"><img src=\"https://colab.research.google.com/assets/colab-badge.svg\" alt=\"Open In Colab\"/></a>"
      ]
    },
    {
      "cell_type": "code",
      "execution_count": 1,
      "metadata": {
        "id": "wZMJn56VinbC"
      },
      "outputs": [],
      "source": [
        "#Importamos las librerías pandas, numpy y matplotlib\n",
        "import pandas as pd\n",
        "import numpy as np\n",
        "import matplotlib.pyplot as plt"
      ]
    },
    {
      "cell_type": "code",
      "source": [
        "#Cargar archivo csv desde equipo\n",
        "from google.colab import files\n",
        "files.upload()"
      ],
      "metadata": {
        "id": "uKsaXOUWjJO6"
      },
      "execution_count": null,
      "outputs": []
    },
    {
      "cell_type": "code",
      "source": [
        "#Carga desde un archivo .csv sin indice\n",
        "data=pd.read_csv('inmuebles2.csv')\n",
        "data.head(5)"
      ],
      "metadata": {
        "id": "j0SRkrsEjt-2"
      },
      "execution_count": null,
      "outputs": []
    },
    {
      "cell_type": "code",
      "source": [
        "#Eliminar primera fila o filas innecesarias\n",
        "data1=pd.read_csv('inmuebles2.csv', skiprows=1, low_memory=False) # numero de la fila que se quiere eliminar skiprows\n",
        "data1"
      ],
      "metadata": {
        "id": "-9Maws-IkET6"
      },
      "execution_count": null,
      "outputs": []
    },
    {
      "cell_type": "code",
      "source": [
        "#Eliminar columnas innecesarias\n",
        "data2=data1.drop(['0','Referencia'],axis=1) # axis 1 es para columnas, axis 0 es para filas\n",
        "data2"
      ],
      "metadata": {
        "id": "oPA-fzDqlXeg"
      },
      "execution_count": null,
      "outputs": []
    },
    {
      "cell_type": "code",
      "source": [
        "#Identificar valores nulos por columna \n",
        "valores_nulos=data2.isnull().sum() #si se agraga otro .sum() aparece la sumatoria total de todos los datos\n",
        "valores_nulos"
      ],
      "metadata": {
        "colab": {
          "base_uri": "https://localhost:8080/"
        },
        "id": "jDj5JFWPlsgT",
        "outputId": "9b6954a9-30ff-473e-87e8-0d2b069b6c4d"
      },
      "execution_count": 6,
      "outputs": [
        {
          "output_type": "execute_result",
          "data": {
            "text/plain": [
              "Fecha Alta        2\n",
              "Tipo              2\n",
              "Operación         1\n",
              "Provincia         4\n",
              "Superficie        4\n",
              "Precio Venta      6\n",
              "Fecha Venta     578\n",
              "Vendedor        578\n",
              "dtype: int64"
            ]
          },
          "metadata": {},
          "execution_count": 6
        }
      ]
    },
    {
      "cell_type": "markdown",
      "source": [
        "# **Metodos de sustitución de Valores Nulos**"
      ],
      "metadata": {
        "id": "gJcQgFJkoIA_"
      }
    },
    {
      "cell_type": "code",
      "source": [
        "#Realizamos una copia del dataframe\n",
        "data3=data2.copy()"
      ],
      "metadata": {
        "id": "OWcWaKIJoUT3"
      },
      "execution_count": 11,
      "outputs": []
    },
    {
      "cell_type": "code",
      "source": [
        "#Primer metodo de sustitución de valores nulos\n",
        "#Sustituir valores nulos con promedio o media\n",
        "data3['Superficie']=data3['Superficie'].fillna(round(data2['Superficie'].mean(),1))"
      ],
      "metadata": {
        "id": "ueP_BKXToeLU"
      },
      "execution_count": 12,
      "outputs": []
    },
    {
      "cell_type": "code",
      "source": [
        "#Corrobarramos valores nulos\n",
        "valores_nulos=data3.isnull().sum() \n",
        "valores_nulos"
      ],
      "metadata": {
        "id": "iyWboLQDpwGQ"
      },
      "execution_count": null,
      "outputs": []
    },
    {
      "cell_type": "code",
      "source": [
        "#Segundo metodo de sustitución de valores nulos\n",
        "#Sustituir valores nulos con mediana\n",
        "data3['Precio Venta']=data3['Precio Venta'].fillna(round(data2['Precio Venta'].median(),1))\n",
        "data3"
      ],
      "metadata": {
        "id": "zXLXbTXGqFCr"
      },
      "execution_count": null,
      "outputs": []
    },
    {
      "cell_type": "code",
      "source": [
        "#Corrobarramos valores nulos\n",
        "valores_nulos=data3.isnull().sum() \n",
        "valores_nulos"
      ],
      "metadata": {
        "id": "e9JMEXvXqgCH"
      },
      "execution_count": null,
      "outputs": []
    },
    {
      "cell_type": "code",
      "source": [
        "#Tercer metodo de sustitución de valores nulos\n",
        "#Sustituir valores nulos por un valor númerico en concreto\n",
        "data3['Fecha Alta']=data3['Fecha Alta'].fillna(10)\n",
        "data3"
      ],
      "metadata": {
        "id": "ccDEgp7Nq_k4"
      },
      "execution_count": null,
      "outputs": []
    },
    {
      "cell_type": "code",
      "source": [
        "#Corrobarramos valores nulos\n",
        "valores_nulos=data3.isnull().sum() \n",
        "valores_nulos"
      ],
      "metadata": {
        "id": "AJYifn8xreS0"
      },
      "execution_count": null,
      "outputs": []
    },
    {
      "cell_type": "code",
      "source": [
        "#Cuarto metodo de sustitución de valores nulos\n",
        "#Sustituir valores nulos por un string en concreto\n",
        "data3['Fecha Venta']=data3['Fecha Venta'].fillna(\"2030-06-19 00:00:00\")\n",
        "data3"
      ],
      "metadata": {
        "id": "Ifir_LvkryXT"
      },
      "execution_count": null,
      "outputs": []
    },
    {
      "cell_type": "code",
      "source": [
        "#Corrobarramos valores nulos\n",
        "valores_nulos=data3.isnull().sum() \n",
        "valores_nulos"
      ],
      "metadata": {
        "colab": {
          "base_uri": "https://localhost:8080/"
        },
        "id": "PONkxg__sOcD",
        "outputId": "2fe8bf94-81aa-42ec-b5e3-ef9295da4f19"
      },
      "execution_count": 21,
      "outputs": [
        {
          "output_type": "execute_result",
          "data": {
            "text/plain": [
              "Fecha Alta        0\n",
              "Tipo              2\n",
              "Operación         1\n",
              "Provincia         4\n",
              "Superficie        0\n",
              "Precio Venta      0\n",
              "Fecha Venta       0\n",
              "Vendedor        578\n",
              "dtype: int64"
            ]
          },
          "metadata": {},
          "execution_count": 21
        }
      ]
    },
    {
      "cell_type": "code",
      "source": [
        "#Quinto metodo de sustitución de valores nulos\n",
        "#Sustituir valores nulos por valores no nulos hacia adelante \"forward fill\"(\"ffill\")\n",
        "data3['Tipo']=data3['Tipo'].fillna(method=\"ffill\") #metodo mas completo\n",
        "data3"
      ],
      "metadata": {
        "colab": {
          "base_uri": "https://localhost:8080/",
          "height": 424
        },
        "id": "MRwOj7m6s4iJ",
        "outputId": "45fd1a21-30aa-4797-ebba-55a84e8e79ef"
      },
      "execution_count": 22,
      "outputs": [
        {
          "output_type": "execute_result",
          "data": {
            "text/plain": [
              "               Fecha Alta        Tipo Operación  Provincia  Superficie  \\\n",
              "0     2004-01-01 00:00:00     Parking  Alquiler     Lleida       291.0   \n",
              "1     2004-01-01 00:00:00       Local     Venta     Girona       185.0   \n",
              "2     2004-01-01 00:00:00     Oficina  Alquiler     Girona        82.0   \n",
              "3     2004-01-02 00:00:00     Parking  Alquiler     Girona       285.0   \n",
              "4     2004-01-02 00:00:00       Suelo     Venta  Tarragona       152.0   \n",
              "...                   ...         ...       ...        ...         ...   \n",
              "3332  2007-04-29 00:00:00  Industrial  Alquiler     Lleida       221.0   \n",
              "3333  2007-04-29 00:00:00        Piso  Alquiler     Girona        55.0   \n",
              "3334  2007-04-30 00:00:00       Suelo     Venta  Tarragona        78.0   \n",
              "3335  2007-04-30 00:00:00        Piso  Alquiler  Barcelona        88.0   \n",
              "3336  2007-04-30 00:00:00     Parking     Venta     Lleida       170.2   \n",
              "\n",
              "      Precio Venta          Fecha Venta Vendedor  \n",
              "0        2133903.0  2004-06-19 00:00:00   Carmen  \n",
              "1        1945424.0  2004-04-19 00:00:00    Pedro  \n",
              "2        1121906.0  2004-11-08 00:00:00  Joaquín  \n",
              "3        1121906.0  2004-04-27 00:00:00    Jesús  \n",
              "4         185000.0  2004-07-10 00:00:00    María  \n",
              "...            ...                  ...      ...  \n",
              "3332     1450644.0  2030-06-19 00:00:00      NaN  \n",
              "3333      454080.0  2030-06-19 00:00:00      NaN  \n",
              "3334      740688.0  2030-06-19 00:00:00      NaN  \n",
              "3335      397408.0  2030-06-19 00:00:00      NaN  \n",
              "3336     2140712.0  2030-06-19 00:00:00      NaN  \n",
              "\n",
              "[3337 rows x 8 columns]"
            ],
            "text/html": [
              "\n",
              "  <div id=\"df-4c57501c-47d2-4cfb-99a2-56f963f03a67\">\n",
              "    <div class=\"colab-df-container\">\n",
              "      <div>\n",
              "<style scoped>\n",
              "    .dataframe tbody tr th:only-of-type {\n",
              "        vertical-align: middle;\n",
              "    }\n",
              "\n",
              "    .dataframe tbody tr th {\n",
              "        vertical-align: top;\n",
              "    }\n",
              "\n",
              "    .dataframe thead th {\n",
              "        text-align: right;\n",
              "    }\n",
              "</style>\n",
              "<table border=\"1\" class=\"dataframe\">\n",
              "  <thead>\n",
              "    <tr style=\"text-align: right;\">\n",
              "      <th></th>\n",
              "      <th>Fecha Alta</th>\n",
              "      <th>Tipo</th>\n",
              "      <th>Operación</th>\n",
              "      <th>Provincia</th>\n",
              "      <th>Superficie</th>\n",
              "      <th>Precio Venta</th>\n",
              "      <th>Fecha Venta</th>\n",
              "      <th>Vendedor</th>\n",
              "    </tr>\n",
              "  </thead>\n",
              "  <tbody>\n",
              "    <tr>\n",
              "      <th>0</th>\n",
              "      <td>2004-01-01 00:00:00</td>\n",
              "      <td>Parking</td>\n",
              "      <td>Alquiler</td>\n",
              "      <td>Lleida</td>\n",
              "      <td>291.0</td>\n",
              "      <td>2133903.0</td>\n",
              "      <td>2004-06-19 00:00:00</td>\n",
              "      <td>Carmen</td>\n",
              "    </tr>\n",
              "    <tr>\n",
              "      <th>1</th>\n",
              "      <td>2004-01-01 00:00:00</td>\n",
              "      <td>Local</td>\n",
              "      <td>Venta</td>\n",
              "      <td>Girona</td>\n",
              "      <td>185.0</td>\n",
              "      <td>1945424.0</td>\n",
              "      <td>2004-04-19 00:00:00</td>\n",
              "      <td>Pedro</td>\n",
              "    </tr>\n",
              "    <tr>\n",
              "      <th>2</th>\n",
              "      <td>2004-01-01 00:00:00</td>\n",
              "      <td>Oficina</td>\n",
              "      <td>Alquiler</td>\n",
              "      <td>Girona</td>\n",
              "      <td>82.0</td>\n",
              "      <td>1121906.0</td>\n",
              "      <td>2004-11-08 00:00:00</td>\n",
              "      <td>Joaquín</td>\n",
              "    </tr>\n",
              "    <tr>\n",
              "      <th>3</th>\n",
              "      <td>2004-01-02 00:00:00</td>\n",
              "      <td>Parking</td>\n",
              "      <td>Alquiler</td>\n",
              "      <td>Girona</td>\n",
              "      <td>285.0</td>\n",
              "      <td>1121906.0</td>\n",
              "      <td>2004-04-27 00:00:00</td>\n",
              "      <td>Jesús</td>\n",
              "    </tr>\n",
              "    <tr>\n",
              "      <th>4</th>\n",
              "      <td>2004-01-02 00:00:00</td>\n",
              "      <td>Suelo</td>\n",
              "      <td>Venta</td>\n",
              "      <td>Tarragona</td>\n",
              "      <td>152.0</td>\n",
              "      <td>185000.0</td>\n",
              "      <td>2004-07-10 00:00:00</td>\n",
              "      <td>María</td>\n",
              "    </tr>\n",
              "    <tr>\n",
              "      <th>...</th>\n",
              "      <td>...</td>\n",
              "      <td>...</td>\n",
              "      <td>...</td>\n",
              "      <td>...</td>\n",
              "      <td>...</td>\n",
              "      <td>...</td>\n",
              "      <td>...</td>\n",
              "      <td>...</td>\n",
              "    </tr>\n",
              "    <tr>\n",
              "      <th>3332</th>\n",
              "      <td>2007-04-29 00:00:00</td>\n",
              "      <td>Industrial</td>\n",
              "      <td>Alquiler</td>\n",
              "      <td>Lleida</td>\n",
              "      <td>221.0</td>\n",
              "      <td>1450644.0</td>\n",
              "      <td>2030-06-19 00:00:00</td>\n",
              "      <td>NaN</td>\n",
              "    </tr>\n",
              "    <tr>\n",
              "      <th>3333</th>\n",
              "      <td>2007-04-29 00:00:00</td>\n",
              "      <td>Piso</td>\n",
              "      <td>Alquiler</td>\n",
              "      <td>Girona</td>\n",
              "      <td>55.0</td>\n",
              "      <td>454080.0</td>\n",
              "      <td>2030-06-19 00:00:00</td>\n",
              "      <td>NaN</td>\n",
              "    </tr>\n",
              "    <tr>\n",
              "      <th>3334</th>\n",
              "      <td>2007-04-30 00:00:00</td>\n",
              "      <td>Suelo</td>\n",
              "      <td>Venta</td>\n",
              "      <td>Tarragona</td>\n",
              "      <td>78.0</td>\n",
              "      <td>740688.0</td>\n",
              "      <td>2030-06-19 00:00:00</td>\n",
              "      <td>NaN</td>\n",
              "    </tr>\n",
              "    <tr>\n",
              "      <th>3335</th>\n",
              "      <td>2007-04-30 00:00:00</td>\n",
              "      <td>Piso</td>\n",
              "      <td>Alquiler</td>\n",
              "      <td>Barcelona</td>\n",
              "      <td>88.0</td>\n",
              "      <td>397408.0</td>\n",
              "      <td>2030-06-19 00:00:00</td>\n",
              "      <td>NaN</td>\n",
              "    </tr>\n",
              "    <tr>\n",
              "      <th>3336</th>\n",
              "      <td>2007-04-30 00:00:00</td>\n",
              "      <td>Parking</td>\n",
              "      <td>Venta</td>\n",
              "      <td>Lleida</td>\n",
              "      <td>170.2</td>\n",
              "      <td>2140712.0</td>\n",
              "      <td>2030-06-19 00:00:00</td>\n",
              "      <td>NaN</td>\n",
              "    </tr>\n",
              "  </tbody>\n",
              "</table>\n",
              "<p>3337 rows × 8 columns</p>\n",
              "</div>\n",
              "      <button class=\"colab-df-convert\" onclick=\"convertToInteractive('df-4c57501c-47d2-4cfb-99a2-56f963f03a67')\"\n",
              "              title=\"Convert this dataframe to an interactive table.\"\n",
              "              style=\"display:none;\">\n",
              "        \n",
              "  <svg xmlns=\"http://www.w3.org/2000/svg\" height=\"24px\"viewBox=\"0 0 24 24\"\n",
              "       width=\"24px\">\n",
              "    <path d=\"M0 0h24v24H0V0z\" fill=\"none\"/>\n",
              "    <path d=\"M18.56 5.44l.94 2.06.94-2.06 2.06-.94-2.06-.94-.94-2.06-.94 2.06-2.06.94zm-11 1L8.5 8.5l.94-2.06 2.06-.94-2.06-.94L8.5 2.5l-.94 2.06-2.06.94zm10 10l.94 2.06.94-2.06 2.06-.94-2.06-.94-.94-2.06-.94 2.06-2.06.94z\"/><path d=\"M17.41 7.96l-1.37-1.37c-.4-.4-.92-.59-1.43-.59-.52 0-1.04.2-1.43.59L10.3 9.45l-7.72 7.72c-.78.78-.78 2.05 0 2.83L4 21.41c.39.39.9.59 1.41.59.51 0 1.02-.2 1.41-.59l7.78-7.78 2.81-2.81c.8-.78.8-2.07 0-2.86zM5.41 20L4 18.59l7.72-7.72 1.47 1.35L5.41 20z\"/>\n",
              "  </svg>\n",
              "      </button>\n",
              "      \n",
              "  <style>\n",
              "    .colab-df-container {\n",
              "      display:flex;\n",
              "      flex-wrap:wrap;\n",
              "      gap: 12px;\n",
              "    }\n",
              "\n",
              "    .colab-df-convert {\n",
              "      background-color: #E8F0FE;\n",
              "      border: none;\n",
              "      border-radius: 50%;\n",
              "      cursor: pointer;\n",
              "      display: none;\n",
              "      fill: #1967D2;\n",
              "      height: 32px;\n",
              "      padding: 0 0 0 0;\n",
              "      width: 32px;\n",
              "    }\n",
              "\n",
              "    .colab-df-convert:hover {\n",
              "      background-color: #E2EBFA;\n",
              "      box-shadow: 0px 1px 2px rgba(60, 64, 67, 0.3), 0px 1px 3px 1px rgba(60, 64, 67, 0.15);\n",
              "      fill: #174EA6;\n",
              "    }\n",
              "\n",
              "    [theme=dark] .colab-df-convert {\n",
              "      background-color: #3B4455;\n",
              "      fill: #D2E3FC;\n",
              "    }\n",
              "\n",
              "    [theme=dark] .colab-df-convert:hover {\n",
              "      background-color: #434B5C;\n",
              "      box-shadow: 0px 1px 3px 1px rgba(0, 0, 0, 0.15);\n",
              "      filter: drop-shadow(0px 1px 2px rgba(0, 0, 0, 0.3));\n",
              "      fill: #FFFFFF;\n",
              "    }\n",
              "  </style>\n",
              "\n",
              "      <script>\n",
              "        const buttonEl =\n",
              "          document.querySelector('#df-4c57501c-47d2-4cfb-99a2-56f963f03a67 button.colab-df-convert');\n",
              "        buttonEl.style.display =\n",
              "          google.colab.kernel.accessAllowed ? 'block' : 'none';\n",
              "\n",
              "        async function convertToInteractive(key) {\n",
              "          const element = document.querySelector('#df-4c57501c-47d2-4cfb-99a2-56f963f03a67');\n",
              "          const dataTable =\n",
              "            await google.colab.kernel.invokeFunction('convertToInteractive',\n",
              "                                                     [key], {});\n",
              "          if (!dataTable) return;\n",
              "\n",
              "          const docLinkHtml = 'Like what you see? Visit the ' +\n",
              "            '<a target=\"_blank\" href=https://colab.research.google.com/notebooks/data_table.ipynb>data table notebook</a>'\n",
              "            + ' to learn more about interactive tables.';\n",
              "          element.innerHTML = '';\n",
              "          dataTable['output_type'] = 'display_data';\n",
              "          await google.colab.output.renderOutput(dataTable, element);\n",
              "          const docLink = document.createElement('div');\n",
              "          docLink.innerHTML = docLinkHtml;\n",
              "          element.appendChild(docLink);\n",
              "        }\n",
              "      </script>\n",
              "    </div>\n",
              "  </div>\n",
              "  "
            ]
          },
          "metadata": {},
          "execution_count": 22
        }
      ]
    },
    {
      "cell_type": "code",
      "source": [
        "#Corrobarramos valores nulos\n",
        "valores_nulos=data3.isnull().sum() \n",
        "valores_nulos"
      ],
      "metadata": {
        "colab": {
          "base_uri": "https://localhost:8080/"
        },
        "id": "pt939au_tT_D",
        "outputId": "a011aa21-8cc2-4201-b3f7-4c96162cae24"
      },
      "execution_count": 23,
      "outputs": [
        {
          "output_type": "execute_result",
          "data": {
            "text/plain": [
              "Fecha Alta        0\n",
              "Tipo              0\n",
              "Operación         1\n",
              "Provincia         4\n",
              "Superficie        0\n",
              "Precio Venta      0\n",
              "Fecha Venta       0\n",
              "Vendedor        578\n",
              "dtype: int64"
            ]
          },
          "metadata": {},
          "execution_count": 23
        }
      ]
    },
    {
      "cell_type": "code",
      "source": [
        "#Sexto metodo de sustitución de valores nulos\n",
        "#Sustituir valores nulos por valores no nulos hacia ataras backward \"fill\"(\"bfill\")\n",
        "data3['Operación']=data3['Operación'].fillna(method=\"bfill\") #metodo mas completo\n",
        "data3"
      ],
      "metadata": {
        "id": "Ks3HIFxGtY0s"
      },
      "execution_count": null,
      "outputs": []
    },
    {
      "cell_type": "code",
      "source": [
        "#Corrobarramos valores nulos\n",
        "valores_nulos=data3.isnull().sum() \n",
        "valores_nulos"
      ],
      "metadata": {
        "colab": {
          "base_uri": "https://localhost:8080/"
        },
        "id": "_uv7ryLIt5DN",
        "outputId": "e46d3a4a-09a4-4d0c-cf84-4d1ce2df7ddc"
      },
      "execution_count": 25,
      "outputs": [
        {
          "output_type": "execute_result",
          "data": {
            "text/plain": [
              "Fecha Alta        0\n",
              "Tipo              0\n",
              "Operación         0\n",
              "Provincia         4\n",
              "Superficie        0\n",
              "Precio Venta      0\n",
              "Fecha Venta       0\n",
              "Vendedor        578\n",
              "dtype: int64"
            ]
          },
          "metadata": {},
          "execution_count": 25
        }
      ]
    },
    {
      "cell_type": "code",
      "source": [
        "#Sustituir valores nulos por valores no nulos hacia ataras backward \"fill\"(\"bfill\")\n",
        "data3['Provincia']=data3['Provincia'].fillna(method=\"bfill\") #metodo mas completo\n",
        "data3"
      ],
      "metadata": {
        "id": "kIJkt3V_uIii"
      },
      "execution_count": null,
      "outputs": []
    },
    {
      "cell_type": "code",
      "source": [
        "#Corrobarramos valores nulos\n",
        "valores_nulos=data3.isnull().sum() \n",
        "valores_nulos"
      ],
      "metadata": {
        "id": "pJ0IuEg7uR1R"
      },
      "execution_count": null,
      "outputs": []
    },
    {
      "cell_type": "code",
      "source": [
        "#Sustituir valores nulos por valores no nulos hacia adelante \"forward fill\"(\"ffill\")\n",
        "data3['Vendedor']=data3['Vendedor'].fillna(method=\"ffill\") #metodo mas completo\n",
        "data3"
      ],
      "metadata": {
        "id": "gbXpW6e7uUKx"
      },
      "execution_count": null,
      "outputs": []
    },
    {
      "cell_type": "code",
      "source": [
        "#Corrobarramos valores nulos\n",
        "valores_nulos=data3.isnull().sum() \n",
        "valores_nulos"
      ],
      "metadata": {
        "colab": {
          "base_uri": "https://localhost:8080/"
        },
        "id": "V7b0dkA9uxUH",
        "outputId": "9f73bcc2-e666-4387-c4ce-589436b06e91"
      },
      "execution_count": 29,
      "outputs": [
        {
          "output_type": "execute_result",
          "data": {
            "text/plain": [
              "Fecha Alta      0\n",
              "Tipo            0\n",
              "Operación       0\n",
              "Provincia       0\n",
              "Superficie      0\n",
              "Precio Venta    0\n",
              "Fecha Venta     0\n",
              "Vendedor        0\n",
              "dtype: int64"
            ]
          },
          "metadata": {},
          "execution_count": 29
        }
      ]
    },
    {
      "cell_type": "code",
      "source": [
        "#Corroborramos valores nulos en todo el dataframe\n",
        "valores_nulos=data3.isnull().sum().sum()\n",
        "valores_nulos"
      ],
      "metadata": {
        "colab": {
          "base_uri": "https://localhost:8080/"
        },
        "id": "dmijfE3JvP17",
        "outputId": "811e9f3a-e501-421e-c135-6055fc4bf56f"
      },
      "execution_count": 30,
      "outputs": [
        {
          "output_type": "execute_result",
          "data": {
            "text/plain": [
              "0"
            ]
          },
          "metadata": {},
          "execution_count": 30
        }
      ]
    },
    {
      "cell_type": "markdown",
      "source": [
        "# **Metodo de Eliminación de valores nulos**"
      ],
      "metadata": {
        "id": "WvDUSgxTvJDt"
      }
    },
    {
      "cell_type": "code",
      "source": [
        "#Identificar valores nulos por columna\n",
        "valores_nulos=data2.isnull().sum()\n",
        "valores_nulos"
      ],
      "metadata": {
        "id": "DUI0yw_nx2in"
      },
      "execution_count": null,
      "outputs": []
    },
    {
      "cell_type": "code",
      "source": [
        "#Realizamos una copia del dataframe\n",
        "data4=data2.copy()"
      ],
      "metadata": {
        "id": "zwPhQ6IcyEzG"
      },
      "execution_count": 32,
      "outputs": []
    },
    {
      "cell_type": "code",
      "source": [
        "#Eliminamos filas con nulos\n",
        "data4=data2.dropna(0)\n",
        "data4"
      ],
      "metadata": {
        "id": "3YMqCxuCyNAI"
      },
      "execution_count": null,
      "outputs": []
    },
    {
      "cell_type": "code",
      "source": [
        "#Identificar valores nulos por columna\n",
        "valores_nulos=data4.isnull().sum()\n",
        "valores_nulos"
      ],
      "metadata": {
        "colab": {
          "base_uri": "https://localhost:8080/"
        },
        "id": "rcrKAXUVyZN-",
        "outputId": "5c8d52ec-5a8b-4d91-c969-1a0e62319e88"
      },
      "execution_count": 34,
      "outputs": [
        {
          "output_type": "execute_result",
          "data": {
            "text/plain": [
              "Fecha Alta      0\n",
              "Tipo            0\n",
              "Operación       0\n",
              "Provincia       0\n",
              "Superficie      0\n",
              "Precio Venta    0\n",
              "Fecha Venta     0\n",
              "Vendedor        0\n",
              "dtype: int64"
            ]
          },
          "metadata": {},
          "execution_count": 34
        }
      ]
    },
    {
      "cell_type": "markdown",
      "source": [
        "# **Comparamos Dataframe3(Sustitución) y Dataframe4(Eliminación)**"
      ],
      "metadata": {
        "id": "KVFEOUx7y095"
      }
    },
    {
      "cell_type": "code",
      "source": [
        "data3.info()"
      ],
      "metadata": {
        "colab": {
          "base_uri": "https://localhost:8080/"
        },
        "id": "sqaVMjbRzHJj",
        "outputId": "dfd0da8d-b393-4be8-f9f6-1b4e9e26c16b"
      },
      "execution_count": 35,
      "outputs": [
        {
          "output_type": "stream",
          "name": "stdout",
          "text": [
            "<class 'pandas.core.frame.DataFrame'>\n",
            "RangeIndex: 3337 entries, 0 to 3336\n",
            "Data columns (total 8 columns):\n",
            " #   Column        Non-Null Count  Dtype  \n",
            "---  ------        --------------  -----  \n",
            " 0   Fecha Alta    3337 non-null   object \n",
            " 1   Tipo          3337 non-null   object \n",
            " 2   Operación     3337 non-null   object \n",
            " 3   Provincia     3337 non-null   object \n",
            " 4   Superficie    3337 non-null   float64\n",
            " 5   Precio Venta  3337 non-null   float64\n",
            " 6   Fecha Venta   3337 non-null   object \n",
            " 7   Vendedor      3337 non-null   object \n",
            "dtypes: float64(2), object(6)\n",
            "memory usage: 208.7+ KB\n"
          ]
        }
      ]
    },
    {
      "cell_type": "code",
      "source": [
        "data4.info()"
      ],
      "metadata": {
        "colab": {
          "base_uri": "https://localhost:8080/"
        },
        "id": "Hq-6WupgzMty",
        "outputId": "474bc009-9275-4c31-88bd-2bdfd9f148f9"
      },
      "execution_count": 37,
      "outputs": [
        {
          "output_type": "stream",
          "name": "stdout",
          "text": [
            "<class 'pandas.core.frame.DataFrame'>\n",
            "Int64Index: 2747 entries, 0 to 3045\n",
            "Data columns (total 8 columns):\n",
            " #   Column        Non-Null Count  Dtype  \n",
            "---  ------        --------------  -----  \n",
            " 0   Fecha Alta    2747 non-null   object \n",
            " 1   Tipo          2747 non-null   object \n",
            " 2   Operación     2747 non-null   object \n",
            " 3   Provincia     2747 non-null   object \n",
            " 4   Superficie    2747 non-null   float64\n",
            " 5   Precio Venta  2747 non-null   float64\n",
            " 6   Fecha Venta   2747 non-null   object \n",
            " 7   Vendedor      2747 non-null   object \n",
            "dtypes: float64(2), object(6)\n",
            "memory usage: 193.1+ KB\n"
          ]
        }
      ]
    },
    {
      "cell_type": "markdown",
      "source": [
        "# **Convertir DataSet sin valores nulos a CSV**"
      ],
      "metadata": {
        "id": "nWQR4Av4zR1S"
      }
    },
    {
      "cell_type": "code",
      "source": [
        "#Convertir Dataframe a CSV\n",
        "data3.to_csv(\"inmuebles_sin_nulos.csv\")"
      ],
      "metadata": {
        "id": "28F1AbLKzZ5r"
      },
      "execution_count": null,
      "outputs": []
    },
    {
      "cell_type": "code",
      "source": [
        "#descardar archivo filtrado en csv\n",
        "from google.colab import files \n",
        "  \n",
        "  \n",
        "files.download(\"inmuebles_sin_nulos.csv\")"
      ],
      "metadata": {
        "id": "CT0wjhQazrTf"
      },
      "execution_count": null,
      "outputs": []
    }
  ]
}