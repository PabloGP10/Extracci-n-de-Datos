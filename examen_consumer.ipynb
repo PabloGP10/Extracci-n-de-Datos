{
  "nbformat": 4,
  "nbformat_minor": 0,
  "metadata": {
    "colab": {
      "provenance": [],
      "include_colab_link": true
    },
    "kernelspec": {
      "name": "python3",
      "display_name": "Python 3"
    },
    "language_info": {
      "name": "python"
    }
  },
  "cells": [
    {
      "cell_type": "markdown",
      "metadata": {
        "id": "view-in-github",
        "colab_type": "text"
      },
      "source": [
        "<a href=\"https://colab.research.google.com/github/PabloGP10/Extracci-n-de-Datos/blob/main/examen_consumer.ipynb\" target=\"_parent\"><img src=\"https://colab.research.google.com/assets/colab-badge.svg\" alt=\"Open In Colab\"/></a>"
      ]
    },
    {
      "cell_type": "code",
      "execution_count": 12,
      "metadata": {
        "id": "SLSmsGwKb0dm"
      },
      "outputs": [],
      "source": [
        "#Importamos las librerias pandas, numpy y matplotlib respectivamente\n",
        "import pandas as pd\n",
        "import numpy as np\n",
        "import matplotlib.pyplot as plt\n"
      ]
    },
    {
      "cell_type": "code",
      "source": [
        "#Cargar archivo csv desde equipo\n",
        "from google.colab import files\n",
        "files.upload()"
      ],
      "metadata": {
        "id": "pjRT3eBZCzIE"
      },
      "execution_count": null,
      "outputs": []
    },
    {
      "cell_type": "code",
      "source": [
        "data=pd.read_excel('Consumer_mit_lift_lab.xlsx.xlsx')\n",
        "data.head(10)"
      ],
      "metadata": {
        "id": "Nwcf0VuWOkrp"
      },
      "execution_count": null,
      "outputs": []
    },
    {
      "cell_type": "code",
      "source": [
        "#Identificar valores nulos por columna\n",
        "valores_nulos=data.isnull().sum()\n",
        "valores_nulos"
      ],
      "metadata": {
        "colab": {
          "base_uri": "https://localhost:8080/"
        },
        "id": "AYrhCrciFFiB",
        "outputId": "dbe6fba2-cb4e-42f8-8124-758c95f17764"
      },
      "execution_count": 25,
      "outputs": [
        {
          "output_type": "execute_result",
          "data": {
            "text/plain": [
              "_record_id                                    0\n",
              "_title                                        0\n",
              "_server_updated_at                            0\n",
              "_updated_by                                   0\n",
              "_geometry                                     0\n",
              "_latitude                                     0\n",
              "_longitude                                    0\n",
              "282_payment_method_that_purchase              0\n",
              "283_fulfill_needs                             0\n",
              "300_did_not_find                            109\n",
              "237_distance_household_interviewee            0\n",
              "299_means_transportation_consumer             0\n",
              "238_frequency_buying_store                    0\n",
              "284_additional_products_store               111\n",
              "301_electricity_bill                          0\n",
              "305_electricity_bill_store                    7\n",
              "302_water_bill                                0\n",
              "306_water_bill_store                          4\n",
              "303_gas_bill                                  0\n",
              "307_gas_bill_store                            3\n",
              "286_topups                                    0\n",
              "308_topups_in_store                          12\n",
              "287_wire_transfers                            0\n",
              "309_wiretransfers_in_store                    2\n",
              "320_other_services_in_store                   0\n",
              "304_additional_services_store                86\n",
              "81_number_online_purchases_month              0\n",
              "288_number_app_purchases_month                0\n",
              "289_number_whatsapp_purchases_month           0\n",
              "83_willingness_ultrafast_delivery             0\n",
              "84_willingness_sameday_delivery               0\n",
              "241_age_of_the_interviewee                    0\n",
              "240_gender_interviewee                        0\n",
              "indicate_the_type_of_store                    0\n",
              "name_of_the_store                             0\n",
              "storefront_picture_just_once_if_possible     11\n",
              "dtype: int64"
            ]
          },
          "metadata": {},
          "execution_count": 25
        }
      ]
    },
    {
      "cell_type": "markdown",
      "source": [
        "**Métodos de Sustitución de Valores Nulos**"
      ],
      "metadata": {
        "id": "dE4P-ouqtHIn"
      }
    },
    {
      "cell_type": "code",
      "source": [
        "#Realizamos una copia del dataframe\n",
        "data2=data.copy()"
      ],
      "metadata": {
        "id": "-SqkDypjsVSG"
      },
      "execution_count": 26,
      "outputs": []
    },
    {
      "cell_type": "code",
      "source": [
        "#Tercer método de sustitución de valores nulos\n",
        "#Sustituir valores nulos por un valor numérico en  concreto \n",
        "data2[\"300_did_not_find\"]= data2[\"300_did_not_find\"].fillna(10) \n",
        "data2"
      ],
      "metadata": {
        "id": "DQ0XdfRMFsp6"
      },
      "execution_count": null,
      "outputs": []
    },
    {
      "cell_type": "code",
      "source": [
        "#Corroboramos valores nulos\n",
        "valores_nulos=data2.isnull().sum()\n",
        "valores_nulos"
      ],
      "metadata": {
        "id": "qQGnh7Z_spFb",
        "outputId": "4ceb3686-54b0-4b47-949f-2876ac9b3eee",
        "colab": {
          "base_uri": "https://localhost:8080/"
        }
      },
      "execution_count": 28,
      "outputs": [
        {
          "output_type": "execute_result",
          "data": {
            "text/plain": [
              "_record_id                                    0\n",
              "_title                                        0\n",
              "_server_updated_at                            0\n",
              "_updated_by                                   0\n",
              "_geometry                                     0\n",
              "_latitude                                     0\n",
              "_longitude                                    0\n",
              "282_payment_method_that_purchase              0\n",
              "283_fulfill_needs                             0\n",
              "300_did_not_find                              0\n",
              "237_distance_household_interviewee            0\n",
              "299_means_transportation_consumer             0\n",
              "238_frequency_buying_store                    0\n",
              "284_additional_products_store               111\n",
              "301_electricity_bill                          0\n",
              "305_electricity_bill_store                    7\n",
              "302_water_bill                                0\n",
              "306_water_bill_store                          4\n",
              "303_gas_bill                                  0\n",
              "307_gas_bill_store                            3\n",
              "286_topups                                    0\n",
              "308_topups_in_store                          12\n",
              "287_wire_transfers                            0\n",
              "309_wiretransfers_in_store                    2\n",
              "320_other_services_in_store                   0\n",
              "304_additional_services_store                86\n",
              "81_number_online_purchases_month              0\n",
              "288_number_app_purchases_month                0\n",
              "289_number_whatsapp_purchases_month           0\n",
              "83_willingness_ultrafast_delivery             0\n",
              "84_willingness_sameday_delivery               0\n",
              "241_age_of_the_interviewee                    0\n",
              "240_gender_interviewee                        0\n",
              "indicate_the_type_of_store                    0\n",
              "name_of_the_store                             0\n",
              "storefront_picture_just_once_if_possible     11\n",
              "dtype: int64"
            ]
          },
          "metadata": {},
          "execution_count": 28
        }
      ]
    },
    {
      "cell_type": "code",
      "source": [
        "#Sustituir valores nulos por un valor numérico en  concreto \n",
        "data2[\"284_additional_products_store\"]= data2[\"284_additional_products_store\"].fillna(10) \n",
        "data2"
      ],
      "metadata": {
        "id": "BW00UUlkGg8o"
      },
      "execution_count": null,
      "outputs": []
    },
    {
      "cell_type": "code",
      "source": [
        "#Corroboramos valores nulos\n",
        "valores_nulos=data2.isnull().sum()\n",
        "valores_nulos"
      ],
      "metadata": {
        "colab": {
          "base_uri": "https://localhost:8080/"
        },
        "id": "QUfmECLlGw5k",
        "outputId": "292989f5-2378-4bbf-d0b7-4b570627d0b8"
      },
      "execution_count": null,
      "outputs": [
        {
          "output_type": "execute_result",
          "data": {
            "text/plain": [
              "_record_id                                   0\n",
              "_title                                       0\n",
              "_server_updated_at                           0\n",
              "_updated_by                                  0\n",
              "_geometry                                    0\n",
              "_latitude                                    0\n",
              "_longitude                                   0\n",
              "282_payment_method_that_purchase             0\n",
              "283_fulfill_needs                            0\n",
              "300_did_not_find                             0\n",
              "237_distance_household_interviewee           0\n",
              "299_means_transportation_consumer            0\n",
              "238_frequency_buying_store                   0\n",
              "284_additional_products_store                0\n",
              "301_electricity_bill                         0\n",
              "305_electricity_bill_store                   7\n",
              "302_water_bill                               0\n",
              "306_water_bill_store                         4\n",
              "303_gas_bill                                 0\n",
              "307_gas_bill_store                           3\n",
              "286_topups                                   0\n",
              "308_topups_in_store                         12\n",
              "287_wire_transfers                           0\n",
              "309_wiretransfers_in_store                   2\n",
              "320_other_services_in_store                  0\n",
              "304_additional_services_store               86\n",
              "81_number_online_purchases_month             0\n",
              "288_number_app_purchases_month               0\n",
              "289_number_whatsapp_purchases_month          0\n",
              "83_willingness_ultrafast_delivery            0\n",
              "84_willingness_sameday_delivery              0\n",
              "241_age_of_the_interviewee                   0\n",
              "240_gender_interviewee                       0\n",
              "indicate_the_type_of_store                   0\n",
              "name_of_the_store                            0\n",
              "storefront_picture_just_once_if_possible    11\n",
              "dtype: int64"
            ]
          },
          "metadata": {},
          "execution_count": 30
        }
      ]
    },
    {
      "cell_type": "code",
      "source": [
        "#Sustituir valores nulos por valores no nulos hacia adelante forward fill\" (\"ffill\")\n",
        "#Filtro por columnas\n",
        "data2[\"305_electricity_bill_store\"] =data2[\"305_electricity_bill_store\"].fillna(method=\"ffill\") "
      ],
      "metadata": {
        "id": "DJ3bw-jjICzY"
      },
      "execution_count": 30,
      "outputs": []
    },
    {
      "cell_type": "code",
      "source": [
        "#Corroboramos valores nulos\n",
        "valores_nulos=data2.isnull().sum()\n",
        "valores_nulos"
      ],
      "metadata": {
        "colab": {
          "base_uri": "https://localhost:8080/"
        },
        "id": "MA8EqiyCIts_",
        "outputId": "89547a90-3553-4178-d4de-8bf3d9181967"
      },
      "execution_count": 31,
      "outputs": [
        {
          "output_type": "execute_result",
          "data": {
            "text/plain": [
              "_record_id                                   0\n",
              "_title                                       0\n",
              "_server_updated_at                           0\n",
              "_updated_by                                  0\n",
              "_geometry                                    0\n",
              "_latitude                                    0\n",
              "_longitude                                   0\n",
              "282_payment_method_that_purchase             0\n",
              "283_fulfill_needs                            0\n",
              "300_did_not_find                             0\n",
              "237_distance_household_interviewee           0\n",
              "299_means_transportation_consumer            0\n",
              "238_frequency_buying_store                   0\n",
              "284_additional_products_store                0\n",
              "301_electricity_bill                         0\n",
              "305_electricity_bill_store                   0\n",
              "302_water_bill                               0\n",
              "306_water_bill_store                         4\n",
              "303_gas_bill                                 0\n",
              "307_gas_bill_store                           3\n",
              "286_topups                                   0\n",
              "308_topups_in_store                         12\n",
              "287_wire_transfers                           0\n",
              "309_wiretransfers_in_store                   2\n",
              "320_other_services_in_store                  0\n",
              "304_additional_services_store               86\n",
              "81_number_online_purchases_month             0\n",
              "288_number_app_purchases_month               0\n",
              "289_number_whatsapp_purchases_month          0\n",
              "83_willingness_ultrafast_delivery            0\n",
              "84_willingness_sameday_delivery              0\n",
              "241_age_of_the_interviewee                   0\n",
              "240_gender_interviewee                       0\n",
              "indicate_the_type_of_store                   0\n",
              "name_of_the_store                            0\n",
              "storefront_picture_just_once_if_possible    11\n",
              "dtype: int64"
            ]
          },
          "metadata": {},
          "execution_count": 31
        }
      ]
    },
    {
      "cell_type": "code",
      "source": [
        "#Sustituir valores nulos por valores no nulos hacia atrás backward fill\" (\"bfill\")\n",
        "#Filtro por columnas\n",
        "data2[\"306_water_bill_store\"] =data2[\"306_water_bill_store\"].fillna(method=\"bfill\") "
      ],
      "metadata": {
        "id": "bj7KkONDI0NE"
      },
      "execution_count": 32,
      "outputs": []
    },
    {
      "cell_type": "code",
      "source": [
        "#Corroboramos valores nulos\n",
        "valores_nulos=data2.isnull().sum()\n",
        "valores_nulos"
      ],
      "metadata": {
        "colab": {
          "base_uri": "https://localhost:8080/"
        },
        "id": "WOG4QxeyJF2g",
        "outputId": "fe578c4a-65e4-452b-c490-9e98e4448f8d"
      },
      "execution_count": 33,
      "outputs": [
        {
          "output_type": "execute_result",
          "data": {
            "text/plain": [
              "_record_id                                   0\n",
              "_title                                       0\n",
              "_server_updated_at                           0\n",
              "_updated_by                                  0\n",
              "_geometry                                    0\n",
              "_latitude                                    0\n",
              "_longitude                                   0\n",
              "282_payment_method_that_purchase             0\n",
              "283_fulfill_needs                            0\n",
              "300_did_not_find                             0\n",
              "237_distance_household_interviewee           0\n",
              "299_means_transportation_consumer            0\n",
              "238_frequency_buying_store                   0\n",
              "284_additional_products_store                0\n",
              "301_electricity_bill                         0\n",
              "305_electricity_bill_store                   0\n",
              "302_water_bill                               0\n",
              "306_water_bill_store                         0\n",
              "303_gas_bill                                 0\n",
              "307_gas_bill_store                           3\n",
              "286_topups                                   0\n",
              "308_topups_in_store                         12\n",
              "287_wire_transfers                           0\n",
              "309_wiretransfers_in_store                   2\n",
              "320_other_services_in_store                  0\n",
              "304_additional_services_store               86\n",
              "81_number_online_purchases_month             0\n",
              "288_number_app_purchases_month               0\n",
              "289_number_whatsapp_purchases_month          0\n",
              "83_willingness_ultrafast_delivery            0\n",
              "84_willingness_sameday_delivery              0\n",
              "241_age_of_the_interviewee                   0\n",
              "240_gender_interviewee                       0\n",
              "indicate_the_type_of_store                   0\n",
              "name_of_the_store                            0\n",
              "storefront_picture_just_once_if_possible    11\n",
              "dtype: int64"
            ]
          },
          "metadata": {},
          "execution_count": 33
        }
      ]
    },
    {
      "cell_type": "code",
      "source": [
        "#Segundo método de sustitución de valores nulos\n",
        "data2[\"307_gas_bill_store\"]= data2[\"307_gas_bill_store\"].fillna(10) \n",
        "data2"
      ],
      "metadata": {
        "id": "CAXUqrQmtmwo"
      },
      "execution_count": null,
      "outputs": []
    },
    {
      "cell_type": "code",
      "source": [
        "#Corroboramos valores nulos\n",
        "valores_nulos=data2.isnull().sum()\n",
        "valores_nulos"
      ],
      "metadata": {
        "id": "FoNGzV2rtxSs",
        "outputId": "7c84bf1e-0cc3-40dd-dca6-97afc68903cd",
        "colab": {
          "base_uri": "https://localhost:8080/"
        }
      },
      "execution_count": 36,
      "outputs": [
        {
          "output_type": "execute_result",
          "data": {
            "text/plain": [
              "_record_id                                   0\n",
              "_title                                       0\n",
              "_server_updated_at                           0\n",
              "_updated_by                                  0\n",
              "_geometry                                    0\n",
              "_latitude                                    0\n",
              "_longitude                                   0\n",
              "282_payment_method_that_purchase             0\n",
              "283_fulfill_needs                            0\n",
              "300_did_not_find                             0\n",
              "237_distance_household_interviewee           0\n",
              "299_means_transportation_consumer            0\n",
              "238_frequency_buying_store                   0\n",
              "284_additional_products_store                0\n",
              "301_electricity_bill                         0\n",
              "305_electricity_bill_store                   0\n",
              "302_water_bill                               0\n",
              "306_water_bill_store                         0\n",
              "303_gas_bill                                 0\n",
              "307_gas_bill_store                           0\n",
              "286_topups                                   0\n",
              "308_topups_in_store                         12\n",
              "287_wire_transfers                           0\n",
              "309_wiretransfers_in_store                   2\n",
              "320_other_services_in_store                  0\n",
              "304_additional_services_store               86\n",
              "81_number_online_purchases_month             0\n",
              "288_number_app_purchases_month               0\n",
              "289_number_whatsapp_purchases_month          0\n",
              "83_willingness_ultrafast_delivery            0\n",
              "84_willingness_sameday_delivery              0\n",
              "241_age_of_the_interviewee                   0\n",
              "240_gender_interviewee                       0\n",
              "indicate_the_type_of_store                   0\n",
              "name_of_the_store                            0\n",
              "storefront_picture_just_once_if_possible    11\n",
              "dtype: int64"
            ]
          },
          "metadata": {},
          "execution_count": 36
        }
      ]
    },
    {
      "cell_type": "code",
      "source": [
        "#Tercer método de sustitución de valores nulos\n",
        "#Sustituir valores nulos por un valor numérico en  concreto \n",
        "data2[\"308_topups_in_store\"]= data2[\"308_topups_in_store\"].fillna(10) \n",
        "data2\n"
      ],
      "metadata": {
        "id": "Lb6oV6YIuDfF"
      },
      "execution_count": null,
      "outputs": []
    },
    {
      "cell_type": "code",
      "source": [
        "#Corroboramos valores nulos\n",
        "valores_nulos=data2.isnull().sum()\n",
        "valores_nulos"
      ],
      "metadata": {
        "id": "5VlECt90uP8K",
        "colab": {
          "base_uri": "https://localhost:8080/"
        },
        "outputId": "33665fe6-3e88-49bb-8ffb-80bbbe3db566"
      },
      "execution_count": 38,
      "outputs": [
        {
          "output_type": "execute_result",
          "data": {
            "text/plain": [
              "_record_id                                   0\n",
              "_title                                       0\n",
              "_server_updated_at                           0\n",
              "_updated_by                                  0\n",
              "_geometry                                    0\n",
              "_latitude                                    0\n",
              "_longitude                                   0\n",
              "282_payment_method_that_purchase             0\n",
              "283_fulfill_needs                            0\n",
              "300_did_not_find                             0\n",
              "237_distance_household_interviewee           0\n",
              "299_means_transportation_consumer            0\n",
              "238_frequency_buying_store                   0\n",
              "284_additional_products_store                0\n",
              "301_electricity_bill                         0\n",
              "305_electricity_bill_store                   0\n",
              "302_water_bill                               0\n",
              "306_water_bill_store                         0\n",
              "303_gas_bill                                 0\n",
              "307_gas_bill_store                           0\n",
              "286_topups                                   0\n",
              "308_topups_in_store                          0\n",
              "287_wire_transfers                           0\n",
              "309_wiretransfers_in_store                   2\n",
              "320_other_services_in_store                  0\n",
              "304_additional_services_store               86\n",
              "81_number_online_purchases_month             0\n",
              "288_number_app_purchases_month               0\n",
              "289_number_whatsapp_purchases_month          0\n",
              "83_willingness_ultrafast_delivery            0\n",
              "84_willingness_sameday_delivery              0\n",
              "241_age_of_the_interviewee                   0\n",
              "240_gender_interviewee                       0\n",
              "indicate_the_type_of_store                   0\n",
              "name_of_the_store                            0\n",
              "storefront_picture_just_once_if_possible    11\n",
              "dtype: int64"
            ]
          },
          "metadata": {},
          "execution_count": 38
        }
      ]
    },
    {
      "cell_type": "code",
      "source": [
        "data2[\"309_wiretransfers_in_store\"] =data2[\"309_wiretransfers_in_store\"].fillna(method=\"ffill\") "
      ],
      "metadata": {
        "id": "txrqkEiTKEW-"
      },
      "execution_count": 39,
      "outputs": []
    },
    {
      "cell_type": "code",
      "source": [
        "#Corroboramos valores nulos\n",
        "valores_nulos=data2.isnull().sum()\n",
        "valores_nulos"
      ],
      "metadata": {
        "colab": {
          "base_uri": "https://localhost:8080/"
        },
        "id": "8UpKjKBCKSm6",
        "outputId": "54f39e90-3ef6-41e0-b900-f383e2da1547"
      },
      "execution_count": 40,
      "outputs": [
        {
          "output_type": "execute_result",
          "data": {
            "text/plain": [
              "_record_id                                   0\n",
              "_title                                       0\n",
              "_server_updated_at                           0\n",
              "_updated_by                                  0\n",
              "_geometry                                    0\n",
              "_latitude                                    0\n",
              "_longitude                                   0\n",
              "282_payment_method_that_purchase             0\n",
              "283_fulfill_needs                            0\n",
              "300_did_not_find                             0\n",
              "237_distance_household_interviewee           0\n",
              "299_means_transportation_consumer            0\n",
              "238_frequency_buying_store                   0\n",
              "284_additional_products_store                0\n",
              "301_electricity_bill                         0\n",
              "305_electricity_bill_store                   0\n",
              "302_water_bill                               0\n",
              "306_water_bill_store                         0\n",
              "303_gas_bill                                 0\n",
              "307_gas_bill_store                           0\n",
              "286_topups                                   0\n",
              "308_topups_in_store                          0\n",
              "287_wire_transfers                           0\n",
              "309_wiretransfers_in_store                   0\n",
              "320_other_services_in_store                  0\n",
              "304_additional_services_store               86\n",
              "81_number_online_purchases_month             0\n",
              "288_number_app_purchases_month               0\n",
              "289_number_whatsapp_purchases_month          0\n",
              "83_willingness_ultrafast_delivery            0\n",
              "84_willingness_sameday_delivery              0\n",
              "241_age_of_the_interviewee                   0\n",
              "240_gender_interviewee                       0\n",
              "indicate_the_type_of_store                   0\n",
              "name_of_the_store                            0\n",
              "storefront_picture_just_once_if_possible    11\n",
              "dtype: int64"
            ]
          },
          "metadata": {},
          "execution_count": 40
        }
      ]
    },
    {
      "cell_type": "code",
      "source": [
        "#Segundo método de sustitución de valores nulos\n",
        "data2[\"304_additional_services_store\"]= data2[\"304_additional_services_store\"].fillna(10) \n",
        "data2"
      ],
      "metadata": {
        "id": "gIGVGFO9KZyh"
      },
      "execution_count": null,
      "outputs": []
    },
    {
      "cell_type": "code",
      "source": [
        "#Corroboramos valores nulos\n",
        "valores_nulos=data2.isnull().sum()\n",
        "valores_nulos"
      ],
      "metadata": {
        "colab": {
          "base_uri": "https://localhost:8080/"
        },
        "id": "xBjY0PLPKj3j",
        "outputId": "d329bf73-5e0d-4efa-b0cc-a792a32bd7ff"
      },
      "execution_count": 43,
      "outputs": [
        {
          "output_type": "execute_result",
          "data": {
            "text/plain": [
              "_record_id                                   0\n",
              "_title                                       0\n",
              "_server_updated_at                           0\n",
              "_updated_by                                  0\n",
              "_geometry                                    0\n",
              "_latitude                                    0\n",
              "_longitude                                   0\n",
              "282_payment_method_that_purchase             0\n",
              "283_fulfill_needs                            0\n",
              "300_did_not_find                             0\n",
              "237_distance_household_interviewee           0\n",
              "299_means_transportation_consumer            0\n",
              "238_frequency_buying_store                   0\n",
              "284_additional_products_store                0\n",
              "301_electricity_bill                         0\n",
              "305_electricity_bill_store                   0\n",
              "302_water_bill                               0\n",
              "306_water_bill_store                         0\n",
              "303_gas_bill                                 0\n",
              "307_gas_bill_store                           0\n",
              "286_topups                                   0\n",
              "308_topups_in_store                          0\n",
              "287_wire_transfers                           0\n",
              "309_wiretransfers_in_store                   0\n",
              "320_other_services_in_store                  0\n",
              "304_additional_services_store                0\n",
              "81_number_online_purchases_month             0\n",
              "288_number_app_purchases_month               0\n",
              "289_number_whatsapp_purchases_month          0\n",
              "83_willingness_ultrafast_delivery            0\n",
              "84_willingness_sameday_delivery              0\n",
              "241_age_of_the_interviewee                   0\n",
              "240_gender_interviewee                       0\n",
              "indicate_the_type_of_store                   0\n",
              "name_of_the_store                            0\n",
              "storefront_picture_just_once_if_possible    11\n",
              "dtype: int64"
            ]
          },
          "metadata": {},
          "execution_count": 43
        }
      ]
    },
    {
      "cell_type": "code",
      "source": [
        "#Filtro por columnas\n",
        "data2[\"storefront_picture_just_once_if_possible\"] =data2[\"storefront_picture_just_once_if_possible\"].fillna(method=\"bfill\") "
      ],
      "metadata": {
        "id": "EAqMTBixLG-A"
      },
      "execution_count": 44,
      "outputs": []
    },
    {
      "cell_type": "code",
      "source": [
        "#Corroboramos valores nulos\n",
        "valores_nulos=data2.isnull().sum()\n",
        "valores_nulos"
      ],
      "metadata": {
        "id": "-8ONG5p3LTW6"
      },
      "execution_count": null,
      "outputs": []
    },
    {
      "cell_type": "code",
      "source": [
        "#Corroboramos valores nulos\n",
        "valores_nulos=data2.isnull().sum().sum()\n",
        "valores_nulos"
      ],
      "metadata": {
        "id": "RbUrbB6iJk6o"
      },
      "execution_count": null,
      "outputs": []
    },
    {
      "cell_type": "code",
      "source": [
        "#convertir a archivo xlsx\n",
        "data2.to_csv(\"consumer_Sin_nulos.csv\")"
      ],
      "metadata": {
        "id": "ZO1iBMfVR2im"
      },
      "execution_count": 60,
      "outputs": []
    },
    {
      "cell_type": "code",
      "source": [
        "#descargar archivo filtrado en xlsx\n",
        "from google.colab import files \n",
        "  \n",
        "files.download(\"consumer_Sin_nulos.csv\")"
      ],
      "metadata": {
        "id": "-wnj6ujnSOlq",
        "outputId": "12747ab3-0d71-4a0e-cd23-d0403dc86132",
        "colab": {
          "base_uri": "https://localhost:8080/",
          "height": 17
        }
      },
      "execution_count": 61,
      "outputs": [
        {
          "output_type": "display_data",
          "data": {
            "text/plain": [
              "<IPython.core.display.Javascript object>"
            ],
            "application/javascript": [
              "\n",
              "    async function download(id, filename, size) {\n",
              "      if (!google.colab.kernel.accessAllowed) {\n",
              "        return;\n",
              "      }\n",
              "      const div = document.createElement('div');\n",
              "      const label = document.createElement('label');\n",
              "      label.textContent = `Downloading \"${filename}\": `;\n",
              "      div.appendChild(label);\n",
              "      const progress = document.createElement('progress');\n",
              "      progress.max = size;\n",
              "      div.appendChild(progress);\n",
              "      document.body.appendChild(div);\n",
              "\n",
              "      const buffers = [];\n",
              "      let downloaded = 0;\n",
              "\n",
              "      const channel = await google.colab.kernel.comms.open(id);\n",
              "      // Send a message to notify the kernel that we're ready.\n",
              "      channel.send({})\n",
              "\n",
              "      for await (const message of channel.messages) {\n",
              "        // Send a message to notify the kernel that we're ready.\n",
              "        channel.send({})\n",
              "        if (message.buffers) {\n",
              "          for (const buffer of message.buffers) {\n",
              "            buffers.push(buffer);\n",
              "            downloaded += buffer.byteLength;\n",
              "            progress.value = downloaded;\n",
              "          }\n",
              "        }\n",
              "      }\n",
              "      const blob = new Blob(buffers, {type: 'application/binary'});\n",
              "      const a = document.createElement('a');\n",
              "      a.href = window.URL.createObjectURL(blob);\n",
              "      a.download = filename;\n",
              "      div.appendChild(a);\n",
              "      a.click();\n",
              "      div.remove();\n",
              "    }\n",
              "  "
            ]
          },
          "metadata": {}
        },
        {
          "output_type": "display_data",
          "data": {
            "text/plain": [
              "<IPython.core.display.Javascript object>"
            ],
            "application/javascript": [
              "download(\"download_83068057-8b6d-4cc9-bbbe-167089d5fc24\", \"consumer_Sin_nulos.csv\", 51219)"
            ]
          },
          "metadata": {}
        }
      ]
    },
    {
      "cell_type": "markdown",
      "source": [
        "**Outliers**"
      ],
      "metadata": {
        "id": "AElvPY4nyJOx"
      }
    },
    {
      "cell_type": "code",
      "source": [
        "y=data"
      ],
      "metadata": {
        "id": "V6SurRYIJ2hy"
      },
      "execution_count": 34,
      "outputs": []
    },
    {
      "cell_type": "code",
      "source": [
        "#Identificamos las variables no numéricas para eliminar columnas incecesarias \n",
        "#Verificamos información del DataFrame\n",
        "y.info(36)"
      ],
      "metadata": {
        "id": "N73C-5R9QIlN",
        "outputId": "2058a64f-2ec4-423b-e0de-a91328d5890a",
        "colab": {
          "base_uri": "https://localhost:8080/"
        }
      },
      "execution_count": 48,
      "outputs": [
        {
          "output_type": "stream",
          "name": "stdout",
          "text": [
            "<class 'pandas.core.frame.DataFrame'>\n",
            "RangeIndex: 115 entries, 0 to 114\n",
            "Data columns (total 36 columns):\n",
            " #   Column                                    Non-Null Count  Dtype  \n",
            "---  ------                                    --------------  -----  \n",
            " 0   _record_id                                115 non-null    object \n",
            " 1   _title                                    115 non-null    object \n",
            " 2   _server_updated_at                        115 non-null    object \n",
            " 3   _updated_by                               115 non-null    object \n",
            " 4   _geometry                                 115 non-null    object \n",
            " 5   _latitude                                 115 non-null    float64\n",
            " 6   _longitude                                115 non-null    float64\n",
            " 7   282_payment_method_that_purchase          115 non-null    object \n",
            " 8   283_fulfill_needs                         115 non-null    object \n",
            " 9   300_did_not_find                          6 non-null      object \n",
            " 10  237_distance_household_interviewee        115 non-null    object \n",
            " 11  299_means_transportation_consumer         115 non-null    object \n",
            " 12  238_frequency_buying_store                115 non-null    int64  \n",
            " 13  284_additional_products_store             4 non-null      object \n",
            " 14  301_electricity_bill                      115 non-null    object \n",
            " 15  305_electricity_bill_store                108 non-null    object \n",
            " 16  302_water_bill                            115 non-null    object \n",
            " 17  306_water_bill_store                      111 non-null    object \n",
            " 18  303_gas_bill                              115 non-null    object \n",
            " 19  307_gas_bill_store                        112 non-null    object \n",
            " 20  286_topups                                115 non-null    object \n",
            " 21  308_topups_in_store                       103 non-null    object \n",
            " 22  287_wire_transfers                        115 non-null    object \n",
            " 23  309_wiretransfers_in_store                113 non-null    object \n",
            " 24  320_other_services_in_store               115 non-null    object \n",
            " 25  304_additional_services_store             29 non-null     object \n",
            " 26  81_number_online_purchases_month          115 non-null    int64  \n",
            " 27  288_number_app_purchases_month            115 non-null    int64  \n",
            " 28  289_number_whatsapp_purchases_month       115 non-null    int64  \n",
            " 29  83_willingness_ultrafast_delivery         115 non-null    int64  \n",
            " 30  84_willingness_sameday_delivery           115 non-null    int64  \n",
            " 31  241_age_of_the_interviewee                115 non-null    int64  \n",
            " 32  240_gender_interviewee                    115 non-null    object \n",
            " 33  indicate_the_type_of_store                115 non-null    object \n",
            " 34  name_of_the_store                         115 non-null    object \n",
            " 35  storefront_picture_just_once_if_possible  104 non-null    object \n",
            "dtypes: float64(2), int64(7), object(27)\n",
            "memory usage: 32.5+ KB\n"
          ]
        }
      ]
    },
    {
      "cell_type": "code",
      "source": [
        "#aplicamos filtro de columnas para filtrar las columnas con variables numéricas (se descartaron las columnas que muestran números de telofóno y las coordenadas) \n",
        "y1=y.iloc[:,[5,6,12,27,28,29,30,31,]]#columnas no consecutivas\n",
        "y1"
      ],
      "metadata": {
        "id": "hmenGYOVQQyi",
        "outputId": "6a7d61ef-0e50-4c52-cf67-281b965c85f2",
        "colab": {
          "base_uri": "https://localhost:8080/",
          "height": 488
        }
      },
      "execution_count": 49,
      "outputs": [
        {
          "output_type": "execute_result",
          "data": {
            "text/plain": [
              "     _latitude  _longitude  238_frequency_buying_store  \\\n",
              "0    19.059841  -98.234980                           1   \n",
              "1    19.058479  -98.233566                           1   \n",
              "2    19.062077  -98.230339                           1   \n",
              "3    19.055535  -98.232916                           1   \n",
              "4    19.059012  -98.232994                           1   \n",
              "..         ...         ...                         ...   \n",
              "110  19.035224  -98.267100                           1   \n",
              "111  19.035280  -98.267856                           1   \n",
              "112  19.035451  -98.267862                           1   \n",
              "113  19.035486  -98.267831                           1   \n",
              "114  19.035399  -98.267924                           1   \n",
              "\n",
              "     288_number_app_purchases_month  289_number_whatsapp_purchases_month  \\\n",
              "0                                 0                                    0   \n",
              "1                                 2                                    0   \n",
              "2                                 0                                    0   \n",
              "3                                 3                                    0   \n",
              "4                                 5                                    0   \n",
              "..                              ...                                  ...   \n",
              "110                              10                                    0   \n",
              "111                               1                                    0   \n",
              "112                               2                                    0   \n",
              "113                               4                                    0   \n",
              "114                               3                                    0   \n",
              "\n",
              "     83_willingness_ultrafast_delivery  84_willingness_sameday_delivery  \\\n",
              "0                                    0                                0   \n",
              "1                                   35                               50   \n",
              "2                                   40                               25   \n",
              "3                                    0                                0   \n",
              "4                                    0                               50   \n",
              "..                                 ...                              ...   \n",
              "110                                100                              100   \n",
              "111                                 50                               70   \n",
              "112                                  0                                0   \n",
              "113                                 30                              100   \n",
              "114                                150                             1000   \n",
              "\n",
              "     241_age_of_the_interviewee  \n",
              "0                            35  \n",
              "1                            27  \n",
              "2                            42  \n",
              "3                            27  \n",
              "4                            35  \n",
              "..                          ...  \n",
              "110                          15  \n",
              "111                          21  \n",
              "112                          18  \n",
              "113                          18  \n",
              "114                          18  \n",
              "\n",
              "[115 rows x 8 columns]"
            ],
            "text/html": [
              "\n",
              "  <div id=\"df-d5212c33-68b1-49e0-a127-8a255e010b40\">\n",
              "    <div class=\"colab-df-container\">\n",
              "      <div>\n",
              "<style scoped>\n",
              "    .dataframe tbody tr th:only-of-type {\n",
              "        vertical-align: middle;\n",
              "    }\n",
              "\n",
              "    .dataframe tbody tr th {\n",
              "        vertical-align: top;\n",
              "    }\n",
              "\n",
              "    .dataframe thead th {\n",
              "        text-align: right;\n",
              "    }\n",
              "</style>\n",
              "<table border=\"1\" class=\"dataframe\">\n",
              "  <thead>\n",
              "    <tr style=\"text-align: right;\">\n",
              "      <th></th>\n",
              "      <th>_latitude</th>\n",
              "      <th>_longitude</th>\n",
              "      <th>238_frequency_buying_store</th>\n",
              "      <th>288_number_app_purchases_month</th>\n",
              "      <th>289_number_whatsapp_purchases_month</th>\n",
              "      <th>83_willingness_ultrafast_delivery</th>\n",
              "      <th>84_willingness_sameday_delivery</th>\n",
              "      <th>241_age_of_the_interviewee</th>\n",
              "    </tr>\n",
              "  </thead>\n",
              "  <tbody>\n",
              "    <tr>\n",
              "      <th>0</th>\n",
              "      <td>19.059841</td>\n",
              "      <td>-98.234980</td>\n",
              "      <td>1</td>\n",
              "      <td>0</td>\n",
              "      <td>0</td>\n",
              "      <td>0</td>\n",
              "      <td>0</td>\n",
              "      <td>35</td>\n",
              "    </tr>\n",
              "    <tr>\n",
              "      <th>1</th>\n",
              "      <td>19.058479</td>\n",
              "      <td>-98.233566</td>\n",
              "      <td>1</td>\n",
              "      <td>2</td>\n",
              "      <td>0</td>\n",
              "      <td>35</td>\n",
              "      <td>50</td>\n",
              "      <td>27</td>\n",
              "    </tr>\n",
              "    <tr>\n",
              "      <th>2</th>\n",
              "      <td>19.062077</td>\n",
              "      <td>-98.230339</td>\n",
              "      <td>1</td>\n",
              "      <td>0</td>\n",
              "      <td>0</td>\n",
              "      <td>40</td>\n",
              "      <td>25</td>\n",
              "      <td>42</td>\n",
              "    </tr>\n",
              "    <tr>\n",
              "      <th>3</th>\n",
              "      <td>19.055535</td>\n",
              "      <td>-98.232916</td>\n",
              "      <td>1</td>\n",
              "      <td>3</td>\n",
              "      <td>0</td>\n",
              "      <td>0</td>\n",
              "      <td>0</td>\n",
              "      <td>27</td>\n",
              "    </tr>\n",
              "    <tr>\n",
              "      <th>4</th>\n",
              "      <td>19.059012</td>\n",
              "      <td>-98.232994</td>\n",
              "      <td>1</td>\n",
              "      <td>5</td>\n",
              "      <td>0</td>\n",
              "      <td>0</td>\n",
              "      <td>50</td>\n",
              "      <td>35</td>\n",
              "    </tr>\n",
              "    <tr>\n",
              "      <th>...</th>\n",
              "      <td>...</td>\n",
              "      <td>...</td>\n",
              "      <td>...</td>\n",
              "      <td>...</td>\n",
              "      <td>...</td>\n",
              "      <td>...</td>\n",
              "      <td>...</td>\n",
              "      <td>...</td>\n",
              "    </tr>\n",
              "    <tr>\n",
              "      <th>110</th>\n",
              "      <td>19.035224</td>\n",
              "      <td>-98.267100</td>\n",
              "      <td>1</td>\n",
              "      <td>10</td>\n",
              "      <td>0</td>\n",
              "      <td>100</td>\n",
              "      <td>100</td>\n",
              "      <td>15</td>\n",
              "    </tr>\n",
              "    <tr>\n",
              "      <th>111</th>\n",
              "      <td>19.035280</td>\n",
              "      <td>-98.267856</td>\n",
              "      <td>1</td>\n",
              "      <td>1</td>\n",
              "      <td>0</td>\n",
              "      <td>50</td>\n",
              "      <td>70</td>\n",
              "      <td>21</td>\n",
              "    </tr>\n",
              "    <tr>\n",
              "      <th>112</th>\n",
              "      <td>19.035451</td>\n",
              "      <td>-98.267862</td>\n",
              "      <td>1</td>\n",
              "      <td>2</td>\n",
              "      <td>0</td>\n",
              "      <td>0</td>\n",
              "      <td>0</td>\n",
              "      <td>18</td>\n",
              "    </tr>\n",
              "    <tr>\n",
              "      <th>113</th>\n",
              "      <td>19.035486</td>\n",
              "      <td>-98.267831</td>\n",
              "      <td>1</td>\n",
              "      <td>4</td>\n",
              "      <td>0</td>\n",
              "      <td>30</td>\n",
              "      <td>100</td>\n",
              "      <td>18</td>\n",
              "    </tr>\n",
              "    <tr>\n",
              "      <th>114</th>\n",
              "      <td>19.035399</td>\n",
              "      <td>-98.267924</td>\n",
              "      <td>1</td>\n",
              "      <td>3</td>\n",
              "      <td>0</td>\n",
              "      <td>150</td>\n",
              "      <td>1000</td>\n",
              "      <td>18</td>\n",
              "    </tr>\n",
              "  </tbody>\n",
              "</table>\n",
              "<p>115 rows × 8 columns</p>\n",
              "</div>\n",
              "      <button class=\"colab-df-convert\" onclick=\"convertToInteractive('df-d5212c33-68b1-49e0-a127-8a255e010b40')\"\n",
              "              title=\"Convert this dataframe to an interactive table.\"\n",
              "              style=\"display:none;\">\n",
              "        \n",
              "  <svg xmlns=\"http://www.w3.org/2000/svg\" height=\"24px\"viewBox=\"0 0 24 24\"\n",
              "       width=\"24px\">\n",
              "    <path d=\"M0 0h24v24H0V0z\" fill=\"none\"/>\n",
              "    <path d=\"M18.56 5.44l.94 2.06.94-2.06 2.06-.94-2.06-.94-.94-2.06-.94 2.06-2.06.94zm-11 1L8.5 8.5l.94-2.06 2.06-.94-2.06-.94L8.5 2.5l-.94 2.06-2.06.94zm10 10l.94 2.06.94-2.06 2.06-.94-2.06-.94-.94-2.06-.94 2.06-2.06.94z\"/><path d=\"M17.41 7.96l-1.37-1.37c-.4-.4-.92-.59-1.43-.59-.52 0-1.04.2-1.43.59L10.3 9.45l-7.72 7.72c-.78.78-.78 2.05 0 2.83L4 21.41c.39.39.9.59 1.41.59.51 0 1.02-.2 1.41-.59l7.78-7.78 2.81-2.81c.8-.78.8-2.07 0-2.86zM5.41 20L4 18.59l7.72-7.72 1.47 1.35L5.41 20z\"/>\n",
              "  </svg>\n",
              "      </button>\n",
              "      \n",
              "  <style>\n",
              "    .colab-df-container {\n",
              "      display:flex;\n",
              "      flex-wrap:wrap;\n",
              "      gap: 12px;\n",
              "    }\n",
              "\n",
              "    .colab-df-convert {\n",
              "      background-color: #E8F0FE;\n",
              "      border: none;\n",
              "      border-radius: 50%;\n",
              "      cursor: pointer;\n",
              "      display: none;\n",
              "      fill: #1967D2;\n",
              "      height: 32px;\n",
              "      padding: 0 0 0 0;\n",
              "      width: 32px;\n",
              "    }\n",
              "\n",
              "    .colab-df-convert:hover {\n",
              "      background-color: #E2EBFA;\n",
              "      box-shadow: 0px 1px 2px rgba(60, 64, 67, 0.3), 0px 1px 3px 1px rgba(60, 64, 67, 0.15);\n",
              "      fill: #174EA6;\n",
              "    }\n",
              "\n",
              "    [theme=dark] .colab-df-convert {\n",
              "      background-color: #3B4455;\n",
              "      fill: #D2E3FC;\n",
              "    }\n",
              "\n",
              "    [theme=dark] .colab-df-convert:hover {\n",
              "      background-color: #434B5C;\n",
              "      box-shadow: 0px 1px 3px 1px rgba(0, 0, 0, 0.15);\n",
              "      filter: drop-shadow(0px 1px 2px rgba(0, 0, 0, 0.3));\n",
              "      fill: #FFFFFF;\n",
              "    }\n",
              "  </style>\n",
              "\n",
              "      <script>\n",
              "        const buttonEl =\n",
              "          document.querySelector('#df-d5212c33-68b1-49e0-a127-8a255e010b40 button.colab-df-convert');\n",
              "        buttonEl.style.display =\n",
              "          google.colab.kernel.accessAllowed ? 'block' : 'none';\n",
              "\n",
              "        async function convertToInteractive(key) {\n",
              "          const element = document.querySelector('#df-d5212c33-68b1-49e0-a127-8a255e010b40');\n",
              "          const dataTable =\n",
              "            await google.colab.kernel.invokeFunction('convertToInteractive',\n",
              "                                                     [key], {});\n",
              "          if (!dataTable) return;\n",
              "\n",
              "          const docLinkHtml = 'Like what you see? Visit the ' +\n",
              "            '<a target=\"_blank\" href=https://colab.research.google.com/notebooks/data_table.ipynb>data table notebook</a>'\n",
              "            + ' to learn more about interactive tables.';\n",
              "          element.innerHTML = '';\n",
              "          dataTable['output_type'] = 'display_data';\n",
              "          await google.colab.output.renderOutput(dataTable, element);\n",
              "          const docLink = document.createElement('div');\n",
              "          docLink.innerHTML = docLinkHtml;\n",
              "          element.appendChild(docLink);\n",
              "        }\n",
              "      </script>\n",
              "    </div>\n",
              "  </div>\n",
              "  "
            ]
          },
          "metadata": {},
          "execution_count": 49
        }
      ]
    },
    {
      "cell_type": "code",
      "source": [
        "#Método aplicando Cuartiles. Encuentro cuartiles 0.25 y 0.75\n",
        "y=y1\n",
        "\n",
        "percentile25=y.quantile(0.25) #Q1\n",
        "percentile75=y.quantile(0.75) #Q3\n",
        "iqr= percentile75 - percentile25\n",
        "\n",
        "Limite_Superior_iqr= percentile75 + 1.5*iqr\n",
        "Limite_Inferior_iqr= percentile25 - 1.5*iqr\n",
        "print(\"Limite superior permitido\", Limite_Superior_iqr)\n",
        "print(\"Limite inferior permitido\", Limite_Inferior_iqr)"
      ],
      "metadata": {
        "id": "fBHXcLmDQgsk"
      },
      "execution_count": null,
      "outputs": []
    },
    {
      "cell_type": "code",
      "source": [
        "#Encontramos Outliers del Dataframe\n",
        "outliers_iqr= y1[(y>Limite_Superior_iqr)|(y<Limite_Inferior_iqr)]\n",
        "outliers_iqr"
      ],
      "metadata": {
        "id": "aHwZQV4aQksv",
        "outputId": "1ef5b87f-7c02-45b0-aef4-250394a99279",
        "colab": {
          "base_uri": "https://localhost:8080/",
          "height": 488
        }
      },
      "execution_count": 51,
      "outputs": [
        {
          "output_type": "execute_result",
          "data": {
            "text/plain": [
              "     _latitude  _longitude  238_frequency_buying_store  \\\n",
              "0          NaN         NaN                         NaN   \n",
              "1          NaN         NaN                         NaN   \n",
              "2          NaN         NaN                         NaN   \n",
              "3          NaN         NaN                         NaN   \n",
              "4          NaN         NaN                         NaN   \n",
              "..         ...         ...                         ...   \n",
              "110        NaN         NaN                         NaN   \n",
              "111        NaN         NaN                         NaN   \n",
              "112        NaN         NaN                         NaN   \n",
              "113        NaN         NaN                         NaN   \n",
              "114        NaN         NaN                         NaN   \n",
              "\n",
              "     288_number_app_purchases_month  289_number_whatsapp_purchases_month  \\\n",
              "0                               NaN                                  NaN   \n",
              "1                               NaN                                  NaN   \n",
              "2                               NaN                                  NaN   \n",
              "3                               NaN                                  NaN   \n",
              "4                               NaN                                  NaN   \n",
              "..                              ...                                  ...   \n",
              "110                             NaN                                  NaN   \n",
              "111                             NaN                                  NaN   \n",
              "112                             NaN                                  NaN   \n",
              "113                             NaN                                  NaN   \n",
              "114                             NaN                                  NaN   \n",
              "\n",
              "     83_willingness_ultrafast_delivery  84_willingness_sameday_delivery  \\\n",
              "0                                  NaN                              NaN   \n",
              "1                                  NaN                              NaN   \n",
              "2                                  NaN                              NaN   \n",
              "3                                  NaN                              NaN   \n",
              "4                                  NaN                              NaN   \n",
              "..                                 ...                              ...   \n",
              "110                                NaN                              NaN   \n",
              "111                                NaN                              NaN   \n",
              "112                                NaN                              NaN   \n",
              "113                                NaN                              NaN   \n",
              "114                              150.0                           1000.0   \n",
              "\n",
              "     241_age_of_the_interviewee  \n",
              "0                           NaN  \n",
              "1                           NaN  \n",
              "2                           NaN  \n",
              "3                           NaN  \n",
              "4                           NaN  \n",
              "..                          ...  \n",
              "110                         NaN  \n",
              "111                         NaN  \n",
              "112                         NaN  \n",
              "113                         NaN  \n",
              "114                         NaN  \n",
              "\n",
              "[115 rows x 8 columns]"
            ],
            "text/html": [
              "\n",
              "  <div id=\"df-53d5cb02-9623-47fb-8348-5956db56f214\">\n",
              "    <div class=\"colab-df-container\">\n",
              "      <div>\n",
              "<style scoped>\n",
              "    .dataframe tbody tr th:only-of-type {\n",
              "        vertical-align: middle;\n",
              "    }\n",
              "\n",
              "    .dataframe tbody tr th {\n",
              "        vertical-align: top;\n",
              "    }\n",
              "\n",
              "    .dataframe thead th {\n",
              "        text-align: right;\n",
              "    }\n",
              "</style>\n",
              "<table border=\"1\" class=\"dataframe\">\n",
              "  <thead>\n",
              "    <tr style=\"text-align: right;\">\n",
              "      <th></th>\n",
              "      <th>_latitude</th>\n",
              "      <th>_longitude</th>\n",
              "      <th>238_frequency_buying_store</th>\n",
              "      <th>288_number_app_purchases_month</th>\n",
              "      <th>289_number_whatsapp_purchases_month</th>\n",
              "      <th>83_willingness_ultrafast_delivery</th>\n",
              "      <th>84_willingness_sameday_delivery</th>\n",
              "      <th>241_age_of_the_interviewee</th>\n",
              "    </tr>\n",
              "  </thead>\n",
              "  <tbody>\n",
              "    <tr>\n",
              "      <th>0</th>\n",
              "      <td>NaN</td>\n",
              "      <td>NaN</td>\n",
              "      <td>NaN</td>\n",
              "      <td>NaN</td>\n",
              "      <td>NaN</td>\n",
              "      <td>NaN</td>\n",
              "      <td>NaN</td>\n",
              "      <td>NaN</td>\n",
              "    </tr>\n",
              "    <tr>\n",
              "      <th>1</th>\n",
              "      <td>NaN</td>\n",
              "      <td>NaN</td>\n",
              "      <td>NaN</td>\n",
              "      <td>NaN</td>\n",
              "      <td>NaN</td>\n",
              "      <td>NaN</td>\n",
              "      <td>NaN</td>\n",
              "      <td>NaN</td>\n",
              "    </tr>\n",
              "    <tr>\n",
              "      <th>2</th>\n",
              "      <td>NaN</td>\n",
              "      <td>NaN</td>\n",
              "      <td>NaN</td>\n",
              "      <td>NaN</td>\n",
              "      <td>NaN</td>\n",
              "      <td>NaN</td>\n",
              "      <td>NaN</td>\n",
              "      <td>NaN</td>\n",
              "    </tr>\n",
              "    <tr>\n",
              "      <th>3</th>\n",
              "      <td>NaN</td>\n",
              "      <td>NaN</td>\n",
              "      <td>NaN</td>\n",
              "      <td>NaN</td>\n",
              "      <td>NaN</td>\n",
              "      <td>NaN</td>\n",
              "      <td>NaN</td>\n",
              "      <td>NaN</td>\n",
              "    </tr>\n",
              "    <tr>\n",
              "      <th>4</th>\n",
              "      <td>NaN</td>\n",
              "      <td>NaN</td>\n",
              "      <td>NaN</td>\n",
              "      <td>NaN</td>\n",
              "      <td>NaN</td>\n",
              "      <td>NaN</td>\n",
              "      <td>NaN</td>\n",
              "      <td>NaN</td>\n",
              "    </tr>\n",
              "    <tr>\n",
              "      <th>...</th>\n",
              "      <td>...</td>\n",
              "      <td>...</td>\n",
              "      <td>...</td>\n",
              "      <td>...</td>\n",
              "      <td>...</td>\n",
              "      <td>...</td>\n",
              "      <td>...</td>\n",
              "      <td>...</td>\n",
              "    </tr>\n",
              "    <tr>\n",
              "      <th>110</th>\n",
              "      <td>NaN</td>\n",
              "      <td>NaN</td>\n",
              "      <td>NaN</td>\n",
              "      <td>NaN</td>\n",
              "      <td>NaN</td>\n",
              "      <td>NaN</td>\n",
              "      <td>NaN</td>\n",
              "      <td>NaN</td>\n",
              "    </tr>\n",
              "    <tr>\n",
              "      <th>111</th>\n",
              "      <td>NaN</td>\n",
              "      <td>NaN</td>\n",
              "      <td>NaN</td>\n",
              "      <td>NaN</td>\n",
              "      <td>NaN</td>\n",
              "      <td>NaN</td>\n",
              "      <td>NaN</td>\n",
              "      <td>NaN</td>\n",
              "    </tr>\n",
              "    <tr>\n",
              "      <th>112</th>\n",
              "      <td>NaN</td>\n",
              "      <td>NaN</td>\n",
              "      <td>NaN</td>\n",
              "      <td>NaN</td>\n",
              "      <td>NaN</td>\n",
              "      <td>NaN</td>\n",
              "      <td>NaN</td>\n",
              "      <td>NaN</td>\n",
              "    </tr>\n",
              "    <tr>\n",
              "      <th>113</th>\n",
              "      <td>NaN</td>\n",
              "      <td>NaN</td>\n",
              "      <td>NaN</td>\n",
              "      <td>NaN</td>\n",
              "      <td>NaN</td>\n",
              "      <td>NaN</td>\n",
              "      <td>NaN</td>\n",
              "      <td>NaN</td>\n",
              "    </tr>\n",
              "    <tr>\n",
              "      <th>114</th>\n",
              "      <td>NaN</td>\n",
              "      <td>NaN</td>\n",
              "      <td>NaN</td>\n",
              "      <td>NaN</td>\n",
              "      <td>NaN</td>\n",
              "      <td>150.0</td>\n",
              "      <td>1000.0</td>\n",
              "      <td>NaN</td>\n",
              "    </tr>\n",
              "  </tbody>\n",
              "</table>\n",
              "<p>115 rows × 8 columns</p>\n",
              "</div>\n",
              "      <button class=\"colab-df-convert\" onclick=\"convertToInteractive('df-53d5cb02-9623-47fb-8348-5956db56f214')\"\n",
              "              title=\"Convert this dataframe to an interactive table.\"\n",
              "              style=\"display:none;\">\n",
              "        \n",
              "  <svg xmlns=\"http://www.w3.org/2000/svg\" height=\"24px\"viewBox=\"0 0 24 24\"\n",
              "       width=\"24px\">\n",
              "    <path d=\"M0 0h24v24H0V0z\" fill=\"none\"/>\n",
              "    <path d=\"M18.56 5.44l.94 2.06.94-2.06 2.06-.94-2.06-.94-.94-2.06-.94 2.06-2.06.94zm-11 1L8.5 8.5l.94-2.06 2.06-.94-2.06-.94L8.5 2.5l-.94 2.06-2.06.94zm10 10l.94 2.06.94-2.06 2.06-.94-2.06-.94-.94-2.06-.94 2.06-2.06.94z\"/><path d=\"M17.41 7.96l-1.37-1.37c-.4-.4-.92-.59-1.43-.59-.52 0-1.04.2-1.43.59L10.3 9.45l-7.72 7.72c-.78.78-.78 2.05 0 2.83L4 21.41c.39.39.9.59 1.41.59.51 0 1.02-.2 1.41-.59l7.78-7.78 2.81-2.81c.8-.78.8-2.07 0-2.86zM5.41 20L4 18.59l7.72-7.72 1.47 1.35L5.41 20z\"/>\n",
              "  </svg>\n",
              "      </button>\n",
              "      \n",
              "  <style>\n",
              "    .colab-df-container {\n",
              "      display:flex;\n",
              "      flex-wrap:wrap;\n",
              "      gap: 12px;\n",
              "    }\n",
              "\n",
              "    .colab-df-convert {\n",
              "      background-color: #E8F0FE;\n",
              "      border: none;\n",
              "      border-radius: 50%;\n",
              "      cursor: pointer;\n",
              "      display: none;\n",
              "      fill: #1967D2;\n",
              "      height: 32px;\n",
              "      padding: 0 0 0 0;\n",
              "      width: 32px;\n",
              "    }\n",
              "\n",
              "    .colab-df-convert:hover {\n",
              "      background-color: #E2EBFA;\n",
              "      box-shadow: 0px 1px 2px rgba(60, 64, 67, 0.3), 0px 1px 3px 1px rgba(60, 64, 67, 0.15);\n",
              "      fill: #174EA6;\n",
              "    }\n",
              "\n",
              "    [theme=dark] .colab-df-convert {\n",
              "      background-color: #3B4455;\n",
              "      fill: #D2E3FC;\n",
              "    }\n",
              "\n",
              "    [theme=dark] .colab-df-convert:hover {\n",
              "      background-color: #434B5C;\n",
              "      box-shadow: 0px 1px 3px 1px rgba(0, 0, 0, 0.15);\n",
              "      filter: drop-shadow(0px 1px 2px rgba(0, 0, 0, 0.3));\n",
              "      fill: #FFFFFF;\n",
              "    }\n",
              "  </style>\n",
              "\n",
              "      <script>\n",
              "        const buttonEl =\n",
              "          document.querySelector('#df-53d5cb02-9623-47fb-8348-5956db56f214 button.colab-df-convert');\n",
              "        buttonEl.style.display =\n",
              "          google.colab.kernel.accessAllowed ? 'block' : 'none';\n",
              "\n",
              "        async function convertToInteractive(key) {\n",
              "          const element = document.querySelector('#df-53d5cb02-9623-47fb-8348-5956db56f214');\n",
              "          const dataTable =\n",
              "            await google.colab.kernel.invokeFunction('convertToInteractive',\n",
              "                                                     [key], {});\n",
              "          if (!dataTable) return;\n",
              "\n",
              "          const docLinkHtml = 'Like what you see? Visit the ' +\n",
              "            '<a target=\"_blank\" href=https://colab.research.google.com/notebooks/data_table.ipynb>data table notebook</a>'\n",
              "            + ' to learn more about interactive tables.';\n",
              "          element.innerHTML = '';\n",
              "          dataTable['output_type'] = 'display_data';\n",
              "          await google.colab.output.renderOutput(dataTable, element);\n",
              "          const docLink = document.createElement('div');\n",
              "          docLink.innerHTML = docLinkHtml;\n",
              "          element.appendChild(docLink);\n",
              "        }\n",
              "      </script>\n",
              "    </div>\n",
              "  </div>\n",
              "  "
            ]
          },
          "metadata": {},
          "execution_count": 51
        }
      ]
    },
    {
      "cell_type": "code",
      "source": [
        "#Obtenemos datos limpios del Dataframe\n",
        "data3_iqr= y1[(y<=Limite_Superior_iqr)&(y>=Limite_Inferior_iqr)]\n",
        "data3_iqr"
      ],
      "metadata": {
        "id": "uYU8AwBhQsVV"
      },
      "execution_count": null,
      "outputs": []
    },
    {
      "cell_type": "code",
      "source": [
        "#Corroboramos valores nulos del dataframe LIMPIO\n",
        "valores_nulos=data3_iqr.isnull().sum()\n",
        "valores_nulos"
      ],
      "metadata": {
        "id": "EYLObbDCQwje",
        "outputId": "1120cbdc-f8d4-4af5-e5c5-4b911952fb85",
        "colab": {
          "base_uri": "https://localhost:8080/"
        }
      },
      "execution_count": 53,
      "outputs": [
        {
          "output_type": "execute_result",
          "data": {
            "text/plain": [
              "_latitude                               0\n",
              "_longitude                              0\n",
              "238_frequency_buying_store              2\n",
              "288_number_app_purchases_month          4\n",
              "289_number_whatsapp_purchases_month    19\n",
              "83_willingness_ultrafast_delivery      10\n",
              "84_willingness_sameday_delivery         3\n",
              "241_age_of_the_interviewee              4\n",
              "dtype: int64"
            ]
          },
          "metadata": {},
          "execution_count": 53
        }
      ]
    },
    {
      "cell_type": "code",
      "source": [
        "#Reemplazamos valores atípicos (nulos) del dataframe con \"mean\"\n",
        "#Realizamos una copia del dataframe\n",
        "data4_iqr=data3_iqr.copy()\n",
        "data4_iqr=data4_iqr.fillna(round(data3_iqr.mean(),1))\n",
        "data4_iqr"
      ],
      "metadata": {
        "id": "ZUhZPAXsQybm",
        "outputId": "934678ed-1761-4064-95ef-d0b87de8ce4a",
        "colab": {
          "base_uri": "https://localhost:8080/",
          "height": 488
        }
      },
      "execution_count": 54,
      "outputs": [
        {
          "output_type": "execute_result",
          "data": {
            "text/plain": [
              "     _latitude  _longitude  238_frequency_buying_store  \\\n",
              "0    19.059841  -98.234980                         1.0   \n",
              "1    19.058479  -98.233566                         1.0   \n",
              "2    19.062077  -98.230339                         1.0   \n",
              "3    19.055535  -98.232916                         1.0   \n",
              "4    19.059012  -98.232994                         1.0   \n",
              "..         ...         ...                         ...   \n",
              "110  19.035224  -98.267100                         1.0   \n",
              "111  19.035280  -98.267856                         1.0   \n",
              "112  19.035451  -98.267862                         1.0   \n",
              "113  19.035486  -98.267831                         1.0   \n",
              "114  19.035399  -98.267924                         1.0   \n",
              "\n",
              "     288_number_app_purchases_month  289_number_whatsapp_purchases_month  \\\n",
              "0                               0.0                                  0.0   \n",
              "1                               2.0                                  0.0   \n",
              "2                               0.0                                  0.0   \n",
              "3                               3.0                                  0.0   \n",
              "4                               5.0                                  0.0   \n",
              "..                              ...                                  ...   \n",
              "110                            10.0                                  0.0   \n",
              "111                             1.0                                  0.0   \n",
              "112                             2.0                                  0.0   \n",
              "113                             4.0                                  0.0   \n",
              "114                             3.0                                  0.0   \n",
              "\n",
              "     83_willingness_ultrafast_delivery  84_willingness_sameday_delivery  \\\n",
              "0                                  0.0                              0.0   \n",
              "1                                 35.0                             50.0   \n",
              "2                                 40.0                             25.0   \n",
              "3                                  0.0                              0.0   \n",
              "4                                  0.0                             50.0   \n",
              "..                                 ...                              ...   \n",
              "110                              100.0                            100.0   \n",
              "111                               50.0                             70.0   \n",
              "112                                0.0                              0.0   \n",
              "113                               30.0                            100.0   \n",
              "114                               35.1                             56.9   \n",
              "\n",
              "     241_age_of_the_interviewee  \n",
              "0                          35.0  \n",
              "1                          27.0  \n",
              "2                          42.0  \n",
              "3                          27.0  \n",
              "4                          35.0  \n",
              "..                          ...  \n",
              "110                        15.0  \n",
              "111                        21.0  \n",
              "112                        18.0  \n",
              "113                        18.0  \n",
              "114                        18.0  \n",
              "\n",
              "[115 rows x 8 columns]"
            ],
            "text/html": [
              "\n",
              "  <div id=\"df-ea9e5775-109f-4156-9865-262e7354f644\">\n",
              "    <div class=\"colab-df-container\">\n",
              "      <div>\n",
              "<style scoped>\n",
              "    .dataframe tbody tr th:only-of-type {\n",
              "        vertical-align: middle;\n",
              "    }\n",
              "\n",
              "    .dataframe tbody tr th {\n",
              "        vertical-align: top;\n",
              "    }\n",
              "\n",
              "    .dataframe thead th {\n",
              "        text-align: right;\n",
              "    }\n",
              "</style>\n",
              "<table border=\"1\" class=\"dataframe\">\n",
              "  <thead>\n",
              "    <tr style=\"text-align: right;\">\n",
              "      <th></th>\n",
              "      <th>_latitude</th>\n",
              "      <th>_longitude</th>\n",
              "      <th>238_frequency_buying_store</th>\n",
              "      <th>288_number_app_purchases_month</th>\n",
              "      <th>289_number_whatsapp_purchases_month</th>\n",
              "      <th>83_willingness_ultrafast_delivery</th>\n",
              "      <th>84_willingness_sameday_delivery</th>\n",
              "      <th>241_age_of_the_interviewee</th>\n",
              "    </tr>\n",
              "  </thead>\n",
              "  <tbody>\n",
              "    <tr>\n",
              "      <th>0</th>\n",
              "      <td>19.059841</td>\n",
              "      <td>-98.234980</td>\n",
              "      <td>1.0</td>\n",
              "      <td>0.0</td>\n",
              "      <td>0.0</td>\n",
              "      <td>0.0</td>\n",
              "      <td>0.0</td>\n",
              "      <td>35.0</td>\n",
              "    </tr>\n",
              "    <tr>\n",
              "      <th>1</th>\n",
              "      <td>19.058479</td>\n",
              "      <td>-98.233566</td>\n",
              "      <td>1.0</td>\n",
              "      <td>2.0</td>\n",
              "      <td>0.0</td>\n",
              "      <td>35.0</td>\n",
              "      <td>50.0</td>\n",
              "      <td>27.0</td>\n",
              "    </tr>\n",
              "    <tr>\n",
              "      <th>2</th>\n",
              "      <td>19.062077</td>\n",
              "      <td>-98.230339</td>\n",
              "      <td>1.0</td>\n",
              "      <td>0.0</td>\n",
              "      <td>0.0</td>\n",
              "      <td>40.0</td>\n",
              "      <td>25.0</td>\n",
              "      <td>42.0</td>\n",
              "    </tr>\n",
              "    <tr>\n",
              "      <th>3</th>\n",
              "      <td>19.055535</td>\n",
              "      <td>-98.232916</td>\n",
              "      <td>1.0</td>\n",
              "      <td>3.0</td>\n",
              "      <td>0.0</td>\n",
              "      <td>0.0</td>\n",
              "      <td>0.0</td>\n",
              "      <td>27.0</td>\n",
              "    </tr>\n",
              "    <tr>\n",
              "      <th>4</th>\n",
              "      <td>19.059012</td>\n",
              "      <td>-98.232994</td>\n",
              "      <td>1.0</td>\n",
              "      <td>5.0</td>\n",
              "      <td>0.0</td>\n",
              "      <td>0.0</td>\n",
              "      <td>50.0</td>\n",
              "      <td>35.0</td>\n",
              "    </tr>\n",
              "    <tr>\n",
              "      <th>...</th>\n",
              "      <td>...</td>\n",
              "      <td>...</td>\n",
              "      <td>...</td>\n",
              "      <td>...</td>\n",
              "      <td>...</td>\n",
              "      <td>...</td>\n",
              "      <td>...</td>\n",
              "      <td>...</td>\n",
              "    </tr>\n",
              "    <tr>\n",
              "      <th>110</th>\n",
              "      <td>19.035224</td>\n",
              "      <td>-98.267100</td>\n",
              "      <td>1.0</td>\n",
              "      <td>10.0</td>\n",
              "      <td>0.0</td>\n",
              "      <td>100.0</td>\n",
              "      <td>100.0</td>\n",
              "      <td>15.0</td>\n",
              "    </tr>\n",
              "    <tr>\n",
              "      <th>111</th>\n",
              "      <td>19.035280</td>\n",
              "      <td>-98.267856</td>\n",
              "      <td>1.0</td>\n",
              "      <td>1.0</td>\n",
              "      <td>0.0</td>\n",
              "      <td>50.0</td>\n",
              "      <td>70.0</td>\n",
              "      <td>21.0</td>\n",
              "    </tr>\n",
              "    <tr>\n",
              "      <th>112</th>\n",
              "      <td>19.035451</td>\n",
              "      <td>-98.267862</td>\n",
              "      <td>1.0</td>\n",
              "      <td>2.0</td>\n",
              "      <td>0.0</td>\n",
              "      <td>0.0</td>\n",
              "      <td>0.0</td>\n",
              "      <td>18.0</td>\n",
              "    </tr>\n",
              "    <tr>\n",
              "      <th>113</th>\n",
              "      <td>19.035486</td>\n",
              "      <td>-98.267831</td>\n",
              "      <td>1.0</td>\n",
              "      <td>4.0</td>\n",
              "      <td>0.0</td>\n",
              "      <td>30.0</td>\n",
              "      <td>100.0</td>\n",
              "      <td>18.0</td>\n",
              "    </tr>\n",
              "    <tr>\n",
              "      <th>114</th>\n",
              "      <td>19.035399</td>\n",
              "      <td>-98.267924</td>\n",
              "      <td>1.0</td>\n",
              "      <td>3.0</td>\n",
              "      <td>0.0</td>\n",
              "      <td>35.1</td>\n",
              "      <td>56.9</td>\n",
              "      <td>18.0</td>\n",
              "    </tr>\n",
              "  </tbody>\n",
              "</table>\n",
              "<p>115 rows × 8 columns</p>\n",
              "</div>\n",
              "      <button class=\"colab-df-convert\" onclick=\"convertToInteractive('df-ea9e5775-109f-4156-9865-262e7354f644')\"\n",
              "              title=\"Convert this dataframe to an interactive table.\"\n",
              "              style=\"display:none;\">\n",
              "        \n",
              "  <svg xmlns=\"http://www.w3.org/2000/svg\" height=\"24px\"viewBox=\"0 0 24 24\"\n",
              "       width=\"24px\">\n",
              "    <path d=\"M0 0h24v24H0V0z\" fill=\"none\"/>\n",
              "    <path d=\"M18.56 5.44l.94 2.06.94-2.06 2.06-.94-2.06-.94-.94-2.06-.94 2.06-2.06.94zm-11 1L8.5 8.5l.94-2.06 2.06-.94-2.06-.94L8.5 2.5l-.94 2.06-2.06.94zm10 10l.94 2.06.94-2.06 2.06-.94-2.06-.94-.94-2.06-.94 2.06-2.06.94z\"/><path d=\"M17.41 7.96l-1.37-1.37c-.4-.4-.92-.59-1.43-.59-.52 0-1.04.2-1.43.59L10.3 9.45l-7.72 7.72c-.78.78-.78 2.05 0 2.83L4 21.41c.39.39.9.59 1.41.59.51 0 1.02-.2 1.41-.59l7.78-7.78 2.81-2.81c.8-.78.8-2.07 0-2.86zM5.41 20L4 18.59l7.72-7.72 1.47 1.35L5.41 20z\"/>\n",
              "  </svg>\n",
              "      </button>\n",
              "      \n",
              "  <style>\n",
              "    .colab-df-container {\n",
              "      display:flex;\n",
              "      flex-wrap:wrap;\n",
              "      gap: 12px;\n",
              "    }\n",
              "\n",
              "    .colab-df-convert {\n",
              "      background-color: #E8F0FE;\n",
              "      border: none;\n",
              "      border-radius: 50%;\n",
              "      cursor: pointer;\n",
              "      display: none;\n",
              "      fill: #1967D2;\n",
              "      height: 32px;\n",
              "      padding: 0 0 0 0;\n",
              "      width: 32px;\n",
              "    }\n",
              "\n",
              "    .colab-df-convert:hover {\n",
              "      background-color: #E2EBFA;\n",
              "      box-shadow: 0px 1px 2px rgba(60, 64, 67, 0.3), 0px 1px 3px 1px rgba(60, 64, 67, 0.15);\n",
              "      fill: #174EA6;\n",
              "    }\n",
              "\n",
              "    [theme=dark] .colab-df-convert {\n",
              "      background-color: #3B4455;\n",
              "      fill: #D2E3FC;\n",
              "    }\n",
              "\n",
              "    [theme=dark] .colab-df-convert:hover {\n",
              "      background-color: #434B5C;\n",
              "      box-shadow: 0px 1px 3px 1px rgba(0, 0, 0, 0.15);\n",
              "      filter: drop-shadow(0px 1px 2px rgba(0, 0, 0, 0.3));\n",
              "      fill: #FFFFFF;\n",
              "    }\n",
              "  </style>\n",
              "\n",
              "      <script>\n",
              "        const buttonEl =\n",
              "          document.querySelector('#df-ea9e5775-109f-4156-9865-262e7354f644 button.colab-df-convert');\n",
              "        buttonEl.style.display =\n",
              "          google.colab.kernel.accessAllowed ? 'block' : 'none';\n",
              "\n",
              "        async function convertToInteractive(key) {\n",
              "          const element = document.querySelector('#df-ea9e5775-109f-4156-9865-262e7354f644');\n",
              "          const dataTable =\n",
              "            await google.colab.kernel.invokeFunction('convertToInteractive',\n",
              "                                                     [key], {});\n",
              "          if (!dataTable) return;\n",
              "\n",
              "          const docLinkHtml = 'Like what you see? Visit the ' +\n",
              "            '<a target=\"_blank\" href=https://colab.research.google.com/notebooks/data_table.ipynb>data table notebook</a>'\n",
              "            + ' to learn more about interactive tables.';\n",
              "          element.innerHTML = '';\n",
              "          dataTable['output_type'] = 'display_data';\n",
              "          await google.colab.output.renderOutput(dataTable, element);\n",
              "          const docLink = document.createElement('div');\n",
              "          docLink.innerHTML = docLinkHtml;\n",
              "          element.appendChild(docLink);\n",
              "        }\n",
              "      </script>\n",
              "    </div>\n",
              "  </div>\n",
              "  "
            ]
          },
          "metadata": {},
          "execution_count": 54
        }
      ]
    },
    {
      "cell_type": "code",
      "source": [
        "y2=data4_iqr.copy()"
      ],
      "metadata": {
        "id": "_K51SsPLQ46S"
      },
      "execution_count": 55,
      "outputs": []
    },
    {
      "cell_type": "code",
      "source": [
        "#convertir a archivo xlsx\n",
        "y2.to_excel(\"consumer_Sin_Outliers.xlsx\")"
      ],
      "metadata": {
        "id": "ZiRnMil_Q5ha"
      },
      "execution_count": 56,
      "outputs": []
    },
    {
      "cell_type": "code",
      "source": [
        "#descargar archivo filtrado en xlsx\n",
        "from google.colab import files \n",
        "  \n",
        "files.download(\"consumer_Sin_Outliers.xlsx\")"
      ],
      "metadata": {
        "id": "XQoIrAIkRXmV",
        "outputId": "71ee4fab-75af-4ea1-c70e-2ece540e7d71",
        "colab": {
          "base_uri": "https://localhost:8080/",
          "height": 17
        }
      },
      "execution_count": 59,
      "outputs": [
        {
          "output_type": "display_data",
          "data": {
            "text/plain": [
              "<IPython.core.display.Javascript object>"
            ],
            "application/javascript": [
              "\n",
              "    async function download(id, filename, size) {\n",
              "      if (!google.colab.kernel.accessAllowed) {\n",
              "        return;\n",
              "      }\n",
              "      const div = document.createElement('div');\n",
              "      const label = document.createElement('label');\n",
              "      label.textContent = `Downloading \"${filename}\": `;\n",
              "      div.appendChild(label);\n",
              "      const progress = document.createElement('progress');\n",
              "      progress.max = size;\n",
              "      div.appendChild(progress);\n",
              "      document.body.appendChild(div);\n",
              "\n",
              "      const buffers = [];\n",
              "      let downloaded = 0;\n",
              "\n",
              "      const channel = await google.colab.kernel.comms.open(id);\n",
              "      // Send a message to notify the kernel that we're ready.\n",
              "      channel.send({})\n",
              "\n",
              "      for await (const message of channel.messages) {\n",
              "        // Send a message to notify the kernel that we're ready.\n",
              "        channel.send({})\n",
              "        if (message.buffers) {\n",
              "          for (const buffer of message.buffers) {\n",
              "            buffers.push(buffer);\n",
              "            downloaded += buffer.byteLength;\n",
              "            progress.value = downloaded;\n",
              "          }\n",
              "        }\n",
              "      }\n",
              "      const blob = new Blob(buffers, {type: 'application/binary'});\n",
              "      const a = document.createElement('a');\n",
              "      a.href = window.URL.createObjectURL(blob);\n",
              "      a.download = filename;\n",
              "      div.appendChild(a);\n",
              "      a.click();\n",
              "      div.remove();\n",
              "    }\n",
              "  "
            ]
          },
          "metadata": {}
        },
        {
          "output_type": "display_data",
          "data": {
            "text/plain": [
              "<IPython.core.display.Javascript object>"
            ],
            "application/javascript": [
              "download(\"download_5005aeb5-ef92-45c6-bacf-92a787ec66fe\", \"consumer_Sin_Outliers.xlsx\", 10819)"
            ]
          },
          "metadata": {}
        }
      ]
    }
  ]
}