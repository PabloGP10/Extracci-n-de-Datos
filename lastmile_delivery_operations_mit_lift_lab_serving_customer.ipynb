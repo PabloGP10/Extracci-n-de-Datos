{
  "nbformat": 4,
  "nbformat_minor": 0,
  "metadata": {
    "colab": {
      "provenance": [],
      "include_colab_link": true
    },
    "kernelspec": {
      "name": "python3",
      "display_name": "Python 3"
    },
    "language_info": {
      "name": "python"
    }
  },
  "cells": [
    {
      "cell_type": "markdown",
      "metadata": {
        "id": "view-in-github",
        "colab_type": "text"
      },
      "source": [
        "<a href=\"https://colab.research.google.com/github/PabloGP10/Extracci-n-de-Datos/blob/main/lastmile_delivery_operations_mit_lift_lab_serving_customer.ipynb\" target=\"_parent\"><img src=\"https://colab.research.google.com/assets/colab-badge.svg\" alt=\"Open In Colab\"/></a>"
      ]
    },
    {
      "cell_type": "code",
      "execution_count": 1,
      "metadata": {
        "id": "SLSmsGwKb0dm"
      },
      "outputs": [],
      "source": [
        "#Importamos las librerias pandas, numpy y matplotlib respectivamente\n",
        "import pandas as pd\n",
        "import numpy as np\n",
        "import matplotlib.pyplot as plt\n"
      ]
    },
    {
      "cell_type": "code",
      "source": [
        "#Cargar archivo csv desde equipo\n",
        "from google.colab import files\n",
        "files.upload()"
      ],
      "metadata": {
        "id": "pjRT3eBZCzIE"
      },
      "execution_count": null,
      "outputs": []
    },
    {
      "cell_type": "code",
      "source": [
        "#Carga desde un archivo .csv sin indice\n",
        "data = pd.read_csv('lastmile_delivery_operations_mit_lift_lab_serving_customer.csv')\n",
        "data.head(5)"
      ],
      "metadata": {
        "id": "P6qDmpHaCz98"
      },
      "execution_count": null,
      "outputs": []
    },
    {
      "cell_type": "code",
      "source": [
        "#Identificar valores nulos por columna\n",
        "valores_nulos=data.isnull().sum()\n",
        "valores_nulos"
      ],
      "metadata": {
        "colab": {
          "base_uri": "https://localhost:8080/"
        },
        "id": "AYrhCrciFFiB",
        "outputId": "a5ac47f4-8639-4c8f-e703-b2eda2939fc6"
      },
      "execution_count": 4,
      "outputs": [
        {
          "output_type": "execute_result",
          "data": {
            "text/plain": [
              "_child_record_id                           0\n",
              "_record_id                                 0\n",
              "_parent_id                                 0\n",
              "_title                                     0\n",
              "_version                                   0\n",
              "_created_at                                0\n",
              "_updated_at                                0\n",
              "_created_by                                0\n",
              "_updated_by                                0\n",
              "_index                                     0\n",
              "_geometry                                  0\n",
              "_latitude                                  0\n",
              "_longitude                                 0\n",
              "_changeset_id                              0\n",
              "_created_duration                          0\n",
              "_updated_duration                          0\n",
              "_edited_duration                           0\n",
              "name_of_the_store                          0\n",
              "entering_the_store                         0\n",
              "number_of_customers_in_store               0\n",
              "number_of_suppliers_in_store               0\n",
              "picture_cargo_being_delivered             10\n",
              "picture_cargo_being_delivered_captions    33\n",
              "picture_cargo_being_delivered_urls        10\n",
              "number_of_cases_boxes_delivered            0\n",
              "trolley_in_use                             0\n",
              "leaving_the_store                          0\n",
              "dtype: int64"
            ]
          },
          "metadata": {},
          "execution_count": 4
        }
      ]
    },
    {
      "cell_type": "markdown",
      "source": [
        "**Métodos de Sustitución de Valores Nulos**"
      ],
      "metadata": {
        "id": "dE4P-ouqtHIn"
      }
    },
    {
      "cell_type": "code",
      "source": [
        "#Realizamos una copia del dataframe\n",
        "data2=data.copy()"
      ],
      "metadata": {
        "id": "-SqkDypjsVSG"
      },
      "execution_count": 5,
      "outputs": []
    },
    {
      "cell_type": "code",
      "source": [
        "#Tercer método de sustitución de valores nulos\n",
        "#Sustituir valores nulos por un valor numérico en  concreto \n",
        "data2[\"picture_cargo_being_delivered\"]= data2[\"picture_cargo_being_delivered\"].fillna(10) \n",
        "data2"
      ],
      "metadata": {
        "id": "DQ0XdfRMFsp6"
      },
      "execution_count": null,
      "outputs": []
    },
    {
      "cell_type": "code",
      "source": [
        "#Corroboramos valores nulos\n",
        "valores_nulos=data2.isnull().sum()\n",
        "valores_nulos"
      ],
      "metadata": {
        "id": "qQGnh7Z_spFb",
        "outputId": "363b3756-9a13-4422-a06f-27befe77c2eb",
        "colab": {
          "base_uri": "https://localhost:8080/"
        }
      },
      "execution_count": 7,
      "outputs": [
        {
          "output_type": "execute_result",
          "data": {
            "text/plain": [
              "_child_record_id                           0\n",
              "_record_id                                 0\n",
              "_parent_id                                 0\n",
              "_title                                     0\n",
              "_version                                   0\n",
              "_created_at                                0\n",
              "_updated_at                                0\n",
              "_created_by                                0\n",
              "_updated_by                                0\n",
              "_index                                     0\n",
              "_geometry                                  0\n",
              "_latitude                                  0\n",
              "_longitude                                 0\n",
              "_changeset_id                              0\n",
              "_created_duration                          0\n",
              "_updated_duration                          0\n",
              "_edited_duration                           0\n",
              "name_of_the_store                          0\n",
              "entering_the_store                         0\n",
              "number_of_customers_in_store               0\n",
              "number_of_suppliers_in_store               0\n",
              "picture_cargo_being_delivered              0\n",
              "picture_cargo_being_delivered_captions    33\n",
              "picture_cargo_being_delivered_urls        10\n",
              "number_of_cases_boxes_delivered            0\n",
              "trolley_in_use                             0\n",
              "leaving_the_store                          0\n",
              "dtype: int64"
            ]
          },
          "metadata": {},
          "execution_count": 7
        }
      ]
    },
    {
      "cell_type": "code",
      "source": [
        "#Sustituir valores nulos por valores no nulos hacia adelante forward fill\" (\"ffill\")\n",
        "#Filtro por columnas\n",
        "data2[\"picture_cargo_being_delivered_captions\"] =data2[\"picture_cargo_being_delivered_captions\"].fillna(method=\"ffill\")"
      ],
      "metadata": {
        "id": "BW00UUlkGg8o"
      },
      "execution_count": 8,
      "outputs": []
    },
    {
      "cell_type": "code",
      "source": [
        "#Corroboramos valores nulos\n",
        "valores_nulos=data2.isnull().sum()\n",
        "valores_nulos"
      ],
      "metadata": {
        "colab": {
          "base_uri": "https://localhost:8080/"
        },
        "id": "QUfmECLlGw5k",
        "outputId": "15eaf178-f407-411f-d6e9-e863a6ad322c"
      },
      "execution_count": 9,
      "outputs": [
        {
          "output_type": "execute_result",
          "data": {
            "text/plain": [
              "_child_record_id                           0\n",
              "_record_id                                 0\n",
              "_parent_id                                 0\n",
              "_title                                     0\n",
              "_version                                   0\n",
              "_created_at                                0\n",
              "_updated_at                                0\n",
              "_created_by                                0\n",
              "_updated_by                                0\n",
              "_index                                     0\n",
              "_geometry                                  0\n",
              "_latitude                                  0\n",
              "_longitude                                 0\n",
              "_changeset_id                              0\n",
              "_created_duration                          0\n",
              "_updated_duration                          0\n",
              "_edited_duration                           0\n",
              "name_of_the_store                          0\n",
              "entering_the_store                         0\n",
              "number_of_customers_in_store               0\n",
              "number_of_suppliers_in_store               0\n",
              "picture_cargo_being_delivered              0\n",
              "picture_cargo_being_delivered_captions     0\n",
              "picture_cargo_being_delivered_urls        10\n",
              "number_of_cases_boxes_delivered            0\n",
              "trolley_in_use                             0\n",
              "leaving_the_store                          0\n",
              "dtype: int64"
            ]
          },
          "metadata": {},
          "execution_count": 9
        }
      ]
    },
    {
      "cell_type": "code",
      "source": [
        "#Tercer método de sustitución de valores nulos\n",
        "#Sustituir valores nulos por un valor numérico en  concreto \n",
        "data2[\"picture_cargo_being_delivered_urls\"]= data2[\"picture_cargo_being_delivered_urls\"].fillna(10) \n",
        "data2"
      ],
      "metadata": {
        "id": "DJ3bw-jjICzY"
      },
      "execution_count": null,
      "outputs": []
    },
    {
      "cell_type": "code",
      "source": [
        "#Corroboramos valores nulos\n",
        "valores_nulos=data2.isnull().sum()\n",
        "valores_nulos"
      ],
      "metadata": {
        "colab": {
          "base_uri": "https://localhost:8080/"
        },
        "id": "MA8EqiyCIts_",
        "outputId": "eb5c0736-83b2-49c6-d81a-3f3d48c60a35"
      },
      "execution_count": 11,
      "outputs": [
        {
          "output_type": "execute_result",
          "data": {
            "text/plain": [
              "_child_record_id                          0\n",
              "_record_id                                0\n",
              "_parent_id                                0\n",
              "_title                                    0\n",
              "_version                                  0\n",
              "_created_at                               0\n",
              "_updated_at                               0\n",
              "_created_by                               0\n",
              "_updated_by                               0\n",
              "_index                                    0\n",
              "_geometry                                 0\n",
              "_latitude                                 0\n",
              "_longitude                                0\n",
              "_changeset_id                             0\n",
              "_created_duration                         0\n",
              "_updated_duration                         0\n",
              "_edited_duration                          0\n",
              "name_of_the_store                         0\n",
              "entering_the_store                        0\n",
              "number_of_customers_in_store              0\n",
              "number_of_suppliers_in_store              0\n",
              "picture_cargo_being_delivered             0\n",
              "picture_cargo_being_delivered_captions    0\n",
              "picture_cargo_being_delivered_urls        0\n",
              "number_of_cases_boxes_delivered           0\n",
              "trolley_in_use                            0\n",
              "leaving_the_store                         0\n",
              "dtype: int64"
            ]
          },
          "metadata": {},
          "execution_count": 11
        }
      ]
    },
    {
      "cell_type": "markdown",
      "source": [
        "**Método de Eliminación de valores nulos**"
      ],
      "metadata": {
        "id": "AElvPY4nyJOx"
      }
    },
    {
      "cell_type": "code",
      "source": [
        "#Identificar valores nulos por columna\n",
        "valores_nulos=data2.isnull().sum()\n",
        "valores_nulos"
      ],
      "metadata": {
        "id": "kN35CtlLyOKg",
        "colab": {
          "base_uri": "https://localhost:8080/"
        },
        "outputId": "48745e50-441b-490d-fbb5-0538f233faac"
      },
      "execution_count": null,
      "outputs": [
        {
          "output_type": "execute_result",
          "data": {
            "text/plain": [
              "_child_record_id                          0\n",
              "_record_id                                0\n",
              "_parent_id                                0\n",
              "_title                                    0\n",
              "_version                                  0\n",
              "_created_at                               0\n",
              "_updated_at                               0\n",
              "_created_by                               0\n",
              "_updated_by                               0\n",
              "_index                                    0\n",
              "_geometry                                 0\n",
              "_latitude                                 0\n",
              "_longitude                                0\n",
              "_changeset_id                             0\n",
              "_created_duration                         0\n",
              "_updated_duration                         0\n",
              "_edited_duration                          0\n",
              "name_of_the_store                         0\n",
              "entering_the_store                        0\n",
              "number_of_customers_in_store              0\n",
              "number_of_suppliers_in_store              0\n",
              "picture_cargo_being_delivered             0\n",
              "picture_cargo_being_delivered_captions    0\n",
              "picture_cargo_being_delivered_urls        0\n",
              "number_of_cases_boxes_delivered           0\n",
              "trolley_in_use                            0\n",
              "leaving_the_store                         0\n",
              "dtype: int64"
            ]
          },
          "metadata": {},
          "execution_count": 15
        }
      ]
    },
    {
      "cell_type": "code",
      "source": [
        "#Realizamos una copia del dataframe\n",
        "data3=data.copy()"
      ],
      "metadata": {
        "id": "4tNYCv10yn9V"
      },
      "execution_count": null,
      "outputs": []
    },
    {
      "cell_type": "code",
      "source": [
        "#Eliminamos filas con nulos\n",
        "data4= data2.dropna(0)\n",
        "data4"
      ],
      "metadata": {
        "id": "6g8PDgqRyssZ"
      },
      "execution_count": null,
      "outputs": []
    },
    {
      "cell_type": "code",
      "source": [
        "#Identificar valores nulos por columna\n",
        "valores_nulos=data4.isnull().sum()\n",
        "valores_nulos"
      ],
      "metadata": {
        "id": "M3TAKt_ayxVo",
        "colab": {
          "base_uri": "https://localhost:8080/"
        },
        "outputId": "d9e17c03-2a1b-4dd8-f3b1-28e648bc8bf3"
      },
      "execution_count": null,
      "outputs": [
        {
          "output_type": "execute_result",
          "data": {
            "text/plain": [
              "_child_record_id                          0\n",
              "_record_id                                0\n",
              "_parent_id                                0\n",
              "_title                                    0\n",
              "_version                                  0\n",
              "_created_at                               0\n",
              "_updated_at                               0\n",
              "_created_by                               0\n",
              "_updated_by                               0\n",
              "_index                                    0\n",
              "_geometry                                 0\n",
              "_latitude                                 0\n",
              "_longitude                                0\n",
              "_changeset_id                             0\n",
              "_created_duration                         0\n",
              "_updated_duration                         0\n",
              "_edited_duration                          0\n",
              "name_of_the_store                         0\n",
              "entering_the_store                        0\n",
              "number_of_customers_in_store              0\n",
              "number_of_suppliers_in_store              0\n",
              "picture_cargo_being_delivered             0\n",
              "picture_cargo_being_delivered_captions    0\n",
              "picture_cargo_being_delivered_urls        0\n",
              "number_of_cases_boxes_delivered           0\n",
              "trolley_in_use                            0\n",
              "leaving_the_store                         0\n",
              "dtype: int64"
            ]
          },
          "metadata": {},
          "execution_count": 18
        }
      ]
    },
    {
      "cell_type": "code",
      "source": [
        "#Convertir DataFrame a CSV\n",
        "data2.to_csv(\"serving_sin_nulos.csv\")"
      ],
      "metadata": {
        "id": "hWvJohzDUhuh"
      },
      "execution_count": 23,
      "outputs": []
    },
    {
      "cell_type": "code",
      "source": [
        "#descargar archivo filtrado en csv\n",
        "from google.colab import files \n",
        "  \n",
        "  \n",
        "files.download(\"serving_sin_nulos.csv\")"
      ],
      "metadata": {
        "id": "h9ZIPosRUrfv",
        "outputId": "c259c878-69dd-487f-b772-9eb8031d138f",
        "colab": {
          "base_uri": "https://localhost:8080/",
          "height": 17
        }
      },
      "execution_count": 24,
      "outputs": [
        {
          "output_type": "display_data",
          "data": {
            "text/plain": [
              "<IPython.core.display.Javascript object>"
            ],
            "application/javascript": [
              "\n",
              "    async function download(id, filename, size) {\n",
              "      if (!google.colab.kernel.accessAllowed) {\n",
              "        return;\n",
              "      }\n",
              "      const div = document.createElement('div');\n",
              "      const label = document.createElement('label');\n",
              "      label.textContent = `Downloading \"${filename}\": `;\n",
              "      div.appendChild(label);\n",
              "      const progress = document.createElement('progress');\n",
              "      progress.max = size;\n",
              "      div.appendChild(progress);\n",
              "      document.body.appendChild(div);\n",
              "\n",
              "      const buffers = [];\n",
              "      let downloaded = 0;\n",
              "\n",
              "      const channel = await google.colab.kernel.comms.open(id);\n",
              "      // Send a message to notify the kernel that we're ready.\n",
              "      channel.send({})\n",
              "\n",
              "      for await (const message of channel.messages) {\n",
              "        // Send a message to notify the kernel that we're ready.\n",
              "        channel.send({})\n",
              "        if (message.buffers) {\n",
              "          for (const buffer of message.buffers) {\n",
              "            buffers.push(buffer);\n",
              "            downloaded += buffer.byteLength;\n",
              "            progress.value = downloaded;\n",
              "          }\n",
              "        }\n",
              "      }\n",
              "      const blob = new Blob(buffers, {type: 'application/binary'});\n",
              "      const a = document.createElement('a');\n",
              "      a.href = window.URL.createObjectURL(blob);\n",
              "      a.download = filename;\n",
              "      div.appendChild(a);\n",
              "      a.click();\n",
              "      div.remove();\n",
              "    }\n",
              "  "
            ]
          },
          "metadata": {}
        },
        {
          "output_type": "display_data",
          "data": {
            "text/plain": [
              "<IPython.core.display.Javascript object>"
            ],
            "application/javascript": [
              "download(\"download_2fd332f7-750e-4786-9f0f-d993e6b29c24\", \"serving_sin_nulos.csv\", 21718)"
            ]
          },
          "metadata": {}
        }
      ]
    },
    {
      "cell_type": "markdown",
      "source": [
        "**OUTLIERS**\n"
      ],
      "metadata": {
        "id": "iJOmPqBdy1b_"
      }
    },
    {
      "cell_type": "code",
      "source": [
        "y=data\n"
      ],
      "metadata": {
        "id": "l3D_1BK3y0yn"
      },
      "execution_count": 12,
      "outputs": []
    },
    {
      "cell_type": "code",
      "source": [
        "#Identificamos las variables no numéricas para eliminar columnas incecesarias \n",
        "#Verificamos información del DataFrame\n",
        "y.info(27)"
      ],
      "metadata": {
        "id": "3veMjVBnzE2Z",
        "outputId": "9b066792-7a39-4384-8f1f-7c310adf80a0",
        "colab": {
          "base_uri": "https://localhost:8080/"
        }
      },
      "execution_count": 14,
      "outputs": [
        {
          "output_type": "stream",
          "name": "stdout",
          "text": [
            "<class 'pandas.core.frame.DataFrame'>\n",
            "RangeIndex: 35 entries, 0 to 34\n",
            "Data columns (total 27 columns):\n",
            " #   Column                                  Non-Null Count  Dtype  \n",
            "---  ------                                  --------------  -----  \n",
            " 0   _child_record_id                        35 non-null     object \n",
            " 1   _record_id                              35 non-null     object \n",
            " 2   _parent_id                              35 non-null     object \n",
            " 3   _title                                  35 non-null     object \n",
            " 4   _version                                35 non-null     int64  \n",
            " 5   _created_at                             35 non-null     object \n",
            " 6   _updated_at                             35 non-null     object \n",
            " 7   _created_by                             35 non-null     object \n",
            " 8   _updated_by                             35 non-null     object \n",
            " 9   _index                                  35 non-null     int64  \n",
            " 10  _geometry                               35 non-null     object \n",
            " 11  _latitude                               35 non-null     float64\n",
            " 12  _longitude                              35 non-null     float64\n",
            " 13  _changeset_id                           35 non-null     object \n",
            " 14  _created_duration                       35 non-null     int64  \n",
            " 15  _updated_duration                       35 non-null     int64  \n",
            " 16  _edited_duration                        35 non-null     int64  \n",
            " 17  name_of_the_store                       35 non-null     object \n",
            " 18  entering_the_store                      35 non-null     object \n",
            " 19  number_of_customers_in_store            35 non-null     int64  \n",
            " 20  number_of_suppliers_in_store            35 non-null     int64  \n",
            " 21  picture_cargo_being_delivered           25 non-null     object \n",
            " 22  picture_cargo_being_delivered_captions  2 non-null      object \n",
            " 23  picture_cargo_being_delivered_urls      25 non-null     object \n",
            " 24  number_of_cases_boxes_delivered         35 non-null     int64  \n",
            " 25  trolley_in_use                          35 non-null     object \n",
            " 26  leaving_the_store                       35 non-null     object \n",
            "dtypes: float64(2), int64(8), object(17)\n",
            "memory usage: 7.5+ KB\n"
          ]
        }
      ]
    },
    {
      "cell_type": "code",
      "source": [
        "#aplicamos filtro de columnas para filtrar las columnas con variables numéricas (se descartaron las columnas que muestran números de telofóno y las coordenadas) \n",
        "y1=y.iloc[:,[4,9,11,12,14,15,16,19,20,24,]]#columnas no consecutivas\n",
        "y1"
      ],
      "metadata": {
        "id": "wMmCbeZ_Tp2j"
      },
      "execution_count": null,
      "outputs": []
    },
    {
      "cell_type": "code",
      "source": [
        "#Método aplicando Cuartiles. Encuentro cuartiles 0.25 y 0.75\n",
        "y=y1\n",
        "\n",
        "percentile25=y.quantile(0.25) #Q1\n",
        "percentile75=y.quantile(0.75) #Q3\n",
        "iqr= percentile75 - percentile25\n",
        "\n",
        "Limite_Superior_iqr= percentile75 + 1.5*iqr\n",
        "Limite_Inferior_iqr= percentile25 - 1.5*iqr\n",
        "print(\"Limite superior permitido\", Limite_Superior_iqr)\n",
        "print(\"Limite inferior permitido\", Limite_Inferior_iqr)"
      ],
      "metadata": {
        "id": "07NUrtGPT-T-"
      },
      "execution_count": null,
      "outputs": []
    },
    {
      "cell_type": "code",
      "source": [
        "#Encontramos Outliers del Dataframe\n",
        "outliers_iqr= y1[(y>Limite_Superior_iqr)|(y<Limite_Inferior_iqr)]\n",
        "outliers_iqr"
      ],
      "metadata": {
        "id": "r5Nc0mwXUDO5"
      },
      "execution_count": null,
      "outputs": []
    },
    {
      "cell_type": "code",
      "source": [
        "#Obtenemos datos limpios del Dataframe\n",
        "data3_iqr= y1[(y<=Limite_Superior_iqr)&(y>=Limite_Inferior_iqr)]\n",
        "data3_iqr"
      ],
      "metadata": {
        "id": "MF8GI-J9UInh"
      },
      "execution_count": null,
      "outputs": []
    },
    {
      "cell_type": "code",
      "source": [
        "#Corroboramos valores nulos del dataframe LIMPIO\n",
        "valores_nulos=data3_iqr.isnull().sum()\n",
        "valores_nulos"
      ],
      "metadata": {
        "id": "xrX0MgHqUL5T",
        "outputId": "24ecf80a-ee8b-437e-d389-973a7303e612",
        "colab": {
          "base_uri": "https://localhost:8080/"
        }
      },
      "execution_count": 20,
      "outputs": [
        {
          "output_type": "execute_result",
          "data": {
            "text/plain": [
              "_version                           0\n",
              "_index                             0\n",
              "_latitude                          1\n",
              "_longitude                         1\n",
              "_created_duration                  8\n",
              "_updated_duration                  4\n",
              "_edited_duration                   4\n",
              "number_of_customers_in_store       2\n",
              "number_of_suppliers_in_store       1\n",
              "number_of_cases_boxes_delivered    3\n",
              "dtype: int64"
            ]
          },
          "metadata": {},
          "execution_count": 20
        }
      ]
    },
    {
      "cell_type": "code",
      "source": [
        "#Reemplazamos valores atípicos (nulos) del dataframe con \"mean\"\n",
        "#Realizamos una copia del dataframe\n",
        "data4_iqr=data3_iqr.copy()\n",
        "data4_iqr=data4_iqr.fillna(round(data3_iqr.mean(),1))\n",
        "data4_iqr"
      ],
      "metadata": {
        "id": "gClWT5d1UNQ8"
      },
      "execution_count": null,
      "outputs": []
    },
    {
      "cell_type": "code",
      "source": [
        "y2=data4_iqr.copy()"
      ],
      "metadata": {
        "id": "8KqmMs6dUSqn"
      },
      "execution_count": 22,
      "outputs": []
    },
    {
      "cell_type": "markdown",
      "source": [
        "**Convertir DataSet a CSV**"
      ],
      "metadata": {
        "id": "lMT-W0FgyTX5"
      }
    },
    {
      "cell_type": "code",
      "source": [
        "#Convertir DataFrame a CSV\n",
        "y2.to_csv(\"serving_sin_OUTLIERS.csv\")"
      ],
      "metadata": {
        "id": "2sxs1vt-yYgi"
      },
      "execution_count": 25,
      "outputs": []
    },
    {
      "cell_type": "code",
      "source": [
        "#descargar archivo filtrado en csv\n",
        "from google.colab import files \n",
        "  \n",
        "  \n",
        "files.download(\"serving_sin_OUTLIERS.csv\")"
      ],
      "metadata": {
        "id": "g4w-mDCdzcH7",
        "outputId": "a532dc1d-05a5-4227-dd9d-ffea5552a87b",
        "colab": {
          "base_uri": "https://localhost:8080/",
          "height": 17
        }
      },
      "execution_count": 26,
      "outputs": [
        {
          "output_type": "display_data",
          "data": {
            "text/plain": [
              "<IPython.core.display.Javascript object>"
            ],
            "application/javascript": [
              "\n",
              "    async function download(id, filename, size) {\n",
              "      if (!google.colab.kernel.accessAllowed) {\n",
              "        return;\n",
              "      }\n",
              "      const div = document.createElement('div');\n",
              "      const label = document.createElement('label');\n",
              "      label.textContent = `Downloading \"${filename}\": `;\n",
              "      div.appendChild(label);\n",
              "      const progress = document.createElement('progress');\n",
              "      progress.max = size;\n",
              "      div.appendChild(progress);\n",
              "      document.body.appendChild(div);\n",
              "\n",
              "      const buffers = [];\n",
              "      let downloaded = 0;\n",
              "\n",
              "      const channel = await google.colab.kernel.comms.open(id);\n",
              "      // Send a message to notify the kernel that we're ready.\n",
              "      channel.send({})\n",
              "\n",
              "      for await (const message of channel.messages) {\n",
              "        // Send a message to notify the kernel that we're ready.\n",
              "        channel.send({})\n",
              "        if (message.buffers) {\n",
              "          for (const buffer of message.buffers) {\n",
              "            buffers.push(buffer);\n",
              "            downloaded += buffer.byteLength;\n",
              "            progress.value = downloaded;\n",
              "          }\n",
              "        }\n",
              "      }\n",
              "      const blob = new Blob(buffers, {type: 'application/binary'});\n",
              "      const a = document.createElement('a');\n",
              "      a.href = window.URL.createObjectURL(blob);\n",
              "      a.download = filename;\n",
              "      div.appendChild(a);\n",
              "      a.click();\n",
              "      div.remove();\n",
              "    }\n",
              "  "
            ]
          },
          "metadata": {}
        },
        {
          "output_type": "display_data",
          "data": {
            "text/plain": [
              "<IPython.core.display.Javascript object>"
            ],
            "application/javascript": [
              "download(\"download_28ae0ccd-a025-4ec8-aa5f-81f06cda9b59\", \"serving_sin_OUTLIERS.csv\", 2165)"
            ]
          },
          "metadata": {}
        }
      ]
    }
  ]
}